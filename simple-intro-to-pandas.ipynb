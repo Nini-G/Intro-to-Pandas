{
 "cells": [
  {
   "cell_type": "code",
   "execution_count": 1,
   "id": "fe30e656",
   "metadata": {
    "_cell_guid": "b1076dfc-b9ad-4769-8c92-a6c4dae69d19",
    "_uuid": "8f2839f25d086af736a60e9eeb907d3b93b6e0e5",
    "execution": {
     "iopub.execute_input": "2022-06-09T01:46:51.541124Z",
     "iopub.status.busy": "2022-06-09T01:46:51.540409Z",
     "iopub.status.idle": "2022-06-09T01:46:51.606300Z",
     "shell.execute_reply": "2022-06-09T01:46:51.596414Z"
    },
    "papermill": {
     "duration": 0.128688,
     "end_time": "2022-06-09T01:46:51.608885",
     "exception": false,
     "start_time": "2022-06-09T01:46:51.480197",
     "status": "completed"
    },
    "tags": []
   },
   "outputs": [
    {
     "name": "stdout",
     "output_type": "stream",
     "text": [
      "/kaggle/input/mr-beast-youtube-video-statistics/MrBeast_youtube_stats.csv\n",
      "/kaggle/input/mr-beast-youtube-video-statistics/thumbnails/HBMmK1c44sE.jpg\n",
      "/kaggle/input/mr-beast-youtube-video-statistics/thumbnails/Ims5p6wjW9s.jpg\n",
      "/kaggle/input/mr-beast-youtube-video-statistics/thumbnails/vp5sSqyZ5Go.jpg\n",
      "/kaggle/input/mr-beast-youtube-video-statistics/thumbnails/Pe3pGsCeYXg.jpg\n",
      "/kaggle/input/mr-beast-youtube-video-statistics/thumbnails/3ix_gbcubTo.jpg\n",
      "/kaggle/input/mr-beast-youtube-video-statistics/thumbnails/nM89Wl03Q4g.jpg\n",
      "/kaggle/input/mr-beast-youtube-video-statistics/thumbnails/0e3GPea1Tyg.jpg\n",
      "/kaggle/input/mr-beast-youtube-video-statistics/thumbnails/wDqJZ_2ZA3A.jpg\n",
      "/kaggle/input/mr-beast-youtube-video-statistics/thumbnails/t8aM4HuVLrQ.jpg\n",
      "/kaggle/input/mr-beast-youtube-video-statistics/thumbnails/oI6aXhowFDY.jpg\n",
      "/kaggle/input/mr-beast-youtube-video-statistics/thumbnails/Lx9fRu5ehFo.jpg\n",
      "/kaggle/input/mr-beast-youtube-video-statistics/thumbnails/RCvnytndd9c.jpg\n",
      "/kaggle/input/mr-beast-youtube-video-statistics/thumbnails/TDiXxsQ0w2Q.jpg\n",
      "/kaggle/input/mr-beast-youtube-video-statistics/thumbnails/D9lVNzyhYnc.jpg\n",
      "/kaggle/input/mr-beast-youtube-video-statistics/thumbnails/A-vX1AGBGsc.jpg\n",
      "/kaggle/input/mr-beast-youtube-video-statistics/thumbnails/ha4tRQwKIUg.jpg\n",
      "/kaggle/input/mr-beast-youtube-video-statistics/thumbnails/yeqARWqjkps.jpg\n",
      "/kaggle/input/mr-beast-youtube-video-statistics/thumbnails/0hVZOJCYBBM.jpg\n",
      "/kaggle/input/mr-beast-youtube-video-statistics/thumbnails/3TflpIllQHY.jpg\n",
      "/kaggle/input/mr-beast-youtube-video-statistics/thumbnails/yUXIx2l8kko.jpg\n",
      "/kaggle/input/mr-beast-youtube-video-statistics/thumbnails/9-HphHIJS9c.jpg\n",
      "/kaggle/input/mr-beast-youtube-video-statistics/thumbnails/LeYsRMZFUq0.jpg\n",
      "/kaggle/input/mr-beast-youtube-video-statistics/thumbnails/ORUX1lHbOa8.jpg\n",
      "/kaggle/input/mr-beast-youtube-video-statistics/thumbnails/d1010B3sKNQ.jpg\n",
      "/kaggle/input/mr-beast-youtube-video-statistics/thumbnails/r7zJ8srwwjk.jpg\n",
      "/kaggle/input/mr-beast-youtube-video-statistics/thumbnails/YQDDm9HLkV4.jpg\n",
      "/kaggle/input/mr-beast-youtube-video-statistics/thumbnails/XE9pUM9MEFA.jpg\n",
      "/kaggle/input/mr-beast-youtube-video-statistics/thumbnails/9zFfp3gzZ88.jpg\n",
      "/kaggle/input/mr-beast-youtube-video-statistics/thumbnails/anZbhN0Wh_4.jpg\n",
      "/kaggle/input/mr-beast-youtube-video-statistics/thumbnails/moMJjt5KECc.jpg\n",
      "/kaggle/input/mr-beast-youtube-video-statistics/thumbnails/tYHTVjfShOA.jpg\n",
      "/kaggle/input/mr-beast-youtube-video-statistics/thumbnails/DoIQMkoYSzw.jpg\n",
      "/kaggle/input/mr-beast-youtube-video-statistics/thumbnails/cExLQ1o2pDw.jpg\n",
      "/kaggle/input/mr-beast-youtube-video-statistics/thumbnails/urtFrxDUV6c.jpg\n",
      "/kaggle/input/mr-beast-youtube-video-statistics/thumbnails/IoZri9hq7z4.jpg\n",
      "/kaggle/input/mr-beast-youtube-video-statistics/thumbnails/PJyWmlWNor8.jpg\n",
      "/kaggle/input/mr-beast-youtube-video-statistics/thumbnails/9yrdFAJUSaU.jpg\n",
      "/kaggle/input/mr-beast-youtube-video-statistics/thumbnails/gKVZz4kcuns.jpg\n",
      "/kaggle/input/mr-beast-youtube-video-statistics/thumbnails/qZNxvnQv0h4.jpg\n",
      "/kaggle/input/mr-beast-youtube-video-statistics/thumbnails/dBxOYE2j55U.jpg\n",
      "/kaggle/input/mr-beast-youtube-video-statistics/thumbnails/AKJfakEsgy0.jpg\n",
      "/kaggle/input/mr-beast-youtube-video-statistics/thumbnails/NkE0AMGzpJY.jpg\n",
      "/kaggle/input/mr-beast-youtube-video-statistics/thumbnails/zxYjTTXc-J8.jpg\n",
      "/kaggle/input/mr-beast-youtube-video-statistics/thumbnails/Y74b7WlcEpk.jpg\n",
      "/kaggle/input/mr-beast-youtube-video-statistics/thumbnails/i2O6GMpNWGo.jpg\n",
      "/kaggle/input/mr-beast-youtube-video-statistics/thumbnails/8D3vI1615K4.jpg\n",
      "/kaggle/input/mr-beast-youtube-video-statistics/thumbnails/6_im_hGxGRk.jpg\n",
      "/kaggle/input/mr-beast-youtube-video-statistics/thumbnails/59AYXzCa-Cs.jpg\n",
      "/kaggle/input/mr-beast-youtube-video-statistics/thumbnails/_uwNDiU04zE.jpg\n",
      "/kaggle/input/mr-beast-youtube-video-statistics/thumbnails/yeHjsYQ076A.jpg\n",
      "/kaggle/input/mr-beast-youtube-video-statistics/thumbnails/q0OK-zHnvnA.jpg\n",
      "/kaggle/input/mr-beast-youtube-video-statistics/thumbnails/WcwGleN38zE.jpg\n",
      "/kaggle/input/mr-beast-youtube-video-statistics/thumbnails/DuQbOQwVaNE.jpg\n",
      "/kaggle/input/mr-beast-youtube-video-statistics/thumbnails/5PCxQSMOl3o.jpg\n",
      "/kaggle/input/mr-beast-youtube-video-statistics/thumbnails/BMZP4CtphaU.jpg\n",
      "/kaggle/input/mr-beast-youtube-video-statistics/thumbnails/dFr5YQaQQdo.jpg\n",
      "/kaggle/input/mr-beast-youtube-video-statistics/thumbnails/TZPlDuYrcDQ.jpg\n",
      "/kaggle/input/mr-beast-youtube-video-statistics/thumbnails/TOcGSwJBPMQ.jpg\n",
      "/kaggle/input/mr-beast-youtube-video-statistics/thumbnails/rqUvnLPvbrM.jpg\n",
      "/kaggle/input/mr-beast-youtube-video-statistics/thumbnails/tQ4m4zD7BBA.jpg\n",
      "/kaggle/input/mr-beast-youtube-video-statistics/thumbnails/rPXmbM2UEbU.jpg\n",
      "/kaggle/input/mr-beast-youtube-video-statistics/thumbnails/IAbX0FwX-GY.jpg\n",
      "/kaggle/input/mr-beast-youtube-video-statistics/thumbnails/vETSAZgfDP4.jpg\n",
      "/kaggle/input/mr-beast-youtube-video-statistics/thumbnails/uUIlb2rpIuY.jpg\n",
      "/kaggle/input/mr-beast-youtube-video-statistics/thumbnails/GLoeAJUcz38.jpg\n",
      "/kaggle/input/mr-beast-youtube-video-statistics/thumbnails/fMfipiV_17o.jpg\n",
      "/kaggle/input/mr-beast-youtube-video-statistics/thumbnails/nuM0Z4a7kMs.jpg\n",
      "/kaggle/input/mr-beast-youtube-video-statistics/thumbnails/X7doE4h6W64.jpg\n",
      "/kaggle/input/mr-beast-youtube-video-statistics/thumbnails/w40Z8aT5fpQ.jpg\n",
      "/kaggle/input/mr-beast-youtube-video-statistics/thumbnails/OAbP-V6fEVc.jpg\n",
      "/kaggle/input/mr-beast-youtube-video-statistics/thumbnails/XKSJRulqDNA.jpg\n",
      "/kaggle/input/mr-beast-youtube-video-statistics/thumbnails/-0zoWMSEOGg.jpg\n",
      "/kaggle/input/mr-beast-youtube-video-statistics/thumbnails/52ubXjlVzUY.jpg\n",
      "/kaggle/input/mr-beast-youtube-video-statistics/thumbnails/_mdKvblL_8s.jpg\n",
      "/kaggle/input/mr-beast-youtube-video-statistics/thumbnails/hxwpkM5w3Cc.jpg\n",
      "/kaggle/input/mr-beast-youtube-video-statistics/thumbnails/ep7S1XnuQLU.jpg\n",
      "/kaggle/input/mr-beast-youtube-video-statistics/thumbnails/lfD7kMZKuNg.jpg\n",
      "/kaggle/input/mr-beast-youtube-video-statistics/thumbnails/Ih2WTyY62J4.jpg\n",
      "/kaggle/input/mr-beast-youtube-video-statistics/thumbnails/Izmibu7dxcs.jpg\n",
      "/kaggle/input/mr-beast-youtube-video-statistics/thumbnails/gL6iSCSHjco.jpg\n",
      "/kaggle/input/mr-beast-youtube-video-statistics/thumbnails/op0N7axawJA.jpg\n",
      "/kaggle/input/mr-beast-youtube-video-statistics/thumbnails/wMuYiLby3-s.jpg\n",
      "/kaggle/input/mr-beast-youtube-video-statistics/thumbnails/9cCpZl8euLI.jpg\n",
      "/kaggle/input/mr-beast-youtube-video-statistics/thumbnails/ZQZzR0DUujc.jpg\n",
      "/kaggle/input/mr-beast-youtube-video-statistics/thumbnails/9vB-48kHbBU.jpg\n",
      "/kaggle/input/mr-beast-youtube-video-statistics/thumbnails/9bqk6ZUsKyA.jpg\n",
      "/kaggle/input/mr-beast-youtube-video-statistics/thumbnails/RwnN2FVaHmw.jpg\n",
      "/kaggle/input/mr-beast-youtube-video-statistics/thumbnails/sfv1QaRzJg8.jpg\n",
      "/kaggle/input/mr-beast-youtube-video-statistics/thumbnails/00NgUctWoLQ.jpg\n",
      "/kaggle/input/mr-beast-youtube-video-statistics/thumbnails/p6bzNpgbX8Y.jpg\n",
      "/kaggle/input/mr-beast-youtube-video-statistics/thumbnails/Dc2ZRmuH5OM.jpg\n",
      "/kaggle/input/mr-beast-youtube-video-statistics/thumbnails/SZQhgExjBvQ.jpg\n",
      "/kaggle/input/mr-beast-youtube-video-statistics/thumbnails/XaxhLbxZ13k.jpg\n",
      "/kaggle/input/mr-beast-youtube-video-statistics/thumbnails/t4OumncEiKo.jpg\n",
      "/kaggle/input/mr-beast-youtube-video-statistics/thumbnails/NbaWrbJDr48.jpg\n",
      "/kaggle/input/mr-beast-youtube-video-statistics/thumbnails/NS3hse9ezik.jpg\n",
      "/kaggle/input/mr-beast-youtube-video-statistics/thumbnails/rH1D_3G56DY.jpg\n",
      "/kaggle/input/mr-beast-youtube-video-statistics/thumbnails/foLlul8Tl3E.jpg\n",
      "/kaggle/input/mr-beast-youtube-video-statistics/thumbnails/sirrTXiPFmw.jpg\n",
      "/kaggle/input/mr-beast-youtube-video-statistics/thumbnails/fG1N5kzeAhM.jpg\n",
      "/kaggle/input/mr-beast-youtube-video-statistics/thumbnails/koRKIlRQj4g.jpg\n",
      "/kaggle/input/mr-beast-youtube-video-statistics/thumbnails/xWcldHxHFpo.jpg\n",
      "/kaggle/input/mr-beast-youtube-video-statistics/thumbnails/fWcSBWadolA.jpg\n",
      "/kaggle/input/mr-beast-youtube-video-statistics/thumbnails/g2rbhIB-ITM.jpg\n",
      "/kaggle/input/mr-beast-youtube-video-statistics/thumbnails/0DaMUhgcAqo.jpg\n",
      "/kaggle/input/mr-beast-youtube-video-statistics/thumbnails/2eFSU7TFOnk.jpg\n",
      "/kaggle/input/mr-beast-youtube-video-statistics/thumbnails/qPBtTPJHS0Q.jpg\n",
      "/kaggle/input/mr-beast-youtube-video-statistics/thumbnails/b91vrgVY-ZQ.jpg\n",
      "/kaggle/input/mr-beast-youtube-video-statistics/thumbnails/vJH28ICkCdU.jpg\n",
      "/kaggle/input/mr-beast-youtube-video-statistics/thumbnails/f0c7pSCoZqE.jpg\n",
      "/kaggle/input/mr-beast-youtube-video-statistics/thumbnails/YyhKdOCwD7s.jpg\n",
      "/kaggle/input/mr-beast-youtube-video-statistics/thumbnails/ZJwX2jTXWwQ.jpg\n",
      "/kaggle/input/mr-beast-youtube-video-statistics/thumbnails/BqS4iVHa-LU.jpg\n",
      "/kaggle/input/mr-beast-youtube-video-statistics/thumbnails/H1WBdh56Vq4.jpg\n",
      "/kaggle/input/mr-beast-youtube-video-statistics/thumbnails/UE5AHE2Ypr8.jpg\n",
      "/kaggle/input/mr-beast-youtube-video-statistics/thumbnails/6wsFjjhZPJI.jpg\n",
      "/kaggle/input/mr-beast-youtube-video-statistics/thumbnails/3LLnjRLrvLU.jpg\n",
      "/kaggle/input/mr-beast-youtube-video-statistics/thumbnails/LU_xVr4b2qM.jpg\n",
      "/kaggle/input/mr-beast-youtube-video-statistics/thumbnails/X1jMMFOqxEw.jpg\n",
      "/kaggle/input/mr-beast-youtube-video-statistics/thumbnails/AS5CxLCWq-Q.jpg\n",
      "/kaggle/input/mr-beast-youtube-video-statistics/thumbnails/lBYC4_Lccjw.jpg\n",
      "/kaggle/input/mr-beast-youtube-video-statistics/thumbnails/RywkkwO78m8.jpg\n",
      "/kaggle/input/mr-beast-youtube-video-statistics/thumbnails/uotb9ZHnI2g.jpg\n",
      "/kaggle/input/mr-beast-youtube-video-statistics/thumbnails/AA-VpIj8F5Y.jpg\n",
      "/kaggle/input/mr-beast-youtube-video-statistics/thumbnails/PKtnafFtfEo.jpg\n",
      "/kaggle/input/mr-beast-youtube-video-statistics/thumbnails/uocETPj4Jx4.jpg\n",
      "/kaggle/input/mr-beast-youtube-video-statistics/thumbnails/5Fg9oZk-5uA.jpg\n",
      "/kaggle/input/mr-beast-youtube-video-statistics/thumbnails/e5DqdX-7_g4.jpg\n",
      "/kaggle/input/mr-beast-youtube-video-statistics/thumbnails/bIZ5_L1ru2w.jpg\n",
      "/kaggle/input/mr-beast-youtube-video-statistics/thumbnails/gsWPpE4Rid0.jpg\n",
      "/kaggle/input/mr-beast-youtube-video-statistics/thumbnails/Vl3swga-Xrk.jpg\n",
      "/kaggle/input/mr-beast-youtube-video-statistics/thumbnails/GxTVDClFXuc.jpg\n",
      "/kaggle/input/mr-beast-youtube-video-statistics/thumbnails/P4qWhSZ7_WA.jpg\n",
      "/kaggle/input/mr-beast-youtube-video-statistics/thumbnails/5Hg_QSIJm8I.jpg\n",
      "/kaggle/input/mr-beast-youtube-video-statistics/thumbnails/xRwy_rKc7gI.jpg\n",
      "/kaggle/input/mr-beast-youtube-video-statistics/thumbnails/C680oxL__ck.jpg\n",
      "/kaggle/input/mr-beast-youtube-video-statistics/thumbnails/GUWGsIVEMSQ.jpg\n",
      "/kaggle/input/mr-beast-youtube-video-statistics/thumbnails/vZrL_FFITgs.jpg\n",
      "/kaggle/input/mr-beast-youtube-video-statistics/thumbnails/mGIpOtncmSM.jpg\n",
      "/kaggle/input/mr-beast-youtube-video-statistics/thumbnails/erQ_9yEz0ls.jpg\n",
      "/kaggle/input/mr-beast-youtube-video-statistics/thumbnails/d7QmQtNwhcU.jpg\n",
      "/kaggle/input/mr-beast-youtube-video-statistics/thumbnails/sg_XFT4K3N4.jpg\n",
      "/kaggle/input/mr-beast-youtube-video-statistics/thumbnails/56OkH6ocYZU.jpg\n",
      "/kaggle/input/mr-beast-youtube-video-statistics/thumbnails/ktyJIj6i4Qw.jpg\n",
      "/kaggle/input/mr-beast-youtube-video-statistics/thumbnails/dPxAFqs2eYE.jpg\n",
      "/kaggle/input/mr-beast-youtube-video-statistics/thumbnails/bEIK5ni_Pzs.jpg\n",
      "/kaggle/input/mr-beast-youtube-video-statistics/thumbnails/bFZdU9dr4OM.jpg\n",
      "/kaggle/input/mr-beast-youtube-video-statistics/thumbnails/TQHEJj68Jew.jpg\n",
      "/kaggle/input/mr-beast-youtube-video-statistics/thumbnails/x9TQ6culXIA.jpg\n",
      "/kaggle/input/mr-beast-youtube-video-statistics/thumbnails/Su34c5Z8DW4.jpg\n",
      "/kaggle/input/mr-beast-youtube-video-statistics/thumbnails/anFxsa5jXrE.jpg\n",
      "/kaggle/input/mr-beast-youtube-video-statistics/thumbnails/Kgu2ApayYvI.jpg\n",
      "/kaggle/input/mr-beast-youtube-video-statistics/thumbnails/8TFq_vvO_Wg.jpg\n",
      "/kaggle/input/mr-beast-youtube-video-statistics/thumbnails/5V2B28OqfqM.jpg\n",
      "/kaggle/input/mr-beast-youtube-video-statistics/thumbnails/v3tbnlc5cfo.jpg\n",
      "/kaggle/input/mr-beast-youtube-video-statistics/thumbnails/iUzi5JmJNWc.jpg\n",
      "/kaggle/input/mr-beast-youtube-video-statistics/thumbnails/QapO3maXd9k.jpg\n",
      "/kaggle/input/mr-beast-youtube-video-statistics/thumbnails/NZR4WEjpOQg.jpg\n",
      "/kaggle/input/mr-beast-youtube-video-statistics/thumbnails/nd-bwvNB7YA.jpg\n",
      "/kaggle/input/mr-beast-youtube-video-statistics/thumbnails/QxGVgXf_LNk.jpg\n",
      "/kaggle/input/mr-beast-youtube-video-statistics/thumbnails/tBEBc4KQVsU.jpg\n",
      "/kaggle/input/mr-beast-youtube-video-statistics/thumbnails/NZlClr_ivb4.jpg\n",
      "/kaggle/input/mr-beast-youtube-video-statistics/thumbnails/cRPldarzw-M.jpg\n",
      "/kaggle/input/mr-beast-youtube-video-statistics/thumbnails/FbM1yi4mMMc.jpg\n",
      "/kaggle/input/mr-beast-youtube-video-statistics/thumbnails/9GD6hbqu2oM.jpg\n",
      "/kaggle/input/mr-beast-youtube-video-statistics/thumbnails/E6E22XQPhhg.jpg\n",
      "/kaggle/input/mr-beast-youtube-video-statistics/thumbnails/HPJKxAhLw5I.jpg\n",
      "/kaggle/input/mr-beast-youtube-video-statistics/thumbnails/cV2gBU6hKfY.jpg\n",
      "/kaggle/input/mr-beast-youtube-video-statistics/thumbnails/ZV7rU6lnAKQ.jpg\n",
      "/kaggle/input/mr-beast-youtube-video-statistics/thumbnails/UlUcwJc5nBs.jpg\n",
      "/kaggle/input/mr-beast-youtube-video-statistics/thumbnails/97Gh93Daio0.jpg\n",
      "/kaggle/input/mr-beast-youtube-video-statistics/thumbnails/qIsgdOVGA04.jpg\n",
      "/kaggle/input/mr-beast-youtube-video-statistics/thumbnails/NiqkH7qVW0U.jpg\n",
      "/kaggle/input/mr-beast-youtube-video-statistics/thumbnails/QbJJwaVdgIs.jpg\n",
      "/kaggle/input/mr-beast-youtube-video-statistics/thumbnails/KSKJKLmAqpI.jpg\n",
      "/kaggle/input/mr-beast-youtube-video-statistics/thumbnails/nywT2SenPIo.jpg\n",
      "/kaggle/input/mr-beast-youtube-video-statistics/thumbnails/KzwTYZ2W3ZA.jpg\n",
      "/kaggle/input/mr-beast-youtube-video-statistics/thumbnails/9CVwXBYVqVk.jpg\n",
      "/kaggle/input/mr-beast-youtube-video-statistics/thumbnails/xpNeg0hPZIs.jpg\n",
      "/kaggle/input/mr-beast-youtube-video-statistics/thumbnails/HfJMs4mrSJM.jpg\n",
      "/kaggle/input/mr-beast-youtube-video-statistics/thumbnails/nan.jpg\n",
      "/kaggle/input/mr-beast-youtube-video-statistics/thumbnails/dg2Ag3e8W-Q.jpg\n",
      "/kaggle/input/mr-beast-youtube-video-statistics/thumbnails/L8nh1wuXTbI.jpg\n",
      "/kaggle/input/mr-beast-youtube-video-statistics/thumbnails/UQtltNZ_pjs.jpg\n",
      "/kaggle/input/mr-beast-youtube-video-statistics/thumbnails/G7Y9ban7b0U.jpg\n",
      "/kaggle/input/mr-beast-youtube-video-statistics/thumbnails/Rj_vssRaZlQ.jpg\n",
      "/kaggle/input/mr-beast-youtube-video-statistics/thumbnails/uE6gud1voDs.jpg\n",
      "/kaggle/input/mr-beast-youtube-video-statistics/thumbnails/zi7tZ-2PhLk.jpg\n",
      "/kaggle/input/mr-beast-youtube-video-statistics/thumbnails/IYVjOfoU3uI.jpg\n",
      "/kaggle/input/mr-beast-youtube-video-statistics/thumbnails/9Ax56oRhcZc.jpg\n",
      "/kaggle/input/mr-beast-youtube-video-statistics/thumbnails/yyJ7xEcENNI.jpg\n",
      "/kaggle/input/mr-beast-youtube-video-statistics/thumbnails/UtnsWzaoRtg.jpg\n",
      "/kaggle/input/mr-beast-youtube-video-statistics/thumbnails/AS6WMS_Bemg.jpg\n",
      "/kaggle/input/mr-beast-youtube-video-statistics/thumbnails/mpZWt5pGKZ8.jpg\n",
      "/kaggle/input/mr-beast-youtube-video-statistics/thumbnails/2O8wta4FsD4.jpg\n",
      "/kaggle/input/mr-beast-youtube-video-statistics/thumbnails/pzlPJmNyepA.jpg\n",
      "/kaggle/input/mr-beast-youtube-video-statistics/thumbnails/AiGKBNGlzHo.jpg\n",
      "/kaggle/input/mr-beast-youtube-video-statistics/thumbnails/x4IXCimma-s.jpg\n",
      "/kaggle/input/mr-beast-youtube-video-statistics/thumbnails/uBC7805Smsg.jpg\n",
      "/kaggle/input/mr-beast-youtube-video-statistics/thumbnails/ayXxwJJId_c.jpg\n",
      "/kaggle/input/mr-beast-youtube-video-statistics/thumbnails/Ooke4YZv8Ts.jpg\n",
      "/kaggle/input/mr-beast-youtube-video-statistics/thumbnails/bs0SWXbty18.jpg\n",
      "/kaggle/input/mr-beast-youtube-video-statistics/thumbnails/F4Y3Pkn95GI.jpg\n",
      "/kaggle/input/mr-beast-youtube-video-statistics/thumbnails/HuLAAXZXIy0.jpg\n",
      "/kaggle/input/mr-beast-youtube-video-statistics/thumbnails/q6Qw8mUVTrE.jpg\n",
      "/kaggle/input/mr-beast-youtube-video-statistics/thumbnails/LdMx2U5tby0.jpg\n",
      "/kaggle/input/mr-beast-youtube-video-statistics/thumbnails/MC5h-ShR-S8.jpg\n",
      "/kaggle/input/mr-beast-youtube-video-statistics/thumbnails/2IGxSOfsBok.jpg\n",
      "/kaggle/input/mr-beast-youtube-video-statistics/thumbnails/AIytwdufwW8.jpg\n",
      "/kaggle/input/mr-beast-youtube-video-statistics/thumbnails/1UygJmcHUdQ.jpg\n",
      "/kaggle/input/mr-beast-youtube-video-statistics/thumbnails/gYaxI_allkQ.jpg\n",
      "/kaggle/input/mr-beast-youtube-video-statistics/thumbnails/XKFKPQHdWRI.jpg\n"
     ]
    }
   ],
   "source": [
    "# This Python 3 environment comes with many helpful analytics libraries installed\n",
    "# It is defined by the kaggle/python Docker image: https://github.com/kaggle/docker-python\n",
    "# For example, here's several helpful packages to load\n",
    "\n",
    "import numpy as np # linear algebra\n",
    "import pandas as pd # data processing, CSV file I/O (e.g. pd.read_csv)\n",
    "            \n",
    "# Input data files are available in the read-only \"../input/\" directory\n",
    "# For example, running this (by clicking run or pressing Shift+Enter) will list all files under the input directory\n",
    "\n",
    "import os\n",
    "for dirname, _, filenames in os.walk('/kaggle/input'):\n",
    "    for filename in filenames:\n",
    "        print(os.path.join(dirname, filename))\n",
    "\n",
    "# You can write up to 20GB to the current directory (/kaggle/working/) that gets preserved as output when you create a version using \"Save & Run All\" \n",
    "# You can also write temporary files to /kaggle/temp/, but they won't be saved outside of the current session"
   ]
  },
  {
   "cell_type": "markdown",
   "id": "4f756373",
   "metadata": {
    "papermill": {
     "duration": 0.042396,
     "end_time": "2022-06-09T01:46:51.693306",
     "exception": false,
     "start_time": "2022-06-09T01:46:51.650910",
     "status": "completed"
    },
    "tags": []
   },
   "source": [
    "# **Simple Intro to Pandas by Medallion Data Science on Youtube**\n"
   ]
  },
  {
   "cell_type": "markdown",
   "id": "bde361d6",
   "metadata": {
    "papermill": {
     "duration": 0.0406,
     "end_time": "2022-06-09T01:46:51.774647",
     "exception": false,
     "start_time": "2022-06-09T01:46:51.734047",
     "status": "completed"
    },
    "tags": []
   },
   "source": []
  },
  {
   "cell_type": "markdown",
   "id": "757297dc",
   "metadata": {
    "papermill": {
     "duration": 0.041199,
     "end_time": "2022-06-09T01:46:51.857216",
     "exception": false,
     "start_time": "2022-06-09T01:46:51.816017",
     "status": "completed"
    },
    "tags": []
   },
   "source": [
    "My first ever notebook done by following a YouTube tutorial. \n",
    "Aims to:\n",
    "* Familiarize on Kaggle notebook environment\n",
    "* Learn basics of Pandas\n",
    "* Build foundation for Data Science\n",
    "* Learn Markdown \n"
   ]
  },
  {
   "cell_type": "markdown",
   "id": "844b6a76",
   "metadata": {
    "papermill": {
     "duration": 0.04712,
     "end_time": "2022-06-09T01:46:51.945751",
     "exception": false,
     "start_time": "2022-06-09T01:46:51.898631",
     "status": "completed"
    },
    "tags": []
   },
   "source": [
    "## Series"
   ]
  },
  {
   "cell_type": "markdown",
   "id": "ab7b5fa9",
   "metadata": {
    "papermill": {
     "duration": 0.046566,
     "end_time": "2022-06-09T01:46:52.040732",
     "exception": false,
     "start_time": "2022-06-09T01:46:51.994166",
     "status": "completed"
    },
    "tags": []
   },
   "source": [
    "A series is basically a list of data with index, and type.\n",
    "Like an array."
   ]
  },
  {
   "cell_type": "code",
   "execution_count": 2,
   "id": "f8d27f57",
   "metadata": {
    "execution": {
     "iopub.execute_input": "2022-06-09T01:46:52.124091Z",
     "iopub.status.busy": "2022-06-09T01:46:52.123708Z",
     "iopub.status.idle": "2022-06-09T01:46:52.131420Z",
     "shell.execute_reply": "2022-06-09T01:46:52.130482Z"
    },
    "papermill": {
     "duration": 0.051347,
     "end_time": "2022-06-09T01:46:52.133344",
     "exception": false,
     "start_time": "2022-06-09T01:46:52.081997",
     "status": "completed"
    },
    "tags": []
   },
   "outputs": [],
   "source": [
    "my_data = ['Boat', 'Car', 'Truck', 'Plane']\n",
    "\n",
    "my_series1 = pd.Series(my_data)"
   ]
  },
  {
   "cell_type": "code",
   "execution_count": 3,
   "id": "8ca40e97",
   "metadata": {
    "execution": {
     "iopub.execute_input": "2022-06-09T01:46:52.216948Z",
     "iopub.status.busy": "2022-06-09T01:46:52.216436Z",
     "iopub.status.idle": "2022-06-09T01:46:52.222031Z",
     "shell.execute_reply": "2022-06-09T01:46:52.220976Z"
    },
    "papermill": {
     "duration": 0.04962,
     "end_time": "2022-06-09T01:46:52.224072",
     "exception": false,
     "start_time": "2022-06-09T01:46:52.174452",
     "status": "completed"
    },
    "tags": []
   },
   "outputs": [
    {
     "name": "stdout",
     "output_type": "stream",
     "text": [
      "0     Boat\n",
      "1      Car\n",
      "2    Truck\n",
      "3    Plane\n",
      "dtype: object\n"
     ]
    }
   ],
   "source": [
    "print(my_series1)"
   ]
  },
  {
   "cell_type": "code",
   "execution_count": 4,
   "id": "3b0c0a89",
   "metadata": {
    "execution": {
     "iopub.execute_input": "2022-06-09T01:46:52.308066Z",
     "iopub.status.busy": "2022-06-09T01:46:52.307759Z",
     "iopub.status.idle": "2022-06-09T01:46:52.313723Z",
     "shell.execute_reply": "2022-06-09T01:46:52.312861Z"
    },
    "papermill": {
     "duration": 0.0507,
     "end_time": "2022-06-09T01:46:52.316409",
     "exception": false,
     "start_time": "2022-06-09T01:46:52.265709",
     "status": "completed"
    },
    "tags": []
   },
   "outputs": [
    {
     "name": "stdout",
     "output_type": "stream",
     "text": [
      "0     3\n",
      "1     7\n",
      "2    13\n",
      "3    27\n",
      "4    16\n",
      "dtype: int64\n"
     ]
    }
   ],
   "source": [
    "my_data = [3, 7, 13, 27, 16]\n",
    "my_series2 = pd.Series(my_data)\n",
    "print(my_series2)"
   ]
  },
  {
   "cell_type": "code",
   "execution_count": 5,
   "id": "baa8caec",
   "metadata": {
    "execution": {
     "iopub.execute_input": "2022-06-09T01:46:52.402707Z",
     "iopub.status.busy": "2022-06-09T01:46:52.401658Z",
     "iopub.status.idle": "2022-06-09T01:46:52.408173Z",
     "shell.execute_reply": "2022-06-09T01:46:52.407100Z"
    },
    "papermill": {
     "duration": 0.051063,
     "end_time": "2022-06-09T01:46:52.410125",
     "exception": false,
     "start_time": "2022-06-09T01:46:52.359062",
     "status": "completed"
    },
    "tags": []
   },
   "outputs": [
    {
     "name": "stdout",
     "output_type": "stream",
     "text": [
      "[3, 7, 13, 27, 16]\n",
      "0     3\n",
      "1     7\n",
      "2    13\n",
      "3    27\n",
      "4    16\n",
      "dtype: int64\n"
     ]
    }
   ],
   "source": [
    "print(my_data)\n",
    "print(my_series2)"
   ]
  },
  {
   "cell_type": "markdown",
   "id": "8e4d69b0",
   "metadata": {
    "papermill": {
     "duration": 0.040898,
     "end_time": "2022-06-09T01:46:52.492628",
     "exception": false,
     "start_time": "2022-06-09T01:46:52.451730",
     "status": "completed"
    },
    "tags": []
   },
   "source": [
    "## DataFrame"
   ]
  },
  {
   "cell_type": "markdown",
   "id": "5907f6c5",
   "metadata": {
    "papermill": {
     "duration": 0.041143,
     "end_time": "2022-06-09T01:46:52.575253",
     "exception": false,
     "start_time": "2022-06-09T01:46:52.534110",
     "status": "completed"
    },
    "tags": []
   },
   "source": [
    "DataFrame is a grouping of multiple series, all linked by the same index. \n",
    "Basically something like a spreadsheet."
   ]
  },
  {
   "cell_type": "code",
   "execution_count": 6,
   "id": "ed124a71",
   "metadata": {
    "execution": {
     "iopub.execute_input": "2022-06-09T01:46:52.660147Z",
     "iopub.status.busy": "2022-06-09T01:46:52.659685Z",
     "iopub.status.idle": "2022-06-09T01:46:52.674422Z",
     "shell.execute_reply": "2022-06-09T01:46:52.673842Z"
    },
    "papermill": {
     "duration": 0.059354,
     "end_time": "2022-06-09T01:46:52.676378",
     "exception": false,
     "start_time": "2022-06-09T01:46:52.617024",
     "status": "completed"
    },
    "tags": []
   },
   "outputs": [
    {
     "data": {
      "text/html": [
       "<div>\n",
       "<style scoped>\n",
       "    .dataframe tbody tr th:only-of-type {\n",
       "        vertical-align: middle;\n",
       "    }\n",
       "\n",
       "    .dataframe tbody tr th {\n",
       "        vertical-align: top;\n",
       "    }\n",
       "\n",
       "    .dataframe thead th {\n",
       "        text-align: right;\n",
       "    }\n",
       "</style>\n",
       "<table border=\"1\" class=\"dataframe\">\n",
       "  <thead>\n",
       "    <tr style=\"text-align: right;\">\n",
       "      <th></th>\n",
       "      <th>0</th>\n",
       "      <th>1</th>\n",
       "    </tr>\n",
       "  </thead>\n",
       "  <tbody>\n",
       "    <tr>\n",
       "      <th>0</th>\n",
       "      <td>Boat</td>\n",
       "      <td>3</td>\n",
       "    </tr>\n",
       "    <tr>\n",
       "      <th>1</th>\n",
       "      <td>Car</td>\n",
       "      <td>7</td>\n",
       "    </tr>\n",
       "    <tr>\n",
       "      <th>2</th>\n",
       "      <td>Truck</td>\n",
       "      <td>16</td>\n",
       "    </tr>\n",
       "    <tr>\n",
       "      <th>3</th>\n",
       "      <td>Plane</td>\n",
       "      <td>27</td>\n",
       "    </tr>\n",
       "  </tbody>\n",
       "</table>\n",
       "</div>"
      ],
      "text/plain": [
       "       0   1\n",
       "0   Boat   3\n",
       "1    Car   7\n",
       "2  Truck  16\n",
       "3  Plane  27"
      ]
     },
     "execution_count": 6,
     "metadata": {},
     "output_type": "execute_result"
    }
   ],
   "source": [
    "mydfdata = [('Boat', 3), ('Car', 7),  ('Truck', 16), ('Plane', 27)]\n",
    "\n",
    "# dataframe with dummy column, 0, 1\n",
    "mydf0 = pd.DataFrame(mydfdata)\n",
    "\n",
    "mydf0"
   ]
  },
  {
   "cell_type": "code",
   "execution_count": 7,
   "id": "8b046eee",
   "metadata": {
    "execution": {
     "iopub.execute_input": "2022-06-09T01:46:52.762130Z",
     "iopub.status.busy": "2022-06-09T01:46:52.761236Z",
     "iopub.status.idle": "2022-06-09T01:46:52.772539Z",
     "shell.execute_reply": "2022-06-09T01:46:52.771649Z"
    },
    "papermill": {
     "duration": 0.056299,
     "end_time": "2022-06-09T01:46:52.774427",
     "exception": false,
     "start_time": "2022-06-09T01:46:52.718128",
     "status": "completed"
    },
    "tags": []
   },
   "outputs": [
    {
     "data": {
      "text/html": [
       "<div>\n",
       "<style scoped>\n",
       "    .dataframe tbody tr th:only-of-type {\n",
       "        vertical-align: middle;\n",
       "    }\n",
       "\n",
       "    .dataframe tbody tr th {\n",
       "        vertical-align: top;\n",
       "    }\n",
       "\n",
       "    .dataframe thead th {\n",
       "        text-align: right;\n",
       "    }\n",
       "</style>\n",
       "<table border=\"1\" class=\"dataframe\">\n",
       "  <thead>\n",
       "    <tr style=\"text-align: right;\">\n",
       "      <th></th>\n",
       "      <th>thing</th>\n",
       "      <th>count</th>\n",
       "    </tr>\n",
       "  </thead>\n",
       "  <tbody>\n",
       "    <tr>\n",
       "      <th>0</th>\n",
       "      <td>Boat</td>\n",
       "      <td>3</td>\n",
       "    </tr>\n",
       "    <tr>\n",
       "      <th>1</th>\n",
       "      <td>Car</td>\n",
       "      <td>7</td>\n",
       "    </tr>\n",
       "    <tr>\n",
       "      <th>2</th>\n",
       "      <td>Truck</td>\n",
       "      <td>16</td>\n",
       "    </tr>\n",
       "    <tr>\n",
       "      <th>3</th>\n",
       "      <td>Plane</td>\n",
       "      <td>27</td>\n",
       "    </tr>\n",
       "  </tbody>\n",
       "</table>\n",
       "</div>"
      ],
      "text/plain": [
       "   thing  count\n",
       "0   Boat      3\n",
       "1    Car      7\n",
       "2  Truck     16\n",
       "3  Plane     27"
      ]
     },
     "execution_count": 7,
     "metadata": {},
     "output_type": "execute_result"
    }
   ],
   "source": [
    "#dataframe with specified column\n",
    "mydf1 = pd.DataFrame(mydfdata, columns=['thing', 'count'])\n",
    "mydf1"
   ]
  },
  {
   "cell_type": "code",
   "execution_count": 8,
   "id": "67af3b63",
   "metadata": {
    "execution": {
     "iopub.execute_input": "2022-06-09T01:46:52.860620Z",
     "iopub.status.busy": "2022-06-09T01:46:52.859729Z",
     "iopub.status.idle": "2022-06-09T01:46:52.869141Z",
     "shell.execute_reply": "2022-06-09T01:46:52.868350Z"
    },
    "papermill": {
     "duration": 0.054412,
     "end_time": "2022-06-09T01:46:52.871015",
     "exception": false,
     "start_time": "2022-06-09T01:46:52.816603",
     "status": "completed"
    },
    "tags": []
   },
   "outputs": [
    {
     "data": {
      "text/plain": [
       "0     Boat\n",
       "1      Car\n",
       "2    Truck\n",
       "3    Plane\n",
       "Name: thing, dtype: object"
      ]
     },
     "execution_count": 8,
     "metadata": {},
     "output_type": "execute_result"
    }
   ],
   "source": [
    "mydf1['thing']"
   ]
  },
  {
   "cell_type": "code",
   "execution_count": 9,
   "id": "bd008829",
   "metadata": {
    "execution": {
     "iopub.execute_input": "2022-06-09T01:46:52.958397Z",
     "iopub.status.busy": "2022-06-09T01:46:52.957838Z",
     "iopub.status.idle": "2022-06-09T01:46:52.963815Z",
     "shell.execute_reply": "2022-06-09T01:46:52.963036Z"
    },
    "papermill": {
     "duration": 0.051691,
     "end_time": "2022-06-09T01:46:52.965625",
     "exception": false,
     "start_time": "2022-06-09T01:46:52.913934",
     "status": "completed"
    },
    "tags": []
   },
   "outputs": [
    {
     "data": {
      "text/plain": [
       "0     3\n",
       "1     7\n",
       "2    16\n",
       "3    27\n",
       "Name: count, dtype: int64"
      ]
     },
     "execution_count": 9,
     "metadata": {},
     "output_type": "execute_result"
    }
   ],
   "source": [
    "mydf1['count']"
   ]
  },
  {
   "cell_type": "code",
   "execution_count": 10,
   "id": "e58d068e",
   "metadata": {
    "execution": {
     "iopub.execute_input": "2022-06-09T01:46:53.060641Z",
     "iopub.status.busy": "2022-06-09T01:46:53.060119Z",
     "iopub.status.idle": "2022-06-09T01:46:53.065879Z",
     "shell.execute_reply": "2022-06-09T01:46:53.064862Z"
    },
    "papermill": {
     "duration": 0.059437,
     "end_time": "2022-06-09T01:46:53.068699",
     "exception": false,
     "start_time": "2022-06-09T01:46:53.009262",
     "status": "completed"
    },
    "tags": []
   },
   "outputs": [
    {
     "data": {
      "text/plain": [
       "pandas.core.frame.DataFrame"
      ]
     },
     "execution_count": 10,
     "metadata": {},
     "output_type": "execute_result"
    }
   ],
   "source": [
    "type(mydf1)"
   ]
  },
  {
   "cell_type": "code",
   "execution_count": 11,
   "id": "254cd8c9",
   "metadata": {
    "execution": {
     "iopub.execute_input": "2022-06-09T01:46:53.187608Z",
     "iopub.status.busy": "2022-06-09T01:46:53.187247Z",
     "iopub.status.idle": "2022-06-09T01:46:53.194461Z",
     "shell.execute_reply": "2022-06-09T01:46:53.193550Z"
    },
    "papermill": {
     "duration": 0.06599,
     "end_time": "2022-06-09T01:46:53.196336",
     "exception": false,
     "start_time": "2022-06-09T01:46:53.130346",
     "status": "completed"
    },
    "tags": []
   },
   "outputs": [
    {
     "data": {
      "text/plain": [
       "thing    object\n",
       "count     int64\n",
       "dtype: object"
      ]
     },
     "execution_count": 11,
     "metadata": {},
     "output_type": "execute_result"
    }
   ],
   "source": [
    "#data type of series\n",
    "mydf1.dtypes"
   ]
  },
  {
   "cell_type": "markdown",
   "id": "ef124685",
   "metadata": {
    "papermill": {
     "duration": 0.046573,
     "end_time": "2022-06-09T01:46:53.290486",
     "exception": false,
     "start_time": "2022-06-09T01:46:53.243913",
     "status": "completed"
    },
    "tags": []
   },
   "source": [
    "# Reading in Data"
   ]
  },
  {
   "cell_type": "code",
   "execution_count": 12,
   "id": "137c8c07",
   "metadata": {
    "execution": {
     "iopub.execute_input": "2022-06-09T01:46:53.389235Z",
     "iopub.status.busy": "2022-06-09T01:46:53.388715Z",
     "iopub.status.idle": "2022-06-09T01:46:53.405851Z",
     "shell.execute_reply": "2022-06-09T01:46:53.405121Z"
    },
    "papermill": {
     "duration": 0.069628,
     "end_time": "2022-06-09T01:46:53.408056",
     "exception": false,
     "start_time": "2022-06-09T01:46:53.338428",
     "status": "completed"
    },
    "tags": []
   },
   "outputs": [],
   "source": [
    "df = pd.read_csv('../input/mr-beast-youtube-video-statistics/MrBeast_youtube_stats.csv')"
   ]
  },
  {
   "cell_type": "markdown",
   "id": "6c0cf23e",
   "metadata": {
    "papermill": {
     "duration": 0.046986,
     "end_time": "2022-06-09T01:46:53.501159",
     "exception": false,
     "start_time": "2022-06-09T01:46:53.454173",
     "status": "completed"
    },
    "tags": []
   },
   "source": [
    "# Inspect The Data"
   ]
  },
  {
   "cell_type": "code",
   "execution_count": 13,
   "id": "fc4321b6",
   "metadata": {
    "execution": {
     "iopub.execute_input": "2022-06-09T01:46:53.596755Z",
     "iopub.status.busy": "2022-06-09T01:46:53.596019Z",
     "iopub.status.idle": "2022-06-09T01:46:53.625366Z",
     "shell.execute_reply": "2022-06-09T01:46:53.624593Z"
    },
    "papermill": {
     "duration": 0.078948,
     "end_time": "2022-06-09T01:46:53.627184",
     "exception": false,
     "start_time": "2022-06-09T01:46:53.548236",
     "status": "completed"
    },
    "tags": []
   },
   "outputs": [
    {
     "data": {
      "text/html": [
       "<div>\n",
       "<style scoped>\n",
       "    .dataframe tbody tr th:only-of-type {\n",
       "        vertical-align: middle;\n",
       "    }\n",
       "\n",
       "    .dataframe tbody tr th {\n",
       "        vertical-align: top;\n",
       "    }\n",
       "\n",
       "    .dataframe thead th {\n",
       "        text-align: right;\n",
       "    }\n",
       "</style>\n",
       "<table border=\"1\" class=\"dataframe\">\n",
       "  <thead>\n",
       "    <tr style=\"text-align: right;\">\n",
       "      <th></th>\n",
       "      <th>id</th>\n",
       "      <th>title</th>\n",
       "      <th>description</th>\n",
       "      <th>publishTime</th>\n",
       "      <th>kind_stats</th>\n",
       "      <th>duration_seconds</th>\n",
       "      <th>viewCount</th>\n",
       "      <th>likeCount</th>\n",
       "      <th>commentCount</th>\n",
       "      <th>thumbnails.default.url</th>\n",
       "      <th>...</th>\n",
       "      <th>thumbnails.high.width</th>\n",
       "      <th>thumbnails.high.height</th>\n",
       "      <th>contentDetails.duration</th>\n",
       "      <th>contentDetails.dimension</th>\n",
       "      <th>topicDetails.topicCategories</th>\n",
       "      <th>snippet.defaultLanguage</th>\n",
       "      <th>localizations.en.title</th>\n",
       "      <th>localizations.en.description</th>\n",
       "      <th>snippet.tags</th>\n",
       "      <th>contentDetails.contentRating.ytRating</th>\n",
       "    </tr>\n",
       "  </thead>\n",
       "  <tbody>\n",
       "    <tr>\n",
       "      <th>0</th>\n",
       "      <td>TQHEJj68Jew</td>\n",
       "      <td>I Got Hunted By A Real Bounty Hunter</td>\n",
       "      <td>Sign up for Current w/ my Creator Code \"BEAST\"...</td>\n",
       "      <td>2021-04-24 20:00:00+00:00</td>\n",
       "      <td>youtube#video</td>\n",
       "      <td>861</td>\n",
       "      <td>84717282.0</td>\n",
       "      <td>2876493.0</td>\n",
       "      <td>128922.0</td>\n",
       "      <td>https://i.ytimg.com/vi/TQHEJj68Jew/default.jpg</td>\n",
       "      <td>...</td>\n",
       "      <td>480.0</td>\n",
       "      <td>360.0</td>\n",
       "      <td>PT14M21S</td>\n",
       "      <td>2d</td>\n",
       "      <td>['https://en.wikipedia.org/wiki/Lifestyle_(soc...</td>\n",
       "      <td>NaN</td>\n",
       "      <td>NaN</td>\n",
       "      <td>NaN</td>\n",
       "      <td>NaN</td>\n",
       "      <td>NaN</td>\n",
       "    </tr>\n",
       "    <tr>\n",
       "      <th>1</th>\n",
       "      <td>00NgUctWoLQ</td>\n",
       "      <td>Extreme $1,000,000 Hide And Seek</td>\n",
       "      <td>I didn't expect that to happen at the end I wa...</td>\n",
       "      <td>2021-12-18 21:00:00+00:00</td>\n",
       "      <td>youtube#video</td>\n",
       "      <td>729</td>\n",
       "      <td>32090178.0</td>\n",
       "      <td>2125183.0</td>\n",
       "      <td>73593.0</td>\n",
       "      <td>https://i.ytimg.com/vi/00NgUctWoLQ/default.jpg</td>\n",
       "      <td>...</td>\n",
       "      <td>480.0</td>\n",
       "      <td>360.0</td>\n",
       "      <td>PT12M9S</td>\n",
       "      <td>2d</td>\n",
       "      <td>['https://en.wikipedia.org/wiki/Lifestyle_(soc...</td>\n",
       "      <td>en</td>\n",
       "      <td>Extreme $1,000,000 Hide And Seek</td>\n",
       "      <td>I didn't expect that to happen at the end I wa...</td>\n",
       "      <td>NaN</td>\n",
       "      <td>NaN</td>\n",
       "    </tr>\n",
       "    <tr>\n",
       "      <th>2</th>\n",
       "      <td>NaN</td>\n",
       "      <td>MrBeast</td>\n",
       "      <td>Accomplishments - Raised $20000000 To Plant 20...</td>\n",
       "      <td>2012-02-20 00:43:50+00:00</td>\n",
       "      <td>NaN</td>\n",
       "      <td>0</td>\n",
       "      <td>NaN</td>\n",
       "      <td>NaN</td>\n",
       "      <td>NaN</td>\n",
       "      <td>https://yt3.ggpht.com/ytc/AKedOLTctGKJ32CdDLiS...</td>\n",
       "      <td>...</td>\n",
       "      <td>NaN</td>\n",
       "      <td>NaN</td>\n",
       "      <td>NaN</td>\n",
       "      <td>NaN</td>\n",
       "      <td>NaN</td>\n",
       "      <td>NaN</td>\n",
       "      <td>NaN</td>\n",
       "      <td>NaN</td>\n",
       "      <td>NaN</td>\n",
       "      <td>NaN</td>\n",
       "    </tr>\n",
       "    <tr>\n",
       "      <th>3</th>\n",
       "      <td>ayXxwJJId_c</td>\n",
       "      <td>I Bought The World&amp;#39;s Largest Mystery Box! ...</td>\n",
       "      <td>I cant believe I spent over $500000 on mystery...</td>\n",
       "      <td>2021-04-03 20:00:01+00:00</td>\n",
       "      <td>youtube#video</td>\n",
       "      <td>709</td>\n",
       "      <td>101745632.0</td>\n",
       "      <td>3110824.0</td>\n",
       "      <td>162796.0</td>\n",
       "      <td>https://i.ytimg.com/vi/ayXxwJJId_c/default.jpg</td>\n",
       "      <td>...</td>\n",
       "      <td>480.0</td>\n",
       "      <td>360.0</td>\n",
       "      <td>PT11M49S</td>\n",
       "      <td>2d</td>\n",
       "      <td>['https://en.wikipedia.org/wiki/Lifestyle_(soc...</td>\n",
       "      <td>NaN</td>\n",
       "      <td>NaN</td>\n",
       "      <td>NaN</td>\n",
       "      <td>NaN</td>\n",
       "      <td>NaN</td>\n",
       "    </tr>\n",
       "    <tr>\n",
       "      <th>4</th>\n",
       "      <td>cExLQ1o2pDw</td>\n",
       "      <td>First To Rob Bank Wins $100,000</td>\n",
       "      <td>I didnt think he would actually rob the bank.....</td>\n",
       "      <td>2021-09-26 20:00:06+00:00</td>\n",
       "      <td>youtube#video</td>\n",
       "      <td>482</td>\n",
       "      <td>50008942.0</td>\n",
       "      <td>2359606.0</td>\n",
       "      <td>120621.0</td>\n",
       "      <td>https://i.ytimg.com/vi/cExLQ1o2pDw/default.jpg</td>\n",
       "      <td>...</td>\n",
       "      <td>480.0</td>\n",
       "      <td>360.0</td>\n",
       "      <td>PT8M2S</td>\n",
       "      <td>2d</td>\n",
       "      <td>['https://en.wikipedia.org/wiki/Lifestyle_(soc...</td>\n",
       "      <td>NaN</td>\n",
       "      <td>NaN</td>\n",
       "      <td>NaN</td>\n",
       "      <td>NaN</td>\n",
       "      <td>NaN</td>\n",
       "    </tr>\n",
       "  </tbody>\n",
       "</table>\n",
       "<p>5 rows × 26 columns</p>\n",
       "</div>"
      ],
      "text/plain": [
       "            id                                              title  \\\n",
       "0  TQHEJj68Jew               I Got Hunted By A Real Bounty Hunter   \n",
       "1  00NgUctWoLQ                   Extreme $1,000,000 Hide And Seek   \n",
       "2          NaN                                            MrBeast   \n",
       "3  ayXxwJJId_c  I Bought The World&#39;s Largest Mystery Box! ...   \n",
       "4  cExLQ1o2pDw                    First To Rob Bank Wins $100,000   \n",
       "\n",
       "                                         description  \\\n",
       "0  Sign up for Current w/ my Creator Code \"BEAST\"...   \n",
       "1  I didn't expect that to happen at the end I wa...   \n",
       "2  Accomplishments - Raised $20000000 To Plant 20...   \n",
       "3  I cant believe I spent over $500000 on mystery...   \n",
       "4  I didnt think he would actually rob the bank.....   \n",
       "\n",
       "                 publishTime     kind_stats  duration_seconds    viewCount  \\\n",
       "0  2021-04-24 20:00:00+00:00  youtube#video               861   84717282.0   \n",
       "1  2021-12-18 21:00:00+00:00  youtube#video               729   32090178.0   \n",
       "2  2012-02-20 00:43:50+00:00            NaN                 0          NaN   \n",
       "3  2021-04-03 20:00:01+00:00  youtube#video               709  101745632.0   \n",
       "4  2021-09-26 20:00:06+00:00  youtube#video               482   50008942.0   \n",
       "\n",
       "   likeCount  commentCount                             thumbnails.default.url  \\\n",
       "0  2876493.0      128922.0     https://i.ytimg.com/vi/TQHEJj68Jew/default.jpg   \n",
       "1  2125183.0       73593.0     https://i.ytimg.com/vi/00NgUctWoLQ/default.jpg   \n",
       "2        NaN           NaN  https://yt3.ggpht.com/ytc/AKedOLTctGKJ32CdDLiS...   \n",
       "3  3110824.0      162796.0     https://i.ytimg.com/vi/ayXxwJJId_c/default.jpg   \n",
       "4  2359606.0      120621.0     https://i.ytimg.com/vi/cExLQ1o2pDw/default.jpg   \n",
       "\n",
       "   ...  thumbnails.high.width  thumbnails.high.height contentDetails.duration  \\\n",
       "0  ...                  480.0                   360.0                PT14M21S   \n",
       "1  ...                  480.0                   360.0                 PT12M9S   \n",
       "2  ...                    NaN                     NaN                     NaN   \n",
       "3  ...                  480.0                   360.0                PT11M49S   \n",
       "4  ...                  480.0                   360.0                  PT8M2S   \n",
       "\n",
       "   contentDetails.dimension  \\\n",
       "0                        2d   \n",
       "1                        2d   \n",
       "2                       NaN   \n",
       "3                        2d   \n",
       "4                        2d   \n",
       "\n",
       "                        topicDetails.topicCategories snippet.defaultLanguage  \\\n",
       "0  ['https://en.wikipedia.org/wiki/Lifestyle_(soc...                     NaN   \n",
       "1  ['https://en.wikipedia.org/wiki/Lifestyle_(soc...                      en   \n",
       "2                                                NaN                     NaN   \n",
       "3  ['https://en.wikipedia.org/wiki/Lifestyle_(soc...                     NaN   \n",
       "4  ['https://en.wikipedia.org/wiki/Lifestyle_(soc...                     NaN   \n",
       "\n",
       "             localizations.en.title  \\\n",
       "0                               NaN   \n",
       "1  Extreme $1,000,000 Hide And Seek   \n",
       "2                               NaN   \n",
       "3                               NaN   \n",
       "4                               NaN   \n",
       "\n",
       "                        localizations.en.description snippet.tags  \\\n",
       "0                                                NaN          NaN   \n",
       "1  I didn't expect that to happen at the end I wa...          NaN   \n",
       "2                                                NaN          NaN   \n",
       "3                                                NaN          NaN   \n",
       "4                                                NaN          NaN   \n",
       "\n",
       "  contentDetails.contentRating.ytRating  \n",
       "0                                   NaN  \n",
       "1                                   NaN  \n",
       "2                                   NaN  \n",
       "3                                   NaN  \n",
       "4                                   NaN  \n",
       "\n",
       "[5 rows x 26 columns]"
      ]
     },
     "execution_count": 13,
     "metadata": {},
     "output_type": "execute_result"
    }
   ],
   "source": [
    "# Head is first five rows.\n",
    "# Tail is last 5 rows\n",
    "df.head()"
   ]
  },
  {
   "cell_type": "code",
   "execution_count": 14,
   "id": "e9f06981",
   "metadata": {
    "execution": {
     "iopub.execute_input": "2022-06-09T01:46:53.720835Z",
     "iopub.status.busy": "2022-06-09T01:46:53.719859Z",
     "iopub.status.idle": "2022-06-09T01:46:53.746719Z",
     "shell.execute_reply": "2022-06-09T01:46:53.745978Z"
    },
    "papermill": {
     "duration": 0.076351,
     "end_time": "2022-06-09T01:46:53.748777",
     "exception": false,
     "start_time": "2022-06-09T01:46:53.672426",
     "status": "completed"
    },
    "tags": []
   },
   "outputs": [
    {
     "data": {
      "text/html": [
       "<div>\n",
       "<style scoped>\n",
       "    .dataframe tbody tr th:only-of-type {\n",
       "        vertical-align: middle;\n",
       "    }\n",
       "\n",
       "    .dataframe tbody tr th {\n",
       "        vertical-align: top;\n",
       "    }\n",
       "\n",
       "    .dataframe thead th {\n",
       "        text-align: right;\n",
       "    }\n",
       "</style>\n",
       "<table border=\"1\" class=\"dataframe\">\n",
       "  <thead>\n",
       "    <tr style=\"text-align: right;\">\n",
       "      <th></th>\n",
       "      <th>id</th>\n",
       "      <th>title</th>\n",
       "      <th>description</th>\n",
       "      <th>publishTime</th>\n",
       "      <th>kind_stats</th>\n",
       "      <th>duration_seconds</th>\n",
       "      <th>viewCount</th>\n",
       "      <th>likeCount</th>\n",
       "      <th>commentCount</th>\n",
       "      <th>thumbnails.default.url</th>\n",
       "      <th>...</th>\n",
       "      <th>thumbnails.high.width</th>\n",
       "      <th>thumbnails.high.height</th>\n",
       "      <th>contentDetails.duration</th>\n",
       "      <th>contentDetails.dimension</th>\n",
       "      <th>topicDetails.topicCategories</th>\n",
       "      <th>snippet.defaultLanguage</th>\n",
       "      <th>localizations.en.title</th>\n",
       "      <th>localizations.en.description</th>\n",
       "      <th>snippet.tags</th>\n",
       "      <th>contentDetails.contentRating.ytRating</th>\n",
       "    </tr>\n",
       "  </thead>\n",
       "  <tbody>\n",
       "    <tr>\n",
       "      <th>242</th>\n",
       "      <td>yeHjsYQ076A</td>\n",
       "      <td>Remember When COD Was Fun?</td>\n",
       "      <td>Yup, another very pointless video ▻ Subscribe?...</td>\n",
       "      <td>2015-04-26 21:26:36+00:00</td>\n",
       "      <td>youtube#video</td>\n",
       "      <td>216</td>\n",
       "      <td>16312.0</td>\n",
       "      <td>574.0</td>\n",
       "      <td>145.0</td>\n",
       "      <td>https://i.ytimg.com/vi/yeHjsYQ076A/default.jpg</td>\n",
       "      <td>...</td>\n",
       "      <td>480.0</td>\n",
       "      <td>360.0</td>\n",
       "      <td>PT3M36S</td>\n",
       "      <td>2d</td>\n",
       "      <td>['https://en.wikipedia.org/wiki/Action-adventu...</td>\n",
       "      <td>NaN</td>\n",
       "      <td>NaN</td>\n",
       "      <td>NaN</td>\n",
       "      <td>['How', 'much', 'money', 'does', 'make', 'blac...</td>\n",
       "      <td>NaN</td>\n",
       "    </tr>\n",
       "    <tr>\n",
       "      <th>243</th>\n",
       "      <td>X7doE4h6W64</td>\n",
       "      <td>Insane Gun Sync - 7 Hours To Make</td>\n",
       "      <td>Look at this - http://gyazo.com/8852509d2350db...</td>\n",
       "      <td>2015-06-21 12:22:34+00:00</td>\n",
       "      <td>youtube#video</td>\n",
       "      <td>134</td>\n",
       "      <td>15740.0</td>\n",
       "      <td>637.0</td>\n",
       "      <td>105.0</td>\n",
       "      <td>https://i.ytimg.com/vi/X7doE4h6W64/default.jpg</td>\n",
       "      <td>...</td>\n",
       "      <td>480.0</td>\n",
       "      <td>360.0</td>\n",
       "      <td>PT2M14S</td>\n",
       "      <td>2d</td>\n",
       "      <td>['https://en.wikipedia.org/wiki/Action-adventu...</td>\n",
       "      <td>NaN</td>\n",
       "      <td>NaN</td>\n",
       "      <td>NaN</td>\n",
       "      <td>['How', 'much', 'money', 'does', 'make', 'blac...</td>\n",
       "      <td>NaN</td>\n",
       "    </tr>\n",
       "    <tr>\n",
       "      <th>244</th>\n",
       "      <td>AIytwdufwW8</td>\n",
       "      <td>MY MESSAGE TO COD YOUTUBERS (Watch till end plz)</td>\n",
       "      <td>The beginning of the video is a little off top...</td>\n",
       "      <td>2015-05-29 20:07:48+00:00</td>\n",
       "      <td>youtube#video</td>\n",
       "      <td>292</td>\n",
       "      <td>18502.0</td>\n",
       "      <td>508.0</td>\n",
       "      <td>117.0</td>\n",
       "      <td>https://i.ytimg.com/vi/AIytwdufwW8/default.jpg</td>\n",
       "      <td>...</td>\n",
       "      <td>480.0</td>\n",
       "      <td>360.0</td>\n",
       "      <td>PT4M52S</td>\n",
       "      <td>2d</td>\n",
       "      <td>['https://en.wikipedia.org/wiki/Action-adventu...</td>\n",
       "      <td>NaN</td>\n",
       "      <td>NaN</td>\n",
       "      <td>NaN</td>\n",
       "      <td>['How', 'much', 'money', 'does', 'make', 'blac...</td>\n",
       "      <td>NaN</td>\n",
       "    </tr>\n",
       "    <tr>\n",
       "      <th>245</th>\n",
       "      <td>56OkH6ocYZU</td>\n",
       "      <td>L0114R - Biblical Creeper Post for Post @L0114R</td>\n",
       "      <td>His channel - https://www.youtube.com/user/the...</td>\n",
       "      <td>2015-05-15 16:48:54+00:00</td>\n",
       "      <td>youtube#video</td>\n",
       "      <td>109</td>\n",
       "      <td>16627.0</td>\n",
       "      <td>430.0</td>\n",
       "      <td>134.0</td>\n",
       "      <td>https://i.ytimg.com/vi/56OkH6ocYZU/default.jpg</td>\n",
       "      <td>...</td>\n",
       "      <td>480.0</td>\n",
       "      <td>360.0</td>\n",
       "      <td>PT1M49S</td>\n",
       "      <td>2d</td>\n",
       "      <td>['https://en.wikipedia.org/wiki/Action-adventu...</td>\n",
       "      <td>NaN</td>\n",
       "      <td>NaN</td>\n",
       "      <td>NaN</td>\n",
       "      <td>['How', 'much', 'money', 'does', 'make', 'blac...</td>\n",
       "      <td>NaN</td>\n",
       "    </tr>\n",
       "    <tr>\n",
       "      <th>246</th>\n",
       "      <td>zi7tZ-2PhLk</td>\n",
       "      <td>How Much Money Do You Make As An Uber Driver??...</td>\n",
       "      <td>In this video I talk about being an uber drive...</td>\n",
       "      <td>2015-05-31 18:31:25+00:00</td>\n",
       "      <td>youtube#video</td>\n",
       "      <td>304</td>\n",
       "      <td>18773.0</td>\n",
       "      <td>370.0</td>\n",
       "      <td>59.0</td>\n",
       "      <td>https://i.ytimg.com/vi/zi7tZ-2PhLk/default.jpg</td>\n",
       "      <td>...</td>\n",
       "      <td>480.0</td>\n",
       "      <td>360.0</td>\n",
       "      <td>PT5M4S</td>\n",
       "      <td>2d</td>\n",
       "      <td>['https://en.wikipedia.org/wiki/Action-adventu...</td>\n",
       "      <td>NaN</td>\n",
       "      <td>NaN</td>\n",
       "      <td>NaN</td>\n",
       "      <td>['How', 'much', 'money', 'does', 'make', 'blac...</td>\n",
       "      <td>NaN</td>\n",
       "    </tr>\n",
       "  </tbody>\n",
       "</table>\n",
       "<p>5 rows × 26 columns</p>\n",
       "</div>"
      ],
      "text/plain": [
       "              id                                              title  \\\n",
       "242  yeHjsYQ076A                         Remember When COD Was Fun?   \n",
       "243  X7doE4h6W64                  Insane Gun Sync - 7 Hours To Make   \n",
       "244  AIytwdufwW8   MY MESSAGE TO COD YOUTUBERS (Watch till end plz)   \n",
       "245  56OkH6ocYZU    L0114R - Biblical Creeper Post for Post @L0114R   \n",
       "246  zi7tZ-2PhLk  How Much Money Do You Make As An Uber Driver??...   \n",
       "\n",
       "                                           description  \\\n",
       "242  Yup, another very pointless video ▻ Subscribe?...   \n",
       "243  Look at this - http://gyazo.com/8852509d2350db...   \n",
       "244  The beginning of the video is a little off top...   \n",
       "245  His channel - https://www.youtube.com/user/the...   \n",
       "246  In this video I talk about being an uber drive...   \n",
       "\n",
       "                   publishTime     kind_stats  duration_seconds  viewCount  \\\n",
       "242  2015-04-26 21:26:36+00:00  youtube#video               216    16312.0   \n",
       "243  2015-06-21 12:22:34+00:00  youtube#video               134    15740.0   \n",
       "244  2015-05-29 20:07:48+00:00  youtube#video               292    18502.0   \n",
       "245  2015-05-15 16:48:54+00:00  youtube#video               109    16627.0   \n",
       "246  2015-05-31 18:31:25+00:00  youtube#video               304    18773.0   \n",
       "\n",
       "     likeCount  commentCount                          thumbnails.default.url  \\\n",
       "242      574.0         145.0  https://i.ytimg.com/vi/yeHjsYQ076A/default.jpg   \n",
       "243      637.0         105.0  https://i.ytimg.com/vi/X7doE4h6W64/default.jpg   \n",
       "244      508.0         117.0  https://i.ytimg.com/vi/AIytwdufwW8/default.jpg   \n",
       "245      430.0         134.0  https://i.ytimg.com/vi/56OkH6ocYZU/default.jpg   \n",
       "246      370.0          59.0  https://i.ytimg.com/vi/zi7tZ-2PhLk/default.jpg   \n",
       "\n",
       "     ...  thumbnails.high.width  thumbnails.high.height  \\\n",
       "242  ...                  480.0                   360.0   \n",
       "243  ...                  480.0                   360.0   \n",
       "244  ...                  480.0                   360.0   \n",
       "245  ...                  480.0                   360.0   \n",
       "246  ...                  480.0                   360.0   \n",
       "\n",
       "    contentDetails.duration  contentDetails.dimension  \\\n",
       "242                 PT3M36S                        2d   \n",
       "243                 PT2M14S                        2d   \n",
       "244                 PT4M52S                        2d   \n",
       "245                 PT1M49S                        2d   \n",
       "246                  PT5M4S                        2d   \n",
       "\n",
       "                          topicDetails.topicCategories  \\\n",
       "242  ['https://en.wikipedia.org/wiki/Action-adventu...   \n",
       "243  ['https://en.wikipedia.org/wiki/Action-adventu...   \n",
       "244  ['https://en.wikipedia.org/wiki/Action-adventu...   \n",
       "245  ['https://en.wikipedia.org/wiki/Action-adventu...   \n",
       "246  ['https://en.wikipedia.org/wiki/Action-adventu...   \n",
       "\n",
       "    snippet.defaultLanguage  localizations.en.title  \\\n",
       "242                     NaN                     NaN   \n",
       "243                     NaN                     NaN   \n",
       "244                     NaN                     NaN   \n",
       "245                     NaN                     NaN   \n",
       "246                     NaN                     NaN   \n",
       "\n",
       "     localizations.en.description  \\\n",
       "242                           NaN   \n",
       "243                           NaN   \n",
       "244                           NaN   \n",
       "245                           NaN   \n",
       "246                           NaN   \n",
       "\n",
       "                                          snippet.tags  \\\n",
       "242  ['How', 'much', 'money', 'does', 'make', 'blac...   \n",
       "243  ['How', 'much', 'money', 'does', 'make', 'blac...   \n",
       "244  ['How', 'much', 'money', 'does', 'make', 'blac...   \n",
       "245  ['How', 'much', 'money', 'does', 'make', 'blac...   \n",
       "246  ['How', 'much', 'money', 'does', 'make', 'blac...   \n",
       "\n",
       "    contentDetails.contentRating.ytRating  \n",
       "242                                   NaN  \n",
       "243                                   NaN  \n",
       "244                                   NaN  \n",
       "245                                   NaN  \n",
       "246                                   NaN  \n",
       "\n",
       "[5 rows x 26 columns]"
      ]
     },
     "execution_count": 14,
     "metadata": {},
     "output_type": "execute_result"
    }
   ],
   "source": [
    "df.tail()"
   ]
  },
  {
   "cell_type": "markdown",
   "id": "a7cc2b18",
   "metadata": {
    "papermill": {
     "duration": 0.048447,
     "end_time": "2022-06-09T01:46:53.845213",
     "exception": false,
     "start_time": "2022-06-09T01:46:53.796766",
     "status": "completed"
    },
    "tags": []
   },
   "source": [
    "#### Know what type of data each series(column) is"
   ]
  },
  {
   "cell_type": "code",
   "execution_count": 15,
   "id": "25e3c56b",
   "metadata": {
    "execution": {
     "iopub.execute_input": "2022-06-09T01:46:53.943515Z",
     "iopub.status.busy": "2022-06-09T01:46:53.942931Z",
     "iopub.status.idle": "2022-06-09T01:46:53.950700Z",
     "shell.execute_reply": "2022-06-09T01:46:53.950122Z"
    },
    "papermill": {
     "duration": 0.06021,
     "end_time": "2022-06-09T01:46:53.952635",
     "exception": false,
     "start_time": "2022-06-09T01:46:53.892425",
     "status": "completed"
    },
    "tags": []
   },
   "outputs": [
    {
     "data": {
      "text/plain": [
       "id                                        object\n",
       "title                                     object\n",
       "description                               object\n",
       "publishTime                               object\n",
       "kind_stats                                object\n",
       "duration_seconds                           int64\n",
       "viewCount                                float64\n",
       "likeCount                                float64\n",
       "commentCount                             float64\n",
       "thumbnails.default.url                    object\n",
       "thumbnails.default.width                 float64\n",
       "thumbnails.default.height                float64\n",
       "thumbnails.medium.url                     object\n",
       "thumbnails.medium.width                  float64\n",
       "thumbnails.medium.height                 float64\n",
       "thumbnails.high.url                       object\n",
       "thumbnails.high.width                    float64\n",
       "thumbnails.high.height                   float64\n",
       "contentDetails.duration                   object\n",
       "contentDetails.dimension                  object\n",
       "topicDetails.topicCategories              object\n",
       "snippet.defaultLanguage                   object\n",
       "localizations.en.title                    object\n",
       "localizations.en.description              object\n",
       "snippet.tags                              object\n",
       "contentDetails.contentRating.ytRating     object\n",
       "dtype: object"
      ]
     },
     "execution_count": 15,
     "metadata": {},
     "output_type": "execute_result"
    }
   ],
   "source": [
    "df.dtypes"
   ]
  },
  {
   "cell_type": "markdown",
   "id": "17217f5b",
   "metadata": {
    "papermill": {
     "duration": 0.045835,
     "end_time": "2022-06-09T01:46:54.048249",
     "exception": false,
     "start_time": "2022-06-09T01:46:54.002414",
     "status": "completed"
    },
    "tags": []
   },
   "source": []
  },
  {
   "cell_type": "code",
   "execution_count": 16,
   "id": "33a72e47",
   "metadata": {
    "execution": {
     "iopub.execute_input": "2022-06-09T01:46:54.141945Z",
     "iopub.status.busy": "2022-06-09T01:46:54.141429Z",
     "iopub.status.idle": "2022-06-09T01:46:54.186420Z",
     "shell.execute_reply": "2022-06-09T01:46:54.185565Z"
    },
    "papermill": {
     "duration": 0.094046,
     "end_time": "2022-06-09T01:46:54.188422",
     "exception": false,
     "start_time": "2022-06-09T01:46:54.094376",
     "status": "completed"
    },
    "tags": []
   },
   "outputs": [
    {
     "data": {
      "text/html": [
       "<div>\n",
       "<style scoped>\n",
       "    .dataframe tbody tr th:only-of-type {\n",
       "        vertical-align: middle;\n",
       "    }\n",
       "\n",
       "    .dataframe tbody tr th {\n",
       "        vertical-align: top;\n",
       "    }\n",
       "\n",
       "    .dataframe thead th {\n",
       "        text-align: right;\n",
       "    }\n",
       "</style>\n",
       "<table border=\"1\" class=\"dataframe\">\n",
       "  <thead>\n",
       "    <tr style=\"text-align: right;\">\n",
       "      <th></th>\n",
       "      <th>duration_seconds</th>\n",
       "      <th>viewCount</th>\n",
       "      <th>likeCount</th>\n",
       "      <th>commentCount</th>\n",
       "      <th>thumbnails.default.width</th>\n",
       "      <th>thumbnails.default.height</th>\n",
       "      <th>thumbnails.medium.width</th>\n",
       "      <th>thumbnails.medium.height</th>\n",
       "      <th>thumbnails.high.width</th>\n",
       "      <th>thumbnails.high.height</th>\n",
       "    </tr>\n",
       "  </thead>\n",
       "  <tbody>\n",
       "    <tr>\n",
       "      <th>count</th>\n",
       "      <td>247.000000</td>\n",
       "      <td>2.460000e+02</td>\n",
       "      <td>2.440000e+02</td>\n",
       "      <td>245.000000</td>\n",
       "      <td>246.0</td>\n",
       "      <td>246.0</td>\n",
       "      <td>246.0</td>\n",
       "      <td>246.0</td>\n",
       "      <td>246.0</td>\n",
       "      <td>246.0</td>\n",
       "    </tr>\n",
       "    <tr>\n",
       "      <th>mean</th>\n",
       "      <td>1886.234818</td>\n",
       "      <td>5.084638e+07</td>\n",
       "      <td>1.610498e+06</td>\n",
       "      <td>75562.783673</td>\n",
       "      <td>120.0</td>\n",
       "      <td>90.0</td>\n",
       "      <td>320.0</td>\n",
       "      <td>180.0</td>\n",
       "      <td>480.0</td>\n",
       "      <td>360.0</td>\n",
       "    </tr>\n",
       "    <tr>\n",
       "      <th>std</th>\n",
       "      <td>8642.188728</td>\n",
       "      <td>4.062672e+07</td>\n",
       "      <td>1.879529e+06</td>\n",
       "      <td>85356.537127</td>\n",
       "      <td>0.0</td>\n",
       "      <td>0.0</td>\n",
       "      <td>0.0</td>\n",
       "      <td>0.0</td>\n",
       "      <td>0.0</td>\n",
       "      <td>0.0</td>\n",
       "    </tr>\n",
       "    <tr>\n",
       "      <th>min</th>\n",
       "      <td>0.000000</td>\n",
       "      <td>1.395400e+04</td>\n",
       "      <td>3.700000e+02</td>\n",
       "      <td>59.000000</td>\n",
       "      <td>120.0</td>\n",
       "      <td>90.0</td>\n",
       "      <td>320.0</td>\n",
       "      <td>180.0</td>\n",
       "      <td>480.0</td>\n",
       "      <td>360.0</td>\n",
       "    </tr>\n",
       "    <tr>\n",
       "      <th>25%</th>\n",
       "      <td>425.500000</td>\n",
       "      <td>1.406442e+07</td>\n",
       "      <td>4.348780e+05</td>\n",
       "      <td>21552.000000</td>\n",
       "      <td>120.0</td>\n",
       "      <td>90.0</td>\n",
       "      <td>320.0</td>\n",
       "      <td>180.0</td>\n",
       "      <td>480.0</td>\n",
       "      <td>360.0</td>\n",
       "    </tr>\n",
       "    <tr>\n",
       "      <th>50%</th>\n",
       "      <td>776.000000</td>\n",
       "      <td>4.904782e+07</td>\n",
       "      <td>1.358232e+06</td>\n",
       "      <td>60701.000000</td>\n",
       "      <td>120.0</td>\n",
       "      <td>90.0</td>\n",
       "      <td>320.0</td>\n",
       "      <td>180.0</td>\n",
       "      <td>480.0</td>\n",
       "      <td>360.0</td>\n",
       "    </tr>\n",
       "    <tr>\n",
       "      <th>75%</th>\n",
       "      <td>923.000000</td>\n",
       "      <td>8.125392e+07</td>\n",
       "      <td>2.294378e+06</td>\n",
       "      <td>99670.000000</td>\n",
       "      <td>120.0</td>\n",
       "      <td>90.0</td>\n",
       "      <td>320.0</td>\n",
       "      <td>180.0</td>\n",
       "      <td>480.0</td>\n",
       "      <td>360.0</td>\n",
       "    </tr>\n",
       "    <tr>\n",
       "      <th>max</th>\n",
       "      <td>85686.000000</td>\n",
       "      <td>1.787632e+08</td>\n",
       "      <td>1.904943e+07</td>\n",
       "      <td>726861.000000</td>\n",
       "      <td>120.0</td>\n",
       "      <td>90.0</td>\n",
       "      <td>320.0</td>\n",
       "      <td>180.0</td>\n",
       "      <td>480.0</td>\n",
       "      <td>360.0</td>\n",
       "    </tr>\n",
       "  </tbody>\n",
       "</table>\n",
       "</div>"
      ],
      "text/plain": [
       "       duration_seconds     viewCount     likeCount   commentCount  \\\n",
       "count        247.000000  2.460000e+02  2.440000e+02     245.000000   \n",
       "mean        1886.234818  5.084638e+07  1.610498e+06   75562.783673   \n",
       "std         8642.188728  4.062672e+07  1.879529e+06   85356.537127   \n",
       "min            0.000000  1.395400e+04  3.700000e+02      59.000000   \n",
       "25%          425.500000  1.406442e+07  4.348780e+05   21552.000000   \n",
       "50%          776.000000  4.904782e+07  1.358232e+06   60701.000000   \n",
       "75%          923.000000  8.125392e+07  2.294378e+06   99670.000000   \n",
       "max        85686.000000  1.787632e+08  1.904943e+07  726861.000000   \n",
       "\n",
       "       thumbnails.default.width  thumbnails.default.height  \\\n",
       "count                     246.0                      246.0   \n",
       "mean                      120.0                       90.0   \n",
       "std                         0.0                        0.0   \n",
       "min                       120.0                       90.0   \n",
       "25%                       120.0                       90.0   \n",
       "50%                       120.0                       90.0   \n",
       "75%                       120.0                       90.0   \n",
       "max                       120.0                       90.0   \n",
       "\n",
       "       thumbnails.medium.width  thumbnails.medium.height  \\\n",
       "count                    246.0                     246.0   \n",
       "mean                     320.0                     180.0   \n",
       "std                        0.0                       0.0   \n",
       "min                      320.0                     180.0   \n",
       "25%                      320.0                     180.0   \n",
       "50%                      320.0                     180.0   \n",
       "75%                      320.0                     180.0   \n",
       "max                      320.0                     180.0   \n",
       "\n",
       "       thumbnails.high.width  thumbnails.high.height  \n",
       "count                  246.0                   246.0  \n",
       "mean                   480.0                   360.0  \n",
       "std                      0.0                     0.0  \n",
       "min                    480.0                   360.0  \n",
       "25%                    480.0                   360.0  \n",
       "50%                    480.0                   360.0  \n",
       "75%                    480.0                   360.0  \n",
       "max                    480.0                   360.0  "
      ]
     },
     "execution_count": 16,
     "metadata": {},
     "output_type": "execute_result"
    }
   ],
   "source": [
    "df.describe()"
   ]
  },
  {
   "cell_type": "markdown",
   "id": "4bbd7730",
   "metadata": {
    "papermill": {
     "duration": 0.045882,
     "end_time": "2022-06-09T01:46:54.284887",
     "exception": false,
     "start_time": "2022-06-09T01:46:54.239005",
     "status": "completed"
    },
    "tags": []
   },
   "source": [
    "# Columns and Rows"
   ]
  },
  {
   "cell_type": "code",
   "execution_count": 17,
   "id": "1cdc29c4",
   "metadata": {
    "execution": {
     "iopub.execute_input": "2022-06-09T01:46:54.378326Z",
     "iopub.status.busy": "2022-06-09T01:46:54.377467Z",
     "iopub.status.idle": "2022-06-09T01:46:54.385197Z",
     "shell.execute_reply": "2022-06-09T01:46:54.384334Z"
    },
    "papermill": {
     "duration": 0.056976,
     "end_time": "2022-06-09T01:46:54.387643",
     "exception": false,
     "start_time": "2022-06-09T01:46:54.330667",
     "status": "completed"
    },
    "tags": []
   },
   "outputs": [
    {
     "data": {
      "text/plain": [
       "0       84717282.0\n",
       "1       32090178.0\n",
       "2              NaN\n",
       "3      101745632.0\n",
       "4       50008942.0\n",
       "          ...     \n",
       "242        16312.0\n",
       "243        15740.0\n",
       "244        18502.0\n",
       "245        16627.0\n",
       "246        18773.0\n",
       "Name: viewCount, Length: 247, dtype: float64"
      ]
     },
     "execution_count": 17,
     "metadata": {},
     "output_type": "execute_result"
    }
   ],
   "source": [
    "df['viewCount'] \n",
    "#to get a certain series from the dataframe"
   ]
  },
  {
   "cell_type": "code",
   "execution_count": 18,
   "id": "1ab61dc9",
   "metadata": {
    "execution": {
     "iopub.execute_input": "2022-06-09T01:46:54.486860Z",
     "iopub.status.busy": "2022-06-09T01:46:54.486284Z",
     "iopub.status.idle": "2022-06-09T01:46:54.493385Z",
     "shell.execute_reply": "2022-06-09T01:46:54.492818Z"
    },
    "papermill": {
     "duration": 0.056552,
     "end_time": "2022-06-09T01:46:54.495264",
     "exception": false,
     "start_time": "2022-06-09T01:46:54.438712",
     "status": "completed"
    },
    "tags": []
   },
   "outputs": [
    {
     "data": {
      "text/plain": [
       "id                                                                             cExLQ1o2pDw\n",
       "title                                                      First To Rob Bank Wins $100,000\n",
       "description                              I didnt think he would actually rob the bank.....\n",
       "publishTime                                                      2021-09-26 20:00:06+00:00\n",
       "kind_stats                                                                   youtube#video\n",
       "duration_seconds                                                                       482\n",
       "viewCount                                                                       50008942.0\n",
       "likeCount                                                                        2359606.0\n",
       "commentCount                                                                      120621.0\n",
       "thumbnails.default.url                      https://i.ytimg.com/vi/cExLQ1o2pDw/default.jpg\n",
       "thumbnails.default.width                                                             120.0\n",
       "thumbnails.default.height                                                             90.0\n",
       "thumbnails.medium.url                     https://i.ytimg.com/vi/cExLQ1o2pDw/mqdefault.jpg\n",
       "thumbnails.medium.width                                                              320.0\n",
       "thumbnails.medium.height                                                             180.0\n",
       "thumbnails.high.url                       https://i.ytimg.com/vi/cExLQ1o2pDw/hqdefault.jpg\n",
       "thumbnails.high.width                                                                480.0\n",
       "thumbnails.high.height                                                               360.0\n",
       "contentDetails.duration                                                             PT8M2S\n",
       "contentDetails.dimension                                                                2d\n",
       "topicDetails.topicCategories             ['https://en.wikipedia.org/wiki/Lifestyle_(soc...\n",
       "snippet.defaultLanguage                                                                NaN\n",
       "localizations.en.title                                                                 NaN\n",
       "localizations.en.description                                                           NaN\n",
       "snippet.tags                                                                           NaN\n",
       "contentDetails.contentRating.ytRating                                                  NaN\n",
       "Name: 4, dtype: object"
      ]
     },
     "execution_count": 18,
     "metadata": {},
     "output_type": "execute_result"
    }
   ],
   "source": [
    "df.loc[4]\n",
    "#locate a singe row and all of its columns properties"
   ]
  },
  {
   "cell_type": "code",
   "execution_count": 19,
   "id": "bb003f00",
   "metadata": {
    "execution": {
     "iopub.execute_input": "2022-06-09T01:46:54.596066Z",
     "iopub.status.busy": "2022-06-09T01:46:54.595549Z",
     "iopub.status.idle": "2022-06-09T01:46:54.600196Z",
     "shell.execute_reply": "2022-06-09T01:46:54.599589Z"
    },
    "papermill": {
     "duration": 0.057341,
     "end_time": "2022-06-09T01:46:54.602014",
     "exception": false,
     "start_time": "2022-06-09T01:46:54.544673",
     "status": "completed"
    },
    "tags": []
   },
   "outputs": [],
   "source": [
    "df = df.set_index('id')\n",
    "#set the index to id, not the default 0,1,2,3"
   ]
  },
  {
   "cell_type": "code",
   "execution_count": 20,
   "id": "84f7b894",
   "metadata": {
    "execution": {
     "iopub.execute_input": "2022-06-09T01:46:54.703704Z",
     "iopub.status.busy": "2022-06-09T01:46:54.703161Z",
     "iopub.status.idle": "2022-06-09T01:46:54.733922Z",
     "shell.execute_reply": "2022-06-09T01:46:54.733037Z"
    },
    "papermill": {
     "duration": 0.084153,
     "end_time": "2022-06-09T01:46:54.736329",
     "exception": false,
     "start_time": "2022-06-09T01:46:54.652176",
     "status": "completed"
    },
    "tags": []
   },
   "outputs": [
    {
     "data": {
      "text/html": [
       "<div>\n",
       "<style scoped>\n",
       "    .dataframe tbody tr th:only-of-type {\n",
       "        vertical-align: middle;\n",
       "    }\n",
       "\n",
       "    .dataframe tbody tr th {\n",
       "        vertical-align: top;\n",
       "    }\n",
       "\n",
       "    .dataframe thead th {\n",
       "        text-align: right;\n",
       "    }\n",
       "</style>\n",
       "<table border=\"1\" class=\"dataframe\">\n",
       "  <thead>\n",
       "    <tr style=\"text-align: right;\">\n",
       "      <th></th>\n",
       "      <th>title</th>\n",
       "      <th>description</th>\n",
       "      <th>publishTime</th>\n",
       "      <th>kind_stats</th>\n",
       "      <th>duration_seconds</th>\n",
       "      <th>viewCount</th>\n",
       "      <th>likeCount</th>\n",
       "      <th>commentCount</th>\n",
       "      <th>thumbnails.default.url</th>\n",
       "      <th>thumbnails.default.width</th>\n",
       "      <th>...</th>\n",
       "      <th>thumbnails.high.width</th>\n",
       "      <th>thumbnails.high.height</th>\n",
       "      <th>contentDetails.duration</th>\n",
       "      <th>contentDetails.dimension</th>\n",
       "      <th>topicDetails.topicCategories</th>\n",
       "      <th>snippet.defaultLanguage</th>\n",
       "      <th>localizations.en.title</th>\n",
       "      <th>localizations.en.description</th>\n",
       "      <th>snippet.tags</th>\n",
       "      <th>contentDetails.contentRating.ytRating</th>\n",
       "    </tr>\n",
       "    <tr>\n",
       "      <th>id</th>\n",
       "      <th></th>\n",
       "      <th></th>\n",
       "      <th></th>\n",
       "      <th></th>\n",
       "      <th></th>\n",
       "      <th></th>\n",
       "      <th></th>\n",
       "      <th></th>\n",
       "      <th></th>\n",
       "      <th></th>\n",
       "      <th></th>\n",
       "      <th></th>\n",
       "      <th></th>\n",
       "      <th></th>\n",
       "      <th></th>\n",
       "      <th></th>\n",
       "      <th></th>\n",
       "      <th></th>\n",
       "      <th></th>\n",
       "      <th></th>\n",
       "      <th></th>\n",
       "    </tr>\n",
       "  </thead>\n",
       "  <tbody>\n",
       "    <tr>\n",
       "      <th>TQHEJj68Jew</th>\n",
       "      <td>I Got Hunted By A Real Bounty Hunter</td>\n",
       "      <td>Sign up for Current w/ my Creator Code \"BEAST\"...</td>\n",
       "      <td>2021-04-24 20:00:00+00:00</td>\n",
       "      <td>youtube#video</td>\n",
       "      <td>861</td>\n",
       "      <td>84717282.0</td>\n",
       "      <td>2876493.0</td>\n",
       "      <td>128922.0</td>\n",
       "      <td>https://i.ytimg.com/vi/TQHEJj68Jew/default.jpg</td>\n",
       "      <td>120.0</td>\n",
       "      <td>...</td>\n",
       "      <td>480.0</td>\n",
       "      <td>360.0</td>\n",
       "      <td>PT14M21S</td>\n",
       "      <td>2d</td>\n",
       "      <td>['https://en.wikipedia.org/wiki/Lifestyle_(soc...</td>\n",
       "      <td>NaN</td>\n",
       "      <td>NaN</td>\n",
       "      <td>NaN</td>\n",
       "      <td>NaN</td>\n",
       "      <td>NaN</td>\n",
       "    </tr>\n",
       "    <tr>\n",
       "      <th>00NgUctWoLQ</th>\n",
       "      <td>Extreme $1,000,000 Hide And Seek</td>\n",
       "      <td>I didn't expect that to happen at the end I wa...</td>\n",
       "      <td>2021-12-18 21:00:00+00:00</td>\n",
       "      <td>youtube#video</td>\n",
       "      <td>729</td>\n",
       "      <td>32090178.0</td>\n",
       "      <td>2125183.0</td>\n",
       "      <td>73593.0</td>\n",
       "      <td>https://i.ytimg.com/vi/00NgUctWoLQ/default.jpg</td>\n",
       "      <td>120.0</td>\n",
       "      <td>...</td>\n",
       "      <td>480.0</td>\n",
       "      <td>360.0</td>\n",
       "      <td>PT12M9S</td>\n",
       "      <td>2d</td>\n",
       "      <td>['https://en.wikipedia.org/wiki/Lifestyle_(soc...</td>\n",
       "      <td>en</td>\n",
       "      <td>Extreme $1,000,000 Hide And Seek</td>\n",
       "      <td>I didn't expect that to happen at the end I wa...</td>\n",
       "      <td>NaN</td>\n",
       "      <td>NaN</td>\n",
       "    </tr>\n",
       "    <tr>\n",
       "      <th>NaN</th>\n",
       "      <td>MrBeast</td>\n",
       "      <td>Accomplishments - Raised $20000000 To Plant 20...</td>\n",
       "      <td>2012-02-20 00:43:50+00:00</td>\n",
       "      <td>NaN</td>\n",
       "      <td>0</td>\n",
       "      <td>NaN</td>\n",
       "      <td>NaN</td>\n",
       "      <td>NaN</td>\n",
       "      <td>https://yt3.ggpht.com/ytc/AKedOLTctGKJ32CdDLiS...</td>\n",
       "      <td>NaN</td>\n",
       "      <td>...</td>\n",
       "      <td>NaN</td>\n",
       "      <td>NaN</td>\n",
       "      <td>NaN</td>\n",
       "      <td>NaN</td>\n",
       "      <td>NaN</td>\n",
       "      <td>NaN</td>\n",
       "      <td>NaN</td>\n",
       "      <td>NaN</td>\n",
       "      <td>NaN</td>\n",
       "      <td>NaN</td>\n",
       "    </tr>\n",
       "    <tr>\n",
       "      <th>ayXxwJJId_c</th>\n",
       "      <td>I Bought The World&amp;#39;s Largest Mystery Box! ...</td>\n",
       "      <td>I cant believe I spent over $500000 on mystery...</td>\n",
       "      <td>2021-04-03 20:00:01+00:00</td>\n",
       "      <td>youtube#video</td>\n",
       "      <td>709</td>\n",
       "      <td>101745632.0</td>\n",
       "      <td>3110824.0</td>\n",
       "      <td>162796.0</td>\n",
       "      <td>https://i.ytimg.com/vi/ayXxwJJId_c/default.jpg</td>\n",
       "      <td>120.0</td>\n",
       "      <td>...</td>\n",
       "      <td>480.0</td>\n",
       "      <td>360.0</td>\n",
       "      <td>PT11M49S</td>\n",
       "      <td>2d</td>\n",
       "      <td>['https://en.wikipedia.org/wiki/Lifestyle_(soc...</td>\n",
       "      <td>NaN</td>\n",
       "      <td>NaN</td>\n",
       "      <td>NaN</td>\n",
       "      <td>NaN</td>\n",
       "      <td>NaN</td>\n",
       "    </tr>\n",
       "    <tr>\n",
       "      <th>cExLQ1o2pDw</th>\n",
       "      <td>First To Rob Bank Wins $100,000</td>\n",
       "      <td>I didnt think he would actually rob the bank.....</td>\n",
       "      <td>2021-09-26 20:00:06+00:00</td>\n",
       "      <td>youtube#video</td>\n",
       "      <td>482</td>\n",
       "      <td>50008942.0</td>\n",
       "      <td>2359606.0</td>\n",
       "      <td>120621.0</td>\n",
       "      <td>https://i.ytimg.com/vi/cExLQ1o2pDw/default.jpg</td>\n",
       "      <td>120.0</td>\n",
       "      <td>...</td>\n",
       "      <td>480.0</td>\n",
       "      <td>360.0</td>\n",
       "      <td>PT8M2S</td>\n",
       "      <td>2d</td>\n",
       "      <td>['https://en.wikipedia.org/wiki/Lifestyle_(soc...</td>\n",
       "      <td>NaN</td>\n",
       "      <td>NaN</td>\n",
       "      <td>NaN</td>\n",
       "      <td>NaN</td>\n",
       "      <td>NaN</td>\n",
       "    </tr>\n",
       "    <tr>\n",
       "      <th>...</th>\n",
       "      <td>...</td>\n",
       "      <td>...</td>\n",
       "      <td>...</td>\n",
       "      <td>...</td>\n",
       "      <td>...</td>\n",
       "      <td>...</td>\n",
       "      <td>...</td>\n",
       "      <td>...</td>\n",
       "      <td>...</td>\n",
       "      <td>...</td>\n",
       "      <td>...</td>\n",
       "      <td>...</td>\n",
       "      <td>...</td>\n",
       "      <td>...</td>\n",
       "      <td>...</td>\n",
       "      <td>...</td>\n",
       "      <td>...</td>\n",
       "      <td>...</td>\n",
       "      <td>...</td>\n",
       "      <td>...</td>\n",
       "      <td>...</td>\n",
       "    </tr>\n",
       "    <tr>\n",
       "      <th>yeHjsYQ076A</th>\n",
       "      <td>Remember When COD Was Fun?</td>\n",
       "      <td>Yup, another very pointless video ▻ Subscribe?...</td>\n",
       "      <td>2015-04-26 21:26:36+00:00</td>\n",
       "      <td>youtube#video</td>\n",
       "      <td>216</td>\n",
       "      <td>16312.0</td>\n",
       "      <td>574.0</td>\n",
       "      <td>145.0</td>\n",
       "      <td>https://i.ytimg.com/vi/yeHjsYQ076A/default.jpg</td>\n",
       "      <td>120.0</td>\n",
       "      <td>...</td>\n",
       "      <td>480.0</td>\n",
       "      <td>360.0</td>\n",
       "      <td>PT3M36S</td>\n",
       "      <td>2d</td>\n",
       "      <td>['https://en.wikipedia.org/wiki/Action-adventu...</td>\n",
       "      <td>NaN</td>\n",
       "      <td>NaN</td>\n",
       "      <td>NaN</td>\n",
       "      <td>['How', 'much', 'money', 'does', 'make', 'blac...</td>\n",
       "      <td>NaN</td>\n",
       "    </tr>\n",
       "    <tr>\n",
       "      <th>X7doE4h6W64</th>\n",
       "      <td>Insane Gun Sync - 7 Hours To Make</td>\n",
       "      <td>Look at this - http://gyazo.com/8852509d2350db...</td>\n",
       "      <td>2015-06-21 12:22:34+00:00</td>\n",
       "      <td>youtube#video</td>\n",
       "      <td>134</td>\n",
       "      <td>15740.0</td>\n",
       "      <td>637.0</td>\n",
       "      <td>105.0</td>\n",
       "      <td>https://i.ytimg.com/vi/X7doE4h6W64/default.jpg</td>\n",
       "      <td>120.0</td>\n",
       "      <td>...</td>\n",
       "      <td>480.0</td>\n",
       "      <td>360.0</td>\n",
       "      <td>PT2M14S</td>\n",
       "      <td>2d</td>\n",
       "      <td>['https://en.wikipedia.org/wiki/Action-adventu...</td>\n",
       "      <td>NaN</td>\n",
       "      <td>NaN</td>\n",
       "      <td>NaN</td>\n",
       "      <td>['How', 'much', 'money', 'does', 'make', 'blac...</td>\n",
       "      <td>NaN</td>\n",
       "    </tr>\n",
       "    <tr>\n",
       "      <th>AIytwdufwW8</th>\n",
       "      <td>MY MESSAGE TO COD YOUTUBERS (Watch till end plz)</td>\n",
       "      <td>The beginning of the video is a little off top...</td>\n",
       "      <td>2015-05-29 20:07:48+00:00</td>\n",
       "      <td>youtube#video</td>\n",
       "      <td>292</td>\n",
       "      <td>18502.0</td>\n",
       "      <td>508.0</td>\n",
       "      <td>117.0</td>\n",
       "      <td>https://i.ytimg.com/vi/AIytwdufwW8/default.jpg</td>\n",
       "      <td>120.0</td>\n",
       "      <td>...</td>\n",
       "      <td>480.0</td>\n",
       "      <td>360.0</td>\n",
       "      <td>PT4M52S</td>\n",
       "      <td>2d</td>\n",
       "      <td>['https://en.wikipedia.org/wiki/Action-adventu...</td>\n",
       "      <td>NaN</td>\n",
       "      <td>NaN</td>\n",
       "      <td>NaN</td>\n",
       "      <td>['How', 'much', 'money', 'does', 'make', 'blac...</td>\n",
       "      <td>NaN</td>\n",
       "    </tr>\n",
       "    <tr>\n",
       "      <th>56OkH6ocYZU</th>\n",
       "      <td>L0114R - Biblical Creeper Post for Post @L0114R</td>\n",
       "      <td>His channel - https://www.youtube.com/user/the...</td>\n",
       "      <td>2015-05-15 16:48:54+00:00</td>\n",
       "      <td>youtube#video</td>\n",
       "      <td>109</td>\n",
       "      <td>16627.0</td>\n",
       "      <td>430.0</td>\n",
       "      <td>134.0</td>\n",
       "      <td>https://i.ytimg.com/vi/56OkH6ocYZU/default.jpg</td>\n",
       "      <td>120.0</td>\n",
       "      <td>...</td>\n",
       "      <td>480.0</td>\n",
       "      <td>360.0</td>\n",
       "      <td>PT1M49S</td>\n",
       "      <td>2d</td>\n",
       "      <td>['https://en.wikipedia.org/wiki/Action-adventu...</td>\n",
       "      <td>NaN</td>\n",
       "      <td>NaN</td>\n",
       "      <td>NaN</td>\n",
       "      <td>['How', 'much', 'money', 'does', 'make', 'blac...</td>\n",
       "      <td>NaN</td>\n",
       "    </tr>\n",
       "    <tr>\n",
       "      <th>zi7tZ-2PhLk</th>\n",
       "      <td>How Much Money Do You Make As An Uber Driver??...</td>\n",
       "      <td>In this video I talk about being an uber drive...</td>\n",
       "      <td>2015-05-31 18:31:25+00:00</td>\n",
       "      <td>youtube#video</td>\n",
       "      <td>304</td>\n",
       "      <td>18773.0</td>\n",
       "      <td>370.0</td>\n",
       "      <td>59.0</td>\n",
       "      <td>https://i.ytimg.com/vi/zi7tZ-2PhLk/default.jpg</td>\n",
       "      <td>120.0</td>\n",
       "      <td>...</td>\n",
       "      <td>480.0</td>\n",
       "      <td>360.0</td>\n",
       "      <td>PT5M4S</td>\n",
       "      <td>2d</td>\n",
       "      <td>['https://en.wikipedia.org/wiki/Action-adventu...</td>\n",
       "      <td>NaN</td>\n",
       "      <td>NaN</td>\n",
       "      <td>NaN</td>\n",
       "      <td>['How', 'much', 'money', 'does', 'make', 'blac...</td>\n",
       "      <td>NaN</td>\n",
       "    </tr>\n",
       "  </tbody>\n",
       "</table>\n",
       "<p>247 rows × 25 columns</p>\n",
       "</div>"
      ],
      "text/plain": [
       "                                                         title  \\\n",
       "id                                                               \n",
       "TQHEJj68Jew               I Got Hunted By A Real Bounty Hunter   \n",
       "00NgUctWoLQ                   Extreme $1,000,000 Hide And Seek   \n",
       "NaN                                                    MrBeast   \n",
       "ayXxwJJId_c  I Bought The World&#39;s Largest Mystery Box! ...   \n",
       "cExLQ1o2pDw                    First To Rob Bank Wins $100,000   \n",
       "...                                                        ...   \n",
       "yeHjsYQ076A                         Remember When COD Was Fun?   \n",
       "X7doE4h6W64                  Insane Gun Sync - 7 Hours To Make   \n",
       "AIytwdufwW8   MY MESSAGE TO COD YOUTUBERS (Watch till end plz)   \n",
       "56OkH6ocYZU    L0114R - Biblical Creeper Post for Post @L0114R   \n",
       "zi7tZ-2PhLk  How Much Money Do You Make As An Uber Driver??...   \n",
       "\n",
       "                                                   description  \\\n",
       "id                                                               \n",
       "TQHEJj68Jew  Sign up for Current w/ my Creator Code \"BEAST\"...   \n",
       "00NgUctWoLQ  I didn't expect that to happen at the end I wa...   \n",
       "NaN          Accomplishments - Raised $20000000 To Plant 20...   \n",
       "ayXxwJJId_c  I cant believe I spent over $500000 on mystery...   \n",
       "cExLQ1o2pDw  I didnt think he would actually rob the bank.....   \n",
       "...                                                        ...   \n",
       "yeHjsYQ076A  Yup, another very pointless video ▻ Subscribe?...   \n",
       "X7doE4h6W64  Look at this - http://gyazo.com/8852509d2350db...   \n",
       "AIytwdufwW8  The beginning of the video is a little off top...   \n",
       "56OkH6ocYZU  His channel - https://www.youtube.com/user/the...   \n",
       "zi7tZ-2PhLk  In this video I talk about being an uber drive...   \n",
       "\n",
       "                           publishTime     kind_stats  duration_seconds  \\\n",
       "id                                                                        \n",
       "TQHEJj68Jew  2021-04-24 20:00:00+00:00  youtube#video               861   \n",
       "00NgUctWoLQ  2021-12-18 21:00:00+00:00  youtube#video               729   \n",
       "NaN          2012-02-20 00:43:50+00:00            NaN                 0   \n",
       "ayXxwJJId_c  2021-04-03 20:00:01+00:00  youtube#video               709   \n",
       "cExLQ1o2pDw  2021-09-26 20:00:06+00:00  youtube#video               482   \n",
       "...                                ...            ...               ...   \n",
       "yeHjsYQ076A  2015-04-26 21:26:36+00:00  youtube#video               216   \n",
       "X7doE4h6W64  2015-06-21 12:22:34+00:00  youtube#video               134   \n",
       "AIytwdufwW8  2015-05-29 20:07:48+00:00  youtube#video               292   \n",
       "56OkH6ocYZU  2015-05-15 16:48:54+00:00  youtube#video               109   \n",
       "zi7tZ-2PhLk  2015-05-31 18:31:25+00:00  youtube#video               304   \n",
       "\n",
       "               viewCount  likeCount  commentCount  \\\n",
       "id                                                  \n",
       "TQHEJj68Jew   84717282.0  2876493.0      128922.0   \n",
       "00NgUctWoLQ   32090178.0  2125183.0       73593.0   \n",
       "NaN                  NaN        NaN           NaN   \n",
       "ayXxwJJId_c  101745632.0  3110824.0      162796.0   \n",
       "cExLQ1o2pDw   50008942.0  2359606.0      120621.0   \n",
       "...                  ...        ...           ...   \n",
       "yeHjsYQ076A      16312.0      574.0         145.0   \n",
       "X7doE4h6W64      15740.0      637.0         105.0   \n",
       "AIytwdufwW8      18502.0      508.0         117.0   \n",
       "56OkH6ocYZU      16627.0      430.0         134.0   \n",
       "zi7tZ-2PhLk      18773.0      370.0          59.0   \n",
       "\n",
       "                                        thumbnails.default.url  \\\n",
       "id                                                               \n",
       "TQHEJj68Jew     https://i.ytimg.com/vi/TQHEJj68Jew/default.jpg   \n",
       "00NgUctWoLQ     https://i.ytimg.com/vi/00NgUctWoLQ/default.jpg   \n",
       "NaN          https://yt3.ggpht.com/ytc/AKedOLTctGKJ32CdDLiS...   \n",
       "ayXxwJJId_c     https://i.ytimg.com/vi/ayXxwJJId_c/default.jpg   \n",
       "cExLQ1o2pDw     https://i.ytimg.com/vi/cExLQ1o2pDw/default.jpg   \n",
       "...                                                        ...   \n",
       "yeHjsYQ076A     https://i.ytimg.com/vi/yeHjsYQ076A/default.jpg   \n",
       "X7doE4h6W64     https://i.ytimg.com/vi/X7doE4h6W64/default.jpg   \n",
       "AIytwdufwW8     https://i.ytimg.com/vi/AIytwdufwW8/default.jpg   \n",
       "56OkH6ocYZU     https://i.ytimg.com/vi/56OkH6ocYZU/default.jpg   \n",
       "zi7tZ-2PhLk     https://i.ytimg.com/vi/zi7tZ-2PhLk/default.jpg   \n",
       "\n",
       "             thumbnails.default.width  ...  thumbnails.high.width  \\\n",
       "id                                     ...                          \n",
       "TQHEJj68Jew                     120.0  ...                  480.0   \n",
       "00NgUctWoLQ                     120.0  ...                  480.0   \n",
       "NaN                               NaN  ...                    NaN   \n",
       "ayXxwJJId_c                     120.0  ...                  480.0   \n",
       "cExLQ1o2pDw                     120.0  ...                  480.0   \n",
       "...                               ...  ...                    ...   \n",
       "yeHjsYQ076A                     120.0  ...                  480.0   \n",
       "X7doE4h6W64                     120.0  ...                  480.0   \n",
       "AIytwdufwW8                     120.0  ...                  480.0   \n",
       "56OkH6ocYZU                     120.0  ...                  480.0   \n",
       "zi7tZ-2PhLk                     120.0  ...                  480.0   \n",
       "\n",
       "            thumbnails.high.height  contentDetails.duration  \\\n",
       "id                                                            \n",
       "TQHEJj68Jew                  360.0                 PT14M21S   \n",
       "00NgUctWoLQ                  360.0                  PT12M9S   \n",
       "NaN                            NaN                      NaN   \n",
       "ayXxwJJId_c                  360.0                 PT11M49S   \n",
       "cExLQ1o2pDw                  360.0                   PT8M2S   \n",
       "...                            ...                      ...   \n",
       "yeHjsYQ076A                  360.0                  PT3M36S   \n",
       "X7doE4h6W64                  360.0                  PT2M14S   \n",
       "AIytwdufwW8                  360.0                  PT4M52S   \n",
       "56OkH6ocYZU                  360.0                  PT1M49S   \n",
       "zi7tZ-2PhLk                  360.0                   PT5M4S   \n",
       "\n",
       "             contentDetails.dimension  \\\n",
       "id                                      \n",
       "TQHEJj68Jew                        2d   \n",
       "00NgUctWoLQ                        2d   \n",
       "NaN                               NaN   \n",
       "ayXxwJJId_c                        2d   \n",
       "cExLQ1o2pDw                        2d   \n",
       "...                               ...   \n",
       "yeHjsYQ076A                        2d   \n",
       "X7doE4h6W64                        2d   \n",
       "AIytwdufwW8                        2d   \n",
       "56OkH6ocYZU                        2d   \n",
       "zi7tZ-2PhLk                        2d   \n",
       "\n",
       "                                  topicDetails.topicCategories  \\\n",
       "id                                                               \n",
       "TQHEJj68Jew  ['https://en.wikipedia.org/wiki/Lifestyle_(soc...   \n",
       "00NgUctWoLQ  ['https://en.wikipedia.org/wiki/Lifestyle_(soc...   \n",
       "NaN                                                        NaN   \n",
       "ayXxwJJId_c  ['https://en.wikipedia.org/wiki/Lifestyle_(soc...   \n",
       "cExLQ1o2pDw  ['https://en.wikipedia.org/wiki/Lifestyle_(soc...   \n",
       "...                                                        ...   \n",
       "yeHjsYQ076A  ['https://en.wikipedia.org/wiki/Action-adventu...   \n",
       "X7doE4h6W64  ['https://en.wikipedia.org/wiki/Action-adventu...   \n",
       "AIytwdufwW8  ['https://en.wikipedia.org/wiki/Action-adventu...   \n",
       "56OkH6ocYZU  ['https://en.wikipedia.org/wiki/Action-adventu...   \n",
       "zi7tZ-2PhLk  ['https://en.wikipedia.org/wiki/Action-adventu...   \n",
       "\n",
       "             snippet.defaultLanguage            localizations.en.title  \\\n",
       "id                                                                       \n",
       "TQHEJj68Jew                      NaN                               NaN   \n",
       "00NgUctWoLQ                       en  Extreme $1,000,000 Hide And Seek   \n",
       "NaN                              NaN                               NaN   \n",
       "ayXxwJJId_c                      NaN                               NaN   \n",
       "cExLQ1o2pDw                      NaN                               NaN   \n",
       "...                              ...                               ...   \n",
       "yeHjsYQ076A                      NaN                               NaN   \n",
       "X7doE4h6W64                      NaN                               NaN   \n",
       "AIytwdufwW8                      NaN                               NaN   \n",
       "56OkH6ocYZU                      NaN                               NaN   \n",
       "zi7tZ-2PhLk                      NaN                               NaN   \n",
       "\n",
       "                                  localizations.en.description  \\\n",
       "id                                                               \n",
       "TQHEJj68Jew                                                NaN   \n",
       "00NgUctWoLQ  I didn't expect that to happen at the end I wa...   \n",
       "NaN                                                        NaN   \n",
       "ayXxwJJId_c                                                NaN   \n",
       "cExLQ1o2pDw                                                NaN   \n",
       "...                                                        ...   \n",
       "yeHjsYQ076A                                                NaN   \n",
       "X7doE4h6W64                                                NaN   \n",
       "AIytwdufwW8                                                NaN   \n",
       "56OkH6ocYZU                                                NaN   \n",
       "zi7tZ-2PhLk                                                NaN   \n",
       "\n",
       "                                                  snippet.tags  \\\n",
       "id                                                               \n",
       "TQHEJj68Jew                                                NaN   \n",
       "00NgUctWoLQ                                                NaN   \n",
       "NaN                                                        NaN   \n",
       "ayXxwJJId_c                                                NaN   \n",
       "cExLQ1o2pDw                                                NaN   \n",
       "...                                                        ...   \n",
       "yeHjsYQ076A  ['How', 'much', 'money', 'does', 'make', 'blac...   \n",
       "X7doE4h6W64  ['How', 'much', 'money', 'does', 'make', 'blac...   \n",
       "AIytwdufwW8  ['How', 'much', 'money', 'does', 'make', 'blac...   \n",
       "56OkH6ocYZU  ['How', 'much', 'money', 'does', 'make', 'blac...   \n",
       "zi7tZ-2PhLk  ['How', 'much', 'money', 'does', 'make', 'blac...   \n",
       "\n",
       "            contentDetails.contentRating.ytRating  \n",
       "id                                                 \n",
       "TQHEJj68Jew                                   NaN  \n",
       "00NgUctWoLQ                                   NaN  \n",
       "NaN                                           NaN  \n",
       "ayXxwJJId_c                                   NaN  \n",
       "cExLQ1o2pDw                                   NaN  \n",
       "...                                           ...  \n",
       "yeHjsYQ076A                                   NaN  \n",
       "X7doE4h6W64                                   NaN  \n",
       "AIytwdufwW8                                   NaN  \n",
       "56OkH6ocYZU                                   NaN  \n",
       "zi7tZ-2PhLk                                   NaN  \n",
       "\n",
       "[247 rows x 25 columns]"
      ]
     },
     "execution_count": 20,
     "metadata": {},
     "output_type": "execute_result"
    }
   ],
   "source": [
    "df"
   ]
  },
  {
   "cell_type": "code",
   "execution_count": 21,
   "id": "875754e0",
   "metadata": {
    "execution": {
     "iopub.execute_input": "2022-06-09T01:46:54.832911Z",
     "iopub.status.busy": "2022-06-09T01:46:54.832092Z",
     "iopub.status.idle": "2022-06-09T01:46:54.843464Z",
     "shell.execute_reply": "2022-06-09T01:46:54.842790Z"
    },
    "papermill": {
     "duration": 0.061613,
     "end_time": "2022-06-09T01:46:54.845346",
     "exception": false,
     "start_time": "2022-06-09T01:46:54.783733",
     "status": "completed"
    },
    "tags": []
   },
   "outputs": [
    {
     "data": {
      "text/plain": [
       "title                                                      First To Rob Bank Wins $100,000\n",
       "description                              I didnt think he would actually rob the bank.....\n",
       "publishTime                                                      2021-09-26 20:00:06+00:00\n",
       "kind_stats                                                                   youtube#video\n",
       "duration_seconds                                                                       482\n",
       "viewCount                                                                       50008942.0\n",
       "likeCount                                                                        2359606.0\n",
       "commentCount                                                                      120621.0\n",
       "thumbnails.default.url                      https://i.ytimg.com/vi/cExLQ1o2pDw/default.jpg\n",
       "thumbnails.default.width                                                             120.0\n",
       "thumbnails.default.height                                                             90.0\n",
       "thumbnails.medium.url                     https://i.ytimg.com/vi/cExLQ1o2pDw/mqdefault.jpg\n",
       "thumbnails.medium.width                                                              320.0\n",
       "thumbnails.medium.height                                                             180.0\n",
       "thumbnails.high.url                       https://i.ytimg.com/vi/cExLQ1o2pDw/hqdefault.jpg\n",
       "thumbnails.high.width                                                                480.0\n",
       "thumbnails.high.height                                                               360.0\n",
       "contentDetails.duration                                                             PT8M2S\n",
       "contentDetails.dimension                                                                2d\n",
       "topicDetails.topicCategories             ['https://en.wikipedia.org/wiki/Lifestyle_(soc...\n",
       "snippet.defaultLanguage                                                                NaN\n",
       "localizations.en.title                                                                 NaN\n",
       "localizations.en.description                                                           NaN\n",
       "snippet.tags                                                                           NaN\n",
       "contentDetails.contentRating.ytRating                                                  NaN\n",
       "Name: cExLQ1o2pDw, dtype: object"
      ]
     },
     "execution_count": 21,
     "metadata": {},
     "output_type": "execute_result"
    }
   ],
   "source": [
    "df.loc['cExLQ1o2pDw']"
   ]
  },
  {
   "cell_type": "markdown",
   "id": "dc872300",
   "metadata": {
    "papermill": {
     "duration": 0.051763,
     "end_time": "2022-06-09T01:46:54.949640",
     "exception": false,
     "start_time": "2022-06-09T01:46:54.897877",
     "status": "completed"
    },
    "tags": []
   },
   "source": [
    "# Subsetting Data"
   ]
  },
  {
   "cell_type": "code",
   "execution_count": 22,
   "id": "1a35f45c",
   "metadata": {
    "execution": {
     "iopub.execute_input": "2022-06-09T01:46:55.054737Z",
     "iopub.status.busy": "2022-06-09T01:46:55.054157Z",
     "iopub.status.idle": "2022-06-09T01:46:55.059173Z",
     "shell.execute_reply": "2022-06-09T01:46:55.058480Z"
    },
    "papermill": {
     "duration": 0.059565,
     "end_time": "2022-06-09T01:46:55.060999",
     "exception": false,
     "start_time": "2022-06-09T01:46:55.001434",
     "status": "completed"
    },
    "tags": []
   },
   "outputs": [],
   "source": [
    "df = df[['title', 'description', 'publishTime', 'duration_seconds',\n",
    "       'viewCount', 'likeCount', 'commentCount']]"
   ]
  },
  {
   "cell_type": "code",
   "execution_count": 23,
   "id": "59d0ef55",
   "metadata": {
    "execution": {
     "iopub.execute_input": "2022-06-09T01:46:55.165662Z",
     "iopub.status.busy": "2022-06-09T01:46:55.164549Z",
     "iopub.status.idle": "2022-06-09T01:46:55.179656Z",
     "shell.execute_reply": "2022-06-09T01:46:55.179082Z"
    },
    "papermill": {
     "duration": 0.069371,
     "end_time": "2022-06-09T01:46:55.181557",
     "exception": false,
     "start_time": "2022-06-09T01:46:55.112186",
     "status": "completed"
    },
    "tags": []
   },
   "outputs": [
    {
     "data": {
      "text/html": [
       "<div>\n",
       "<style scoped>\n",
       "    .dataframe tbody tr th:only-of-type {\n",
       "        vertical-align: middle;\n",
       "    }\n",
       "\n",
       "    .dataframe tbody tr th {\n",
       "        vertical-align: top;\n",
       "    }\n",
       "\n",
       "    .dataframe thead th {\n",
       "        text-align: right;\n",
       "    }\n",
       "</style>\n",
       "<table border=\"1\" class=\"dataframe\">\n",
       "  <thead>\n",
       "    <tr style=\"text-align: right;\">\n",
       "      <th></th>\n",
       "      <th>title</th>\n",
       "      <th>description</th>\n",
       "      <th>publishTime</th>\n",
       "      <th>duration_seconds</th>\n",
       "      <th>viewCount</th>\n",
       "      <th>likeCount</th>\n",
       "      <th>commentCount</th>\n",
       "    </tr>\n",
       "    <tr>\n",
       "      <th>id</th>\n",
       "      <th></th>\n",
       "      <th></th>\n",
       "      <th></th>\n",
       "      <th></th>\n",
       "      <th></th>\n",
       "      <th></th>\n",
       "      <th></th>\n",
       "    </tr>\n",
       "  </thead>\n",
       "  <tbody>\n",
       "    <tr>\n",
       "      <th>TQHEJj68Jew</th>\n",
       "      <td>I Got Hunted By A Real Bounty Hunter</td>\n",
       "      <td>Sign up for Current w/ my Creator Code \"BEAST\"...</td>\n",
       "      <td>2021-04-24 20:00:00+00:00</td>\n",
       "      <td>861</td>\n",
       "      <td>84717282.0</td>\n",
       "      <td>2876493.0</td>\n",
       "      <td>128922.0</td>\n",
       "    </tr>\n",
       "    <tr>\n",
       "      <th>00NgUctWoLQ</th>\n",
       "      <td>Extreme $1,000,000 Hide And Seek</td>\n",
       "      <td>I didn't expect that to happen at the end I wa...</td>\n",
       "      <td>2021-12-18 21:00:00+00:00</td>\n",
       "      <td>729</td>\n",
       "      <td>32090178.0</td>\n",
       "      <td>2125183.0</td>\n",
       "      <td>73593.0</td>\n",
       "    </tr>\n",
       "    <tr>\n",
       "      <th>NaN</th>\n",
       "      <td>MrBeast</td>\n",
       "      <td>Accomplishments - Raised $20000000 To Plant 20...</td>\n",
       "      <td>2012-02-20 00:43:50+00:00</td>\n",
       "      <td>0</td>\n",
       "      <td>NaN</td>\n",
       "      <td>NaN</td>\n",
       "      <td>NaN</td>\n",
       "    </tr>\n",
       "    <tr>\n",
       "      <th>ayXxwJJId_c</th>\n",
       "      <td>I Bought The World&amp;#39;s Largest Mystery Box! ...</td>\n",
       "      <td>I cant believe I spent over $500000 on mystery...</td>\n",
       "      <td>2021-04-03 20:00:01+00:00</td>\n",
       "      <td>709</td>\n",
       "      <td>101745632.0</td>\n",
       "      <td>3110824.0</td>\n",
       "      <td>162796.0</td>\n",
       "    </tr>\n",
       "    <tr>\n",
       "      <th>cExLQ1o2pDw</th>\n",
       "      <td>First To Rob Bank Wins $100,000</td>\n",
       "      <td>I didnt think he would actually rob the bank.....</td>\n",
       "      <td>2021-09-26 20:00:06+00:00</td>\n",
       "      <td>482</td>\n",
       "      <td>50008942.0</td>\n",
       "      <td>2359606.0</td>\n",
       "      <td>120621.0</td>\n",
       "    </tr>\n",
       "  </tbody>\n",
       "</table>\n",
       "</div>"
      ],
      "text/plain": [
       "                                                         title  \\\n",
       "id                                                               \n",
       "TQHEJj68Jew               I Got Hunted By A Real Bounty Hunter   \n",
       "00NgUctWoLQ                   Extreme $1,000,000 Hide And Seek   \n",
       "NaN                                                    MrBeast   \n",
       "ayXxwJJId_c  I Bought The World&#39;s Largest Mystery Box! ...   \n",
       "cExLQ1o2pDw                    First To Rob Bank Wins $100,000   \n",
       "\n",
       "                                                   description  \\\n",
       "id                                                               \n",
       "TQHEJj68Jew  Sign up for Current w/ my Creator Code \"BEAST\"...   \n",
       "00NgUctWoLQ  I didn't expect that to happen at the end I wa...   \n",
       "NaN          Accomplishments - Raised $20000000 To Plant 20...   \n",
       "ayXxwJJId_c  I cant believe I spent over $500000 on mystery...   \n",
       "cExLQ1o2pDw  I didnt think he would actually rob the bank.....   \n",
       "\n",
       "                           publishTime  duration_seconds    viewCount  \\\n",
       "id                                                                      \n",
       "TQHEJj68Jew  2021-04-24 20:00:00+00:00               861   84717282.0   \n",
       "00NgUctWoLQ  2021-12-18 21:00:00+00:00               729   32090178.0   \n",
       "NaN          2012-02-20 00:43:50+00:00                 0          NaN   \n",
       "ayXxwJJId_c  2021-04-03 20:00:01+00:00               709  101745632.0   \n",
       "cExLQ1o2pDw  2021-09-26 20:00:06+00:00               482   50008942.0   \n",
       "\n",
       "             likeCount  commentCount  \n",
       "id                                    \n",
       "TQHEJj68Jew  2876493.0      128922.0  \n",
       "00NgUctWoLQ  2125183.0       73593.0  \n",
       "NaN                NaN           NaN  \n",
       "ayXxwJJId_c  3110824.0      162796.0  \n",
       "cExLQ1o2pDw  2359606.0      120621.0  "
      ]
     },
     "execution_count": 23,
     "metadata": {},
     "output_type": "execute_result"
    }
   ],
   "source": [
    "#Subsetting columns\n",
    "df.head()\n",
    "#shows first 5 rows and all columns"
   ]
  },
  {
   "cell_type": "code",
   "execution_count": 24,
   "id": "26f43a5a",
   "metadata": {
    "execution": {
     "iopub.execute_input": "2022-06-09T01:46:55.286598Z",
     "iopub.status.busy": "2022-06-09T01:46:55.286311Z",
     "iopub.status.idle": "2022-06-09T01:46:55.292158Z",
     "shell.execute_reply": "2022-06-09T01:46:55.291231Z"
    },
    "papermill": {
     "duration": 0.060657,
     "end_time": "2022-06-09T01:46:55.294082",
     "exception": false,
     "start_time": "2022-06-09T01:46:55.233425",
     "status": "completed"
    },
    "tags": []
   },
   "outputs": [
    {
     "data": {
      "text/plain": [
       "(247, 7)"
      ]
     },
     "execution_count": 24,
     "metadata": {},
     "output_type": "execute_result"
    }
   ],
   "source": [
    "df.shape\n",
    "#shows how many rows and columns there is"
   ]
  },
  {
   "cell_type": "code",
   "execution_count": 25,
   "id": "72a799ca",
   "metadata": {
    "execution": {
     "iopub.execute_input": "2022-06-09T01:46:55.397546Z",
     "iopub.status.busy": "2022-06-09T01:46:55.397015Z",
     "iopub.status.idle": "2022-06-09T01:46:55.400511Z",
     "shell.execute_reply": "2022-06-09T01:46:55.399953Z"
    },
    "papermill": {
     "duration": 0.056534,
     "end_time": "2022-06-09T01:46:55.402295",
     "exception": false,
     "start_time": "2022-06-09T01:46:55.345761",
     "status": "completed"
    },
    "tags": []
   },
   "outputs": [],
   "source": [
    "#Subsetting Rows"
   ]
  },
  {
   "cell_type": "code",
   "execution_count": 26,
   "id": "50a93ac3",
   "metadata": {
    "execution": {
     "iopub.execute_input": "2022-06-09T01:46:55.502260Z",
     "iopub.status.busy": "2022-06-09T01:46:55.501391Z",
     "iopub.status.idle": "2022-06-09T01:46:55.506648Z",
     "shell.execute_reply": "2022-06-09T01:46:55.505966Z"
    },
    "papermill": {
     "duration": 0.057841,
     "end_time": "2022-06-09T01:46:55.508679",
     "exception": false,
     "start_time": "2022-06-09T01:46:55.450838",
     "status": "completed"
    },
    "tags": []
   },
   "outputs": [],
   "source": [
    "#Subsetting using loc\n",
    "df_subset1 = df.loc[df['viewCount'] > 1_000_000]"
   ]
  },
  {
   "cell_type": "code",
   "execution_count": 27,
   "id": "fc1ba5b7",
   "metadata": {
    "execution": {
     "iopub.execute_input": "2022-06-09T01:46:55.611903Z",
     "iopub.status.busy": "2022-06-09T01:46:55.611197Z",
     "iopub.status.idle": "2022-06-09T01:46:55.619992Z",
     "shell.execute_reply": "2022-06-09T01:46:55.619045Z"
    },
    "papermill": {
     "duration": 0.061393,
     "end_time": "2022-06-09T01:46:55.622149",
     "exception": false,
     "start_time": "2022-06-09T01:46:55.560756",
     "status": "completed"
    },
    "tags": []
   },
   "outputs": [],
   "source": [
    "#Easier method\n",
    "df_subset2 = df.query('viewCount > 1000000')"
   ]
  },
  {
   "cell_type": "code",
   "execution_count": 28,
   "id": "9cc66a9b",
   "metadata": {
    "execution": {
     "iopub.execute_input": "2022-06-09T01:46:55.722687Z",
     "iopub.status.busy": "2022-06-09T01:46:55.722288Z",
     "iopub.status.idle": "2022-06-09T01:46:55.728082Z",
     "shell.execute_reply": "2022-06-09T01:46:55.727147Z"
    },
    "papermill": {
     "duration": 0.058359,
     "end_time": "2022-06-09T01:46:55.729820",
     "exception": false,
     "start_time": "2022-06-09T01:46:55.671461",
     "status": "completed"
    },
    "tags": []
   },
   "outputs": [],
   "source": [
    "# to remove rows with null value\n",
    "df = df.loc[~df['viewCount'].isna()]\n",
    "# tilde symbol is to keep all rows with values.\n",
    "# isna method returns bool. true if value is null"
   ]
  },
  {
   "cell_type": "code",
   "execution_count": 29,
   "id": "368f4c10",
   "metadata": {
    "execution": {
     "iopub.execute_input": "2022-06-09T01:46:55.832046Z",
     "iopub.status.busy": "2022-06-09T01:46:55.831184Z",
     "iopub.status.idle": "2022-06-09T01:46:55.836512Z",
     "shell.execute_reply": "2022-06-09T01:46:55.835876Z"
    },
    "papermill": {
     "duration": 0.058882,
     "end_time": "2022-06-09T01:46:55.838421",
     "exception": false,
     "start_time": "2022-06-09T01:46:55.779539",
     "status": "completed"
    },
    "tags": []
   },
   "outputs": [],
   "source": [
    "# to remove rows with null value\n",
    "df = df.loc[~df['likeCount'].isna()]\n",
    "# tilde symbol is to keep all rows with values.\n",
    "# isna method returns bool. true if value is null"
   ]
  },
  {
   "cell_type": "markdown",
   "id": "515d6cbf",
   "metadata": {
    "papermill": {
     "duration": 0.049607,
     "end_time": "2022-06-09T01:46:55.940294",
     "exception": false,
     "start_time": "2022-06-09T01:46:55.890687",
     "status": "completed"
    },
    "tags": []
   },
   "source": [
    "# Casting dtypes"
   ]
  },
  {
   "cell_type": "code",
   "execution_count": 30,
   "id": "a1df4a33",
   "metadata": {
    "execution": {
     "iopub.execute_input": "2022-06-09T01:46:56.043712Z",
     "iopub.status.busy": "2022-06-09T01:46:56.043175Z",
     "iopub.status.idle": "2022-06-09T01:46:56.049490Z",
     "shell.execute_reply": "2022-06-09T01:46:56.048861Z"
    },
    "papermill": {
     "duration": 0.06109,
     "end_time": "2022-06-09T01:46:56.051531",
     "exception": false,
     "start_time": "2022-06-09T01:46:55.990441",
     "status": "completed"
    },
    "tags": []
   },
   "outputs": [
    {
     "data": {
      "text/plain": [
       "title                object\n",
       "description          object\n",
       "publishTime          object\n",
       "duration_seconds      int64\n",
       "viewCount           float64\n",
       "likeCount           float64\n",
       "commentCount        float64\n",
       "dtype: object"
      ]
     },
     "execution_count": 30,
     "metadata": {},
     "output_type": "execute_result"
    }
   ],
   "source": [
    "df.dtypes"
   ]
  },
  {
   "cell_type": "code",
   "execution_count": 31,
   "id": "745a76c5",
   "metadata": {
    "execution": {
     "iopub.execute_input": "2022-06-09T01:46:56.153210Z",
     "iopub.status.busy": "2022-06-09T01:46:56.152625Z",
     "iopub.status.idle": "2022-06-09T01:46:56.157166Z",
     "shell.execute_reply": "2022-06-09T01:46:56.156591Z"
    },
    "papermill": {
     "duration": 0.057669,
     "end_time": "2022-06-09T01:46:56.159108",
     "exception": false,
     "start_time": "2022-06-09T01:46:56.101439",
     "status": "completed"
    },
    "tags": []
   },
   "outputs": [],
   "source": [
    "df['viewCount'] = df['viewCount'].astype('int')"
   ]
  },
  {
   "cell_type": "code",
   "execution_count": 32,
   "id": "2cbaa6e4",
   "metadata": {
    "execution": {
     "iopub.execute_input": "2022-06-09T01:46:56.259501Z",
     "iopub.status.busy": "2022-06-09T01:46:56.259156Z",
     "iopub.status.idle": "2022-06-09T01:46:56.267214Z",
     "shell.execute_reply": "2022-06-09T01:46:56.266369Z"
    },
    "papermill": {
     "duration": 0.060703,
     "end_time": "2022-06-09T01:46:56.269289",
     "exception": false,
     "start_time": "2022-06-09T01:46:56.208586",
     "status": "completed"
    },
    "tags": []
   },
   "outputs": [
    {
     "data": {
      "text/plain": [
       "title                object\n",
       "description          object\n",
       "publishTime          object\n",
       "duration_seconds      int64\n",
       "viewCount             int64\n",
       "likeCount           float64\n",
       "commentCount        float64\n",
       "dtype: object"
      ]
     },
     "execution_count": 32,
     "metadata": {},
     "output_type": "execute_result"
    }
   ],
   "source": [
    "df.dtypes"
   ]
  },
  {
   "cell_type": "code",
   "execution_count": 33,
   "id": "f5901355",
   "metadata": {
    "execution": {
     "iopub.execute_input": "2022-06-09T01:46:56.371697Z",
     "iopub.status.busy": "2022-06-09T01:46:56.371402Z",
     "iopub.status.idle": "2022-06-09T01:46:56.376680Z",
     "shell.execute_reply": "2022-06-09T01:46:56.375695Z"
    },
    "papermill": {
     "duration": 0.057967,
     "end_time": "2022-06-09T01:46:56.378640",
     "exception": false,
     "start_time": "2022-06-09T01:46:56.320673",
     "status": "completed"
    },
    "tags": []
   },
   "outputs": [],
   "source": [
    "df['likeCount'] = df['likeCount'].astype('int')"
   ]
  },
  {
   "cell_type": "code",
   "execution_count": 34,
   "id": "90824f2e",
   "metadata": {
    "execution": {
     "iopub.execute_input": "2022-06-09T01:46:56.482730Z",
     "iopub.status.busy": "2022-06-09T01:46:56.482409Z",
     "iopub.status.idle": "2022-06-09T01:46:56.489652Z",
     "shell.execute_reply": "2022-06-09T01:46:56.488718Z"
    },
    "papermill": {
     "duration": 0.061398,
     "end_time": "2022-06-09T01:46:56.491626",
     "exception": false,
     "start_time": "2022-06-09T01:46:56.430228",
     "status": "completed"
    },
    "tags": []
   },
   "outputs": [
    {
     "data": {
      "text/plain": [
       "title                object\n",
       "description          object\n",
       "publishTime          object\n",
       "duration_seconds      int64\n",
       "viewCount             int64\n",
       "likeCount             int64\n",
       "commentCount        float64\n",
       "dtype: object"
      ]
     },
     "execution_count": 34,
     "metadata": {},
     "output_type": "execute_result"
    }
   ],
   "source": [
    "df.dtypes"
   ]
  },
  {
   "cell_type": "code",
   "execution_count": 35,
   "id": "6d2a7574",
   "metadata": {
    "execution": {
     "iopub.execute_input": "2022-06-09T01:46:56.594855Z",
     "iopub.status.busy": "2022-06-09T01:46:56.594515Z",
     "iopub.status.idle": "2022-06-09T01:46:56.600861Z",
     "shell.execute_reply": "2022-06-09T01:46:56.599787Z"
    },
    "papermill": {
     "duration": 0.060178,
     "end_time": "2022-06-09T01:46:56.602795",
     "exception": false,
     "start_time": "2022-06-09T01:46:56.542617",
     "status": "completed"
    },
    "tags": []
   },
   "outputs": [],
   "source": [
    "df['publishTime'] = pd.to_datetime(df['publishTime'])"
   ]
  },
  {
   "cell_type": "code",
   "execution_count": 36,
   "id": "efdff3f8",
   "metadata": {
    "execution": {
     "iopub.execute_input": "2022-06-09T01:46:56.709782Z",
     "iopub.status.busy": "2022-06-09T01:46:56.709481Z",
     "iopub.status.idle": "2022-06-09T01:46:56.714718Z",
     "shell.execute_reply": "2022-06-09T01:46:56.713880Z"
    },
    "papermill": {
     "duration": 0.062405,
     "end_time": "2022-06-09T01:46:56.716765",
     "exception": false,
     "start_time": "2022-06-09T01:46:56.654360",
     "status": "completed"
    },
    "tags": []
   },
   "outputs": [],
   "source": [
    "df['likeCount'] = pd.to_numeric(df['likeCount'].astype('str'))\n",
    "# to numeric method will handle whether the data should be float, or int or what."
   ]
  },
  {
   "cell_type": "markdown",
   "id": "ee752a38",
   "metadata": {
    "papermill": {
     "duration": 0.051754,
     "end_time": "2022-06-09T01:46:56.819863",
     "exception": false,
     "start_time": "2022-06-09T01:46:56.768109",
     "status": "completed"
    },
    "tags": []
   },
   "source": [
    "# Creating New Column"
   ]
  },
  {
   "cell_type": "code",
   "execution_count": 37,
   "id": "e47737f5",
   "metadata": {
    "execution": {
     "iopub.execute_input": "2022-06-09T01:46:56.927749Z",
     "iopub.status.busy": "2022-06-09T01:46:56.927062Z",
     "iopub.status.idle": "2022-06-09T01:46:56.942693Z",
     "shell.execute_reply": "2022-06-09T01:46:56.941720Z"
    },
    "papermill": {
     "duration": 0.072075,
     "end_time": "2022-06-09T01:46:56.944761",
     "exception": false,
     "start_time": "2022-06-09T01:46:56.872686",
     "status": "completed"
    },
    "tags": []
   },
   "outputs": [
    {
     "data": {
      "text/html": [
       "<div>\n",
       "<style scoped>\n",
       "    .dataframe tbody tr th:only-of-type {\n",
       "        vertical-align: middle;\n",
       "    }\n",
       "\n",
       "    .dataframe tbody tr th {\n",
       "        vertical-align: top;\n",
       "    }\n",
       "\n",
       "    .dataframe thead th {\n",
       "        text-align: right;\n",
       "    }\n",
       "</style>\n",
       "<table border=\"1\" class=\"dataframe\">\n",
       "  <thead>\n",
       "    <tr style=\"text-align: right;\">\n",
       "      <th></th>\n",
       "      <th>title</th>\n",
       "      <th>description</th>\n",
       "      <th>publishTime</th>\n",
       "      <th>duration_seconds</th>\n",
       "      <th>viewCount</th>\n",
       "      <th>likeCount</th>\n",
       "      <th>commentCount</th>\n",
       "    </tr>\n",
       "    <tr>\n",
       "      <th>id</th>\n",
       "      <th></th>\n",
       "      <th></th>\n",
       "      <th></th>\n",
       "      <th></th>\n",
       "      <th></th>\n",
       "      <th></th>\n",
       "      <th></th>\n",
       "    </tr>\n",
       "  </thead>\n",
       "  <tbody>\n",
       "    <tr>\n",
       "      <th>TQHEJj68Jew</th>\n",
       "      <td>I Got Hunted By A Real Bounty Hunter</td>\n",
       "      <td>Sign up for Current w/ my Creator Code \"BEAST\"...</td>\n",
       "      <td>2021-04-24 20:00:00+00:00</td>\n",
       "      <td>861</td>\n",
       "      <td>84717282</td>\n",
       "      <td>2876493</td>\n",
       "      <td>128922.0</td>\n",
       "    </tr>\n",
       "    <tr>\n",
       "      <th>00NgUctWoLQ</th>\n",
       "      <td>Extreme $1,000,000 Hide And Seek</td>\n",
       "      <td>I didn't expect that to happen at the end I wa...</td>\n",
       "      <td>2021-12-18 21:00:00+00:00</td>\n",
       "      <td>729</td>\n",
       "      <td>32090178</td>\n",
       "      <td>2125183</td>\n",
       "      <td>73593.0</td>\n",
       "    </tr>\n",
       "    <tr>\n",
       "      <th>ayXxwJJId_c</th>\n",
       "      <td>I Bought The World&amp;#39;s Largest Mystery Box! ...</td>\n",
       "      <td>I cant believe I spent over $500000 on mystery...</td>\n",
       "      <td>2021-04-03 20:00:01+00:00</td>\n",
       "      <td>709</td>\n",
       "      <td>101745632</td>\n",
       "      <td>3110824</td>\n",
       "      <td>162796.0</td>\n",
       "    </tr>\n",
       "    <tr>\n",
       "      <th>cExLQ1o2pDw</th>\n",
       "      <td>First To Rob Bank Wins $100,000</td>\n",
       "      <td>I didnt think he would actually rob the bank.....</td>\n",
       "      <td>2021-09-26 20:00:06+00:00</td>\n",
       "      <td>482</td>\n",
       "      <td>50008942</td>\n",
       "      <td>2359606</td>\n",
       "      <td>120621.0</td>\n",
       "    </tr>\n",
       "    <tr>\n",
       "      <th>GLoeAJUcz38</th>\n",
       "      <td>Press This Button To Win $100,000!</td>\n",
       "      <td>Push the red subscribe button and you could al...</td>\n",
       "      <td>2020-11-14 21:00:02+00:00</td>\n",
       "      <td>911</td>\n",
       "      <td>145527042</td>\n",
       "      <td>2762425</td>\n",
       "      <td>83853.0</td>\n",
       "    </tr>\n",
       "  </tbody>\n",
       "</table>\n",
       "</div>"
      ],
      "text/plain": [
       "                                                         title  \\\n",
       "id                                                               \n",
       "TQHEJj68Jew               I Got Hunted By A Real Bounty Hunter   \n",
       "00NgUctWoLQ                   Extreme $1,000,000 Hide And Seek   \n",
       "ayXxwJJId_c  I Bought The World&#39;s Largest Mystery Box! ...   \n",
       "cExLQ1o2pDw                    First To Rob Bank Wins $100,000   \n",
       "GLoeAJUcz38                 Press This Button To Win $100,000!   \n",
       "\n",
       "                                                   description  \\\n",
       "id                                                               \n",
       "TQHEJj68Jew  Sign up for Current w/ my Creator Code \"BEAST\"...   \n",
       "00NgUctWoLQ  I didn't expect that to happen at the end I wa...   \n",
       "ayXxwJJId_c  I cant believe I spent over $500000 on mystery...   \n",
       "cExLQ1o2pDw  I didnt think he would actually rob the bank.....   \n",
       "GLoeAJUcz38  Push the red subscribe button and you could al...   \n",
       "\n",
       "                          publishTime  duration_seconds  viewCount  likeCount  \\\n",
       "id                                                                              \n",
       "TQHEJj68Jew 2021-04-24 20:00:00+00:00               861   84717282    2876493   \n",
       "00NgUctWoLQ 2021-12-18 21:00:00+00:00               729   32090178    2125183   \n",
       "ayXxwJJId_c 2021-04-03 20:00:01+00:00               709  101745632    3110824   \n",
       "cExLQ1o2pDw 2021-09-26 20:00:06+00:00               482   50008942    2359606   \n",
       "GLoeAJUcz38 2020-11-14 21:00:02+00:00               911  145527042    2762425   \n",
       "\n",
       "             commentCount  \n",
       "id                         \n",
       "TQHEJj68Jew      128922.0  \n",
       "00NgUctWoLQ       73593.0  \n",
       "ayXxwJJId_c      162796.0  \n",
       "cExLQ1o2pDw      120621.0  \n",
       "GLoeAJUcz38       83853.0  "
      ]
     },
     "execution_count": 37,
     "metadata": {},
     "output_type": "execute_result"
    }
   ],
   "source": [
    "df.head()"
   ]
  },
  {
   "cell_type": "code",
   "execution_count": 38,
   "id": "1faf01c3",
   "metadata": {
    "execution": {
     "iopub.execute_input": "2022-06-09T01:46:57.054095Z",
     "iopub.status.busy": "2022-06-09T01:46:57.053582Z",
     "iopub.status.idle": "2022-06-09T01:46:57.057292Z",
     "shell.execute_reply": "2022-06-09T01:46:57.056536Z"
    },
    "papermill": {
     "duration": 0.059756,
     "end_time": "2022-06-09T01:46:57.058958",
     "exception": false,
     "start_time": "2022-06-09T01:46:56.999202",
     "status": "completed"
    },
    "tags": []
   },
   "outputs": [],
   "source": [
    "#ratio between viewcount and likecount\n",
    "#divide two columns"
   ]
  },
  {
   "cell_type": "code",
   "execution_count": 39,
   "id": "2518adf1",
   "metadata": {
    "execution": {
     "iopub.execute_input": "2022-06-09T01:46:57.161990Z",
     "iopub.status.busy": "2022-06-09T01:46:57.161388Z",
     "iopub.status.idle": "2022-06-09T01:46:57.166330Z",
     "shell.execute_reply": "2022-06-09T01:46:57.165780Z"
    },
    "papermill": {
     "duration": 0.058131,
     "end_time": "2022-06-09T01:46:57.168216",
     "exception": false,
     "start_time": "2022-06-09T01:46:57.110085",
     "status": "completed"
    },
    "tags": []
   },
   "outputs": [],
   "source": [
    "df['like_to_view_ratio'] = df['likeCount'] / df['viewCount']"
   ]
  },
  {
   "cell_type": "code",
   "execution_count": 40,
   "id": "db6f0f63",
   "metadata": {
    "execution": {
     "iopub.execute_input": "2022-06-09T01:46:57.273556Z",
     "iopub.status.busy": "2022-06-09T01:46:57.273050Z",
     "iopub.status.idle": "2022-06-09T01:46:57.285696Z",
     "shell.execute_reply": "2022-06-09T01:46:57.285134Z"
    },
    "papermill": {
     "duration": 0.067297,
     "end_time": "2022-06-09T01:46:57.287634",
     "exception": false,
     "start_time": "2022-06-09T01:46:57.220337",
     "status": "completed"
    },
    "tags": []
   },
   "outputs": [
    {
     "data": {
      "text/html": [
       "<div>\n",
       "<style scoped>\n",
       "    .dataframe tbody tr th:only-of-type {\n",
       "        vertical-align: middle;\n",
       "    }\n",
       "\n",
       "    .dataframe tbody tr th {\n",
       "        vertical-align: top;\n",
       "    }\n",
       "\n",
       "    .dataframe thead th {\n",
       "        text-align: right;\n",
       "    }\n",
       "</style>\n",
       "<table border=\"1\" class=\"dataframe\">\n",
       "  <thead>\n",
       "    <tr style=\"text-align: right;\">\n",
       "      <th></th>\n",
       "      <th>title</th>\n",
       "      <th>description</th>\n",
       "      <th>publishTime</th>\n",
       "      <th>duration_seconds</th>\n",
       "      <th>viewCount</th>\n",
       "      <th>likeCount</th>\n",
       "      <th>commentCount</th>\n",
       "      <th>like_to_view_ratio</th>\n",
       "    </tr>\n",
       "    <tr>\n",
       "      <th>id</th>\n",
       "      <th></th>\n",
       "      <th></th>\n",
       "      <th></th>\n",
       "      <th></th>\n",
       "      <th></th>\n",
       "      <th></th>\n",
       "      <th></th>\n",
       "      <th></th>\n",
       "    </tr>\n",
       "  </thead>\n",
       "  <tbody>\n",
       "    <tr>\n",
       "      <th>TQHEJj68Jew</th>\n",
       "      <td>I Got Hunted By A Real Bounty Hunter</td>\n",
       "      <td>Sign up for Current w/ my Creator Code \"BEAST\"...</td>\n",
       "      <td>2021-04-24 20:00:00+00:00</td>\n",
       "      <td>861</td>\n",
       "      <td>84717282</td>\n",
       "      <td>2876493</td>\n",
       "      <td>128922.0</td>\n",
       "      <td>0.033954</td>\n",
       "    </tr>\n",
       "    <tr>\n",
       "      <th>00NgUctWoLQ</th>\n",
       "      <td>Extreme $1,000,000 Hide And Seek</td>\n",
       "      <td>I didn't expect that to happen at the end I wa...</td>\n",
       "      <td>2021-12-18 21:00:00+00:00</td>\n",
       "      <td>729</td>\n",
       "      <td>32090178</td>\n",
       "      <td>2125183</td>\n",
       "      <td>73593.0</td>\n",
       "      <td>0.066225</td>\n",
       "    </tr>\n",
       "    <tr>\n",
       "      <th>ayXxwJJId_c</th>\n",
       "      <td>I Bought The World&amp;#39;s Largest Mystery Box! ...</td>\n",
       "      <td>I cant believe I spent over $500000 on mystery...</td>\n",
       "      <td>2021-04-03 20:00:01+00:00</td>\n",
       "      <td>709</td>\n",
       "      <td>101745632</td>\n",
       "      <td>3110824</td>\n",
       "      <td>162796.0</td>\n",
       "      <td>0.030575</td>\n",
       "    </tr>\n",
       "    <tr>\n",
       "      <th>cExLQ1o2pDw</th>\n",
       "      <td>First To Rob Bank Wins $100,000</td>\n",
       "      <td>I didnt think he would actually rob the bank.....</td>\n",
       "      <td>2021-09-26 20:00:06+00:00</td>\n",
       "      <td>482</td>\n",
       "      <td>50008942</td>\n",
       "      <td>2359606</td>\n",
       "      <td>120621.0</td>\n",
       "      <td>0.047184</td>\n",
       "    </tr>\n",
       "    <tr>\n",
       "      <th>GLoeAJUcz38</th>\n",
       "      <td>Press This Button To Win $100,000!</td>\n",
       "      <td>Push the red subscribe button and you could al...</td>\n",
       "      <td>2020-11-14 21:00:02+00:00</td>\n",
       "      <td>911</td>\n",
       "      <td>145527042</td>\n",
       "      <td>2762425</td>\n",
       "      <td>83853.0</td>\n",
       "      <td>0.018982</td>\n",
       "    </tr>\n",
       "  </tbody>\n",
       "</table>\n",
       "</div>"
      ],
      "text/plain": [
       "                                                         title  \\\n",
       "id                                                               \n",
       "TQHEJj68Jew               I Got Hunted By A Real Bounty Hunter   \n",
       "00NgUctWoLQ                   Extreme $1,000,000 Hide And Seek   \n",
       "ayXxwJJId_c  I Bought The World&#39;s Largest Mystery Box! ...   \n",
       "cExLQ1o2pDw                    First To Rob Bank Wins $100,000   \n",
       "GLoeAJUcz38                 Press This Button To Win $100,000!   \n",
       "\n",
       "                                                   description  \\\n",
       "id                                                               \n",
       "TQHEJj68Jew  Sign up for Current w/ my Creator Code \"BEAST\"...   \n",
       "00NgUctWoLQ  I didn't expect that to happen at the end I wa...   \n",
       "ayXxwJJId_c  I cant believe I spent over $500000 on mystery...   \n",
       "cExLQ1o2pDw  I didnt think he would actually rob the bank.....   \n",
       "GLoeAJUcz38  Push the red subscribe button and you could al...   \n",
       "\n",
       "                          publishTime  duration_seconds  viewCount  likeCount  \\\n",
       "id                                                                              \n",
       "TQHEJj68Jew 2021-04-24 20:00:00+00:00               861   84717282    2876493   \n",
       "00NgUctWoLQ 2021-12-18 21:00:00+00:00               729   32090178    2125183   \n",
       "ayXxwJJId_c 2021-04-03 20:00:01+00:00               709  101745632    3110824   \n",
       "cExLQ1o2pDw 2021-09-26 20:00:06+00:00               482   50008942    2359606   \n",
       "GLoeAJUcz38 2020-11-14 21:00:02+00:00               911  145527042    2762425   \n",
       "\n",
       "             commentCount  like_to_view_ratio  \n",
       "id                                             \n",
       "TQHEJj68Jew      128922.0            0.033954  \n",
       "00NgUctWoLQ       73593.0            0.066225  \n",
       "ayXxwJJId_c      162796.0            0.030575  \n",
       "cExLQ1o2pDw      120621.0            0.047184  \n",
       "GLoeAJUcz38       83853.0            0.018982  "
      ]
     },
     "execution_count": 40,
     "metadata": {},
     "output_type": "execute_result"
    }
   ],
   "source": [
    "df.head()"
   ]
  },
  {
   "cell_type": "markdown",
   "id": "6dd73177",
   "metadata": {
    "papermill": {
     "duration": 0.050938,
     "end_time": "2022-06-09T01:46:57.389665",
     "exception": false,
     "start_time": "2022-06-09T01:46:57.338727",
     "status": "completed"
    },
    "tags": []
   },
   "source": [
    "# Adding New Row"
   ]
  },
  {
   "cell_type": "code",
   "execution_count": 41,
   "id": "a44445ae",
   "metadata": {
    "execution": {
     "iopub.execute_input": "2022-06-09T01:46:57.493269Z",
     "iopub.status.busy": "2022-06-09T01:46:57.492670Z",
     "iopub.status.idle": "2022-06-09T01:46:57.497184Z",
     "shell.execute_reply": "2022-06-09T01:46:57.496209Z"
    },
    "papermill": {
     "duration": 0.058633,
     "end_time": "2022-06-09T01:46:57.499062",
     "exception": false,
     "start_time": "2022-06-09T01:46:57.440429",
     "status": "completed"
    },
    "tags": []
   },
   "outputs": [],
   "source": [
    "df_to_append = df.tail(1)"
   ]
  },
  {
   "cell_type": "code",
   "execution_count": 42,
   "id": "b914c922",
   "metadata": {
    "execution": {
     "iopub.execute_input": "2022-06-09T01:46:57.605979Z",
     "iopub.status.busy": "2022-06-09T01:46:57.605655Z",
     "iopub.status.idle": "2022-06-09T01:46:57.611304Z",
     "shell.execute_reply": "2022-06-09T01:46:57.610256Z"
    },
    "papermill": {
     "duration": 0.062106,
     "end_time": "2022-06-09T01:46:57.613309",
     "exception": false,
     "start_time": "2022-06-09T01:46:57.551203",
     "status": "completed"
    },
    "tags": []
   },
   "outputs": [],
   "source": [
    "df_concat = pd.concat([df, df_to_append])\n",
    "# add row at last "
   ]
  },
  {
   "cell_type": "markdown",
   "id": "257e75af",
   "metadata": {
    "papermill": {
     "duration": 0.052002,
     "end_time": "2022-06-09T01:46:57.716934",
     "exception": false,
     "start_time": "2022-06-09T01:46:57.664932",
     "status": "completed"
    },
    "tags": []
   },
   "source": [
    "# Plot Examples"
   ]
  },
  {
   "cell_type": "code",
   "execution_count": 43,
   "id": "eb498afc",
   "metadata": {
    "execution": {
     "iopub.execute_input": "2022-06-09T01:46:57.822557Z",
     "iopub.status.busy": "2022-06-09T01:46:57.821893Z",
     "iopub.status.idle": "2022-06-09T01:46:58.242776Z",
     "shell.execute_reply": "2022-06-09T01:46:58.241885Z"
    },
    "papermill": {
     "duration": 0.476369,
     "end_time": "2022-06-09T01:46:58.245157",
     "exception": false,
     "start_time": "2022-06-09T01:46:57.768788",
     "status": "completed"
    },
    "tags": []
   },
   "outputs": [
    {
     "data": {
      "text/plain": [
       "<AxesSubplot:title={'center':'Distribution of View Count'}, ylabel='Frequency'>"
      ]
     },
     "execution_count": 43,
     "metadata": {},
     "output_type": "execute_result"
    },
    {
     "data": {
      "image/png": "[encoded data removed]",
      "text/plain": [
       "<Figure size 1080x360 with 1 Axes>"
      ]
     },
     "metadata": {
      "needs_background": "light"
     },
     "output_type": "display_data"
    }
   ],
   "source": [
    "df['viewCount'].plot(kind='hist', bins=50, \n",
    "                     title='Distribution of View Count',\n",
    "                    figsize=(15,5))"
   ]
  },
  {
   "cell_type": "code",
   "execution_count": 44,
   "id": "eb7c6117",
   "metadata": {
    "execution": {
     "iopub.execute_input": "2022-06-09T01:46:58.352022Z",
     "iopub.status.busy": "2022-06-09T01:46:58.351479Z",
     "iopub.status.idle": "2022-06-09T01:46:58.578654Z",
     "shell.execute_reply": "2022-06-09T01:46:58.577687Z"
    },
    "papermill": {
     "duration": 0.284097,
     "end_time": "2022-06-09T01:46:58.580843",
     "exception": false,
     "start_time": "2022-06-09T01:46:58.296746",
     "status": "completed"
    },
    "tags": []
   },
   "outputs": [
    {
     "data": {
      "text/plain": [
       "<AxesSubplot:title={'center':'View vs. Like Count'}, xlabel='viewCount', ylabel='likeCount'>"
      ]
     },
     "execution_count": 44,
     "metadata": {},
     "output_type": "execute_result"
    },
    {
     "data": {
      "image/png": "[encoded data removed]",
      "text/plain": [
       "<Figure size 720x504 with 1 Axes>"
      ]
     },
     "metadata": {
      "needs_background": "light"
     },
     "output_type": "display_data"
    }
   ],
   "source": [
    "df.plot(kind='scatter', x='viewCount', y='likeCount',\n",
    "       title='View vs. Like Count', figsize=(10, 7))"
   ]
  },
  {
   "cell_type": "code",
   "execution_count": 45,
   "id": "bb35c203",
   "metadata": {
    "execution": {
     "iopub.execute_input": "2022-06-09T01:46:58.690081Z",
     "iopub.status.busy": "2022-06-09T01:46:58.689506Z",
     "iopub.status.idle": "2022-06-09T01:46:58.704554Z",
     "shell.execute_reply": "2022-06-09T01:46:58.703996Z"
    },
    "papermill": {
     "duration": 0.072045,
     "end_time": "2022-06-09T01:46:58.706377",
     "exception": false,
     "start_time": "2022-06-09T01:46:58.634332",
     "status": "completed"
    },
    "tags": []
   },
   "outputs": [
    {
     "data": {
      "text/html": [
       "<div>\n",
       "<style scoped>\n",
       "    .dataframe tbody tr th:only-of-type {\n",
       "        vertical-align: middle;\n",
       "    }\n",
       "\n",
       "    .dataframe tbody tr th {\n",
       "        vertical-align: top;\n",
       "    }\n",
       "\n",
       "    .dataframe thead th {\n",
       "        text-align: right;\n",
       "    }\n",
       "</style>\n",
       "<table border=\"1\" class=\"dataframe\">\n",
       "  <thead>\n",
       "    <tr style=\"text-align: right;\">\n",
       "      <th></th>\n",
       "      <th>title</th>\n",
       "      <th>description</th>\n",
       "      <th>publishTime</th>\n",
       "      <th>duration_seconds</th>\n",
       "      <th>viewCount</th>\n",
       "      <th>likeCount</th>\n",
       "      <th>commentCount</th>\n",
       "      <th>like_to_view_ratio</th>\n",
       "    </tr>\n",
       "    <tr>\n",
       "      <th>id</th>\n",
       "      <th></th>\n",
       "      <th></th>\n",
       "      <th></th>\n",
       "      <th></th>\n",
       "      <th></th>\n",
       "      <th></th>\n",
       "      <th></th>\n",
       "      <th></th>\n",
       "    </tr>\n",
       "  </thead>\n",
       "  <tbody>\n",
       "    <tr>\n",
       "      <th>0e3GPea1Tyg</th>\n",
       "      <td>$456,000 Squid Game In Real Life!</td>\n",
       "      <td>MAKE SURE YOU WATCH UNTIL GLASS BRIDGE IT'S IN...</td>\n",
       "      <td>2021-11-24 21:00:01+00:00</td>\n",
       "      <td>1542</td>\n",
       "      <td>178763228</td>\n",
       "      <td>12250732</td>\n",
       "      <td>571946.0</td>\n",
       "      <td>0.068530</td>\n",
       "    </tr>\n",
       "    <tr>\n",
       "      <th>0e3GPea1Tyg</th>\n",
       "      <td>$456,000 Squid Game In Real Life!</td>\n",
       "      <td>MAKE SURE YOU WATCH UNTIL GLASS BRIDGE IT'S IN...</td>\n",
       "      <td>2021-11-24 21:00:01+00:00</td>\n",
       "      <td>1542</td>\n",
       "      <td>178763228</td>\n",
       "      <td>12250732</td>\n",
       "      <td>571946.0</td>\n",
       "      <td>0.068530</td>\n",
       "    </tr>\n",
       "    <tr>\n",
       "      <th>dBxOYE2j55U</th>\n",
       "      <td>Make This Video The Most Liked Video On Youtube</td>\n",
       "      <td>WHAT IS UP LOGANG, MAKE SURE YOU LIKE THE VIDE...</td>\n",
       "      <td>2019-01-16 22:05:01+00:00</td>\n",
       "      <td>791</td>\n",
       "      <td>96523287</td>\n",
       "      <td>19049431</td>\n",
       "      <td>277088.0</td>\n",
       "      <td>0.197356</td>\n",
       "    </tr>\n",
       "  </tbody>\n",
       "</table>\n",
       "</div>"
      ],
      "text/plain": [
       "                                                       title  \\\n",
       "id                                                             \n",
       "0e3GPea1Tyg                $456,000 Squid Game In Real Life!   \n",
       "0e3GPea1Tyg                $456,000 Squid Game In Real Life!   \n",
       "dBxOYE2j55U  Make This Video The Most Liked Video On Youtube   \n",
       "\n",
       "                                                   description  \\\n",
       "id                                                               \n",
       "0e3GPea1Tyg  MAKE SURE YOU WATCH UNTIL GLASS BRIDGE IT'S IN...   \n",
       "0e3GPea1Tyg  MAKE SURE YOU WATCH UNTIL GLASS BRIDGE IT'S IN...   \n",
       "dBxOYE2j55U  WHAT IS UP LOGANG, MAKE SURE YOU LIKE THE VIDE...   \n",
       "\n",
       "                          publishTime  duration_seconds  viewCount  likeCount  \\\n",
       "id                                                                              \n",
       "0e3GPea1Tyg 2021-11-24 21:00:01+00:00              1542  178763228   12250732   \n",
       "0e3GPea1Tyg 2021-11-24 21:00:01+00:00              1542  178763228   12250732   \n",
       "dBxOYE2j55U 2019-01-16 22:05:01+00:00               791   96523287   19049431   \n",
       "\n",
       "             commentCount  like_to_view_ratio  \n",
       "id                                             \n",
       "0e3GPea1Tyg      571946.0            0.068530  \n",
       "0e3GPea1Tyg      571946.0            0.068530  \n",
       "dBxOYE2j55U      277088.0            0.197356  "
      ]
     },
     "execution_count": 45,
     "metadata": {},
     "output_type": "execute_result"
    }
   ],
   "source": [
    "df.query('likeCount > 10000000')"
   ]
  },
  {
   "cell_type": "code",
   "execution_count": null,
   "id": "ce1204c8",
   "metadata": {
    "papermill": {
     "duration": 0.0543,
     "end_time": "2022-06-09T01:46:58.814639",
     "exception": false,
     "start_time": "2022-06-09T01:46:58.760339",
     "status": "completed"
    },
    "tags": []
   },
   "outputs": [],
   "source": []
  }
 ],
 "metadata": {
  "kernelspec": {
   "display_name": "Python 3",
   "language": "python",
   "name": "python3"
  },
  "language_info": {
   "codemirror_mode": {
    "name": "ipython",
    "version": 3
   },
   "file_extension": ".py",
   "mimetype": "text/x-python",
   "name": "python",
   "nbconvert_exporter": "python",
   "pygments_lexer": "ipython3",
   "version": "3.7.12"
  },
  "papermill": {
   "default_parameters": {},
   "duration": 16.771269,
   "end_time": "2022-06-09T01:46:59.488605",
   "environment_variables": {},
   "exception": null,
   "input_path": "__notebook__.ipynb",
   "output_path": "__notebook__.ipynb",
   "parameters": {},
   "start_time": "2022-06-09T01:46:42.717336",
   "version": "2.3.4"
  }
 },
 "nbformat": 4,
 "nbformat_minor": 5
}
