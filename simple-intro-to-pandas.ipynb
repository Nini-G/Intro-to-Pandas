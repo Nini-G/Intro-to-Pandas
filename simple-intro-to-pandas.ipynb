{
 "cells": [
  {
   "cell_type": "code",
   "execution_count": 1,
   "id": "23dde1e3",
   "metadata": {
    "_cell_guid": "b1076dfc-b9ad-4769-8c92-a6c4dae69d19",
    "_uuid": "8f2839f25d086af736a60e9eeb907d3b93b6e0e5",
    "execution": {
     "iopub.execute_input": "2022-05-25T11:46:02.617840Z",
     "iopub.status.busy": "2022-05-25T11:46:02.617063Z",
     "iopub.status.idle": "2022-05-25T11:46:02.690672Z",
     "shell.execute_reply": "2022-05-25T11:46:02.689683Z"
    },
    "papermill": {
     "duration": 0.098087,
     "end_time": "2022-05-25T11:46:02.693237",
     "exception": false,
     "start_time": "2022-05-25T11:46:02.595150",
     "status": "completed"
    },
    "tags": []
   },
   "outputs": [
    {
     "name": "stdout",
     "output_type": "stream",
     "text": [
      "/kaggle/input/mr-beast-youtube-video-statistics/MrBeast_youtube_stats.csv\n",
      "/kaggle/input/mr-beast-youtube-video-statistics/thumbnails/HBMmK1c44sE.jpg\n",
      "/kaggle/input/mr-beast-youtube-video-statistics/thumbnails/Ims5p6wjW9s.jpg\n",
      "/kaggle/input/mr-beast-youtube-video-statistics/thumbnails/vp5sSqyZ5Go.jpg\n",
      "/kaggle/input/mr-beast-youtube-video-statistics/thumbnails/Pe3pGsCeYXg.jpg\n",
      "/kaggle/input/mr-beast-youtube-video-statistics/thumbnails/3ix_gbcubTo.jpg\n",
      "/kaggle/input/mr-beast-youtube-video-statistics/thumbnails/nM89Wl03Q4g.jpg\n",
      "/kaggle/input/mr-beast-youtube-video-statistics/thumbnails/0e3GPea1Tyg.jpg\n",
      "/kaggle/input/mr-beast-youtube-video-statistics/thumbnails/wDqJZ_2ZA3A.jpg\n",
      "/kaggle/input/mr-beast-youtube-video-statistics/thumbnails/t8aM4HuVLrQ.jpg\n",
      "/kaggle/input/mr-beast-youtube-video-statistics/thumbnails/oI6aXhowFDY.jpg\n",
      "/kaggle/input/mr-beast-youtube-video-statistics/thumbnails/Lx9fRu5ehFo.jpg\n",
      "/kaggle/input/mr-beast-youtube-video-statistics/thumbnails/RCvnytndd9c.jpg\n",
      "/kaggle/input/mr-beast-youtube-video-statistics/thumbnails/TDiXxsQ0w2Q.jpg\n",
      "/kaggle/input/mr-beast-youtube-video-statistics/thumbnails/D9lVNzyhYnc.jpg\n",
      "/kaggle/input/mr-beast-youtube-video-statistics/thumbnails/A-vX1AGBGsc.jpg\n",
      "/kaggle/input/mr-beast-youtube-video-statistics/thumbnails/ha4tRQwKIUg.jpg\n",
      "/kaggle/input/mr-beast-youtube-video-statistics/thumbnails/yeqARWqjkps.jpg\n",
      "/kaggle/input/mr-beast-youtube-video-statistics/thumbnails/0hVZOJCYBBM.jpg\n",
      "/kaggle/input/mr-beast-youtube-video-statistics/thumbnails/3TflpIllQHY.jpg\n",
      "/kaggle/input/mr-beast-youtube-video-statistics/thumbnails/yUXIx2l8kko.jpg\n",
      "/kaggle/input/mr-beast-youtube-video-statistics/thumbnails/9-HphHIJS9c.jpg\n",
      "/kaggle/input/mr-beast-youtube-video-statistics/thumbnails/LeYsRMZFUq0.jpg\n",
      "/kaggle/input/mr-beast-youtube-video-statistics/thumbnails/ORUX1lHbOa8.jpg\n",
      "/kaggle/input/mr-beast-youtube-video-statistics/thumbnails/d1010B3sKNQ.jpg\n",
      "/kaggle/input/mr-beast-youtube-video-statistics/thumbnails/r7zJ8srwwjk.jpg\n",
      "/kaggle/input/mr-beast-youtube-video-statistics/thumbnails/YQDDm9HLkV4.jpg\n",
      "/kaggle/input/mr-beast-youtube-video-statistics/thumbnails/XE9pUM9MEFA.jpg\n",
      "/kaggle/input/mr-beast-youtube-video-statistics/thumbnails/9zFfp3gzZ88.jpg\n",
      "/kaggle/input/mr-beast-youtube-video-statistics/thumbnails/anZbhN0Wh_4.jpg\n",
      "/kaggle/input/mr-beast-youtube-video-statistics/thumbnails/moMJjt5KECc.jpg\n",
      "/kaggle/input/mr-beast-youtube-video-statistics/thumbnails/tYHTVjfShOA.jpg\n",
      "/kaggle/input/mr-beast-youtube-video-statistics/thumbnails/DoIQMkoYSzw.jpg\n",
      "/kaggle/input/mr-beast-youtube-video-statistics/thumbnails/cExLQ1o2pDw.jpg\n",
      "/kaggle/input/mr-beast-youtube-video-statistics/thumbnails/urtFrxDUV6c.jpg\n",
      "/kaggle/input/mr-beast-youtube-video-statistics/thumbnails/IoZri9hq7z4.jpg\n",
      "/kaggle/input/mr-beast-youtube-video-statistics/thumbnails/PJyWmlWNor8.jpg\n",
      "/kaggle/input/mr-beast-youtube-video-statistics/thumbnails/9yrdFAJUSaU.jpg\n",
      "/kaggle/input/mr-beast-youtube-video-statistics/thumbnails/gKVZz4kcuns.jpg\n",
      "/kaggle/input/mr-beast-youtube-video-statistics/thumbnails/qZNxvnQv0h4.jpg\n",
      "/kaggle/input/mr-beast-youtube-video-statistics/thumbnails/dBxOYE2j55U.jpg\n",
      "/kaggle/input/mr-beast-youtube-video-statistics/thumbnails/AKJfakEsgy0.jpg\n",
      "/kaggle/input/mr-beast-youtube-video-statistics/thumbnails/NkE0AMGzpJY.jpg\n",
      "/kaggle/input/mr-beast-youtube-video-statistics/thumbnails/zxYjTTXc-J8.jpg\n",
      "/kaggle/input/mr-beast-youtube-video-statistics/thumbnails/Y74b7WlcEpk.jpg\n",
      "/kaggle/input/mr-beast-youtube-video-statistics/thumbnails/i2O6GMpNWGo.jpg\n",
      "/kaggle/input/mr-beast-youtube-video-statistics/thumbnails/8D3vI1615K4.jpg\n",
      "/kaggle/input/mr-beast-youtube-video-statistics/thumbnails/6_im_hGxGRk.jpg\n",
      "/kaggle/input/mr-beast-youtube-video-statistics/thumbnails/59AYXzCa-Cs.jpg\n",
      "/kaggle/input/mr-beast-youtube-video-statistics/thumbnails/_uwNDiU04zE.jpg\n",
      "/kaggle/input/mr-beast-youtube-video-statistics/thumbnails/yeHjsYQ076A.jpg\n",
      "/kaggle/input/mr-beast-youtube-video-statistics/thumbnails/q0OK-zHnvnA.jpg\n",
      "/kaggle/input/mr-beast-youtube-video-statistics/thumbnails/WcwGleN38zE.jpg\n",
      "/kaggle/input/mr-beast-youtube-video-statistics/thumbnails/DuQbOQwVaNE.jpg\n",
      "/kaggle/input/mr-beast-youtube-video-statistics/thumbnails/5PCxQSMOl3o.jpg\n",
      "/kaggle/input/mr-beast-youtube-video-statistics/thumbnails/BMZP4CtphaU.jpg\n",
      "/kaggle/input/mr-beast-youtube-video-statistics/thumbnails/dFr5YQaQQdo.jpg\n",
      "/kaggle/input/mr-beast-youtube-video-statistics/thumbnails/TZPlDuYrcDQ.jpg\n",
      "/kaggle/input/mr-beast-youtube-video-statistics/thumbnails/TOcGSwJBPMQ.jpg\n",
      "/kaggle/input/mr-beast-youtube-video-statistics/thumbnails/rqUvnLPvbrM.jpg\n",
      "/kaggle/input/mr-beast-youtube-video-statistics/thumbnails/tQ4m4zD7BBA.jpg\n",
      "/kaggle/input/mr-beast-youtube-video-statistics/thumbnails/rPXmbM2UEbU.jpg\n",
      "/kaggle/input/mr-beast-youtube-video-statistics/thumbnails/IAbX0FwX-GY.jpg\n",
      "/kaggle/input/mr-beast-youtube-video-statistics/thumbnails/vETSAZgfDP4.jpg\n",
      "/kaggle/input/mr-beast-youtube-video-statistics/thumbnails/uUIlb2rpIuY.jpg\n",
      "/kaggle/input/mr-beast-youtube-video-statistics/thumbnails/GLoeAJUcz38.jpg\n",
      "/kaggle/input/mr-beast-youtube-video-statistics/thumbnails/fMfipiV_17o.jpg\n",
      "/kaggle/input/mr-beast-youtube-video-statistics/thumbnails/nuM0Z4a7kMs.jpg\n",
      "/kaggle/input/mr-beast-youtube-video-statistics/thumbnails/X7doE4h6W64.jpg\n",
      "/kaggle/input/mr-beast-youtube-video-statistics/thumbnails/w40Z8aT5fpQ.jpg\n",
      "/kaggle/input/mr-beast-youtube-video-statistics/thumbnails/OAbP-V6fEVc.jpg\n",
      "/kaggle/input/mr-beast-youtube-video-statistics/thumbnails/XKSJRulqDNA.jpg\n",
      "/kaggle/input/mr-beast-youtube-video-statistics/thumbnails/-0zoWMSEOGg.jpg\n",
      "/kaggle/input/mr-beast-youtube-video-statistics/thumbnails/52ubXjlVzUY.jpg\n",
      "/kaggle/input/mr-beast-youtube-video-statistics/thumbnails/_mdKvblL_8s.jpg\n",
      "/kaggle/input/mr-beast-youtube-video-statistics/thumbnails/hxwpkM5w3Cc.jpg\n",
      "/kaggle/input/mr-beast-youtube-video-statistics/thumbnails/ep7S1XnuQLU.jpg\n",
      "/kaggle/input/mr-beast-youtube-video-statistics/thumbnails/lfD7kMZKuNg.jpg\n",
      "/kaggle/input/mr-beast-youtube-video-statistics/thumbnails/Ih2WTyY62J4.jpg\n",
      "/kaggle/input/mr-beast-youtube-video-statistics/thumbnails/Izmibu7dxcs.jpg\n",
      "/kaggle/input/mr-beast-youtube-video-statistics/thumbnails/gL6iSCSHjco.jpg\n",
      "/kaggle/input/mr-beast-youtube-video-statistics/thumbnails/op0N7axawJA.jpg\n",
      "/kaggle/input/mr-beast-youtube-video-statistics/thumbnails/wMuYiLby3-s.jpg\n",
      "/kaggle/input/mr-beast-youtube-video-statistics/thumbnails/9cCpZl8euLI.jpg\n",
      "/kaggle/input/mr-beast-youtube-video-statistics/thumbnails/ZQZzR0DUujc.jpg\n",
      "/kaggle/input/mr-beast-youtube-video-statistics/thumbnails/9vB-48kHbBU.jpg\n",
      "/kaggle/input/mr-beast-youtube-video-statistics/thumbnails/9bqk6ZUsKyA.jpg\n",
      "/kaggle/input/mr-beast-youtube-video-statistics/thumbnails/RwnN2FVaHmw.jpg\n",
      "/kaggle/input/mr-beast-youtube-video-statistics/thumbnails/sfv1QaRzJg8.jpg\n",
      "/kaggle/input/mr-beast-youtube-video-statistics/thumbnails/00NgUctWoLQ.jpg\n",
      "/kaggle/input/mr-beast-youtube-video-statistics/thumbnails/p6bzNpgbX8Y.jpg\n",
      "/kaggle/input/mr-beast-youtube-video-statistics/thumbnails/Dc2ZRmuH5OM.jpg\n",
      "/kaggle/input/mr-beast-youtube-video-statistics/thumbnails/SZQhgExjBvQ.jpg\n",
      "/kaggle/input/mr-beast-youtube-video-statistics/thumbnails/XaxhLbxZ13k.jpg\n",
      "/kaggle/input/mr-beast-youtube-video-statistics/thumbnails/t4OumncEiKo.jpg\n",
      "/kaggle/input/mr-beast-youtube-video-statistics/thumbnails/NbaWrbJDr48.jpg\n",
      "/kaggle/input/mr-beast-youtube-video-statistics/thumbnails/NS3hse9ezik.jpg\n",
      "/kaggle/input/mr-beast-youtube-video-statistics/thumbnails/rH1D_3G56DY.jpg\n",
      "/kaggle/input/mr-beast-youtube-video-statistics/thumbnails/foLlul8Tl3E.jpg\n",
      "/kaggle/input/mr-beast-youtube-video-statistics/thumbnails/sirrTXiPFmw.jpg\n",
      "/kaggle/input/mr-beast-youtube-video-statistics/thumbnails/fG1N5kzeAhM.jpg\n",
      "/kaggle/input/mr-beast-youtube-video-statistics/thumbnails/koRKIlRQj4g.jpg\n",
      "/kaggle/input/mr-beast-youtube-video-statistics/thumbnails/xWcldHxHFpo.jpg\n",
      "/kaggle/input/mr-beast-youtube-video-statistics/thumbnails/fWcSBWadolA.jpg\n",
      "/kaggle/input/mr-beast-youtube-video-statistics/thumbnails/g2rbhIB-ITM.jpg\n",
      "/kaggle/input/mr-beast-youtube-video-statistics/thumbnails/0DaMUhgcAqo.jpg\n",
      "/kaggle/input/mr-beast-youtube-video-statistics/thumbnails/2eFSU7TFOnk.jpg\n",
      "/kaggle/input/mr-beast-youtube-video-statistics/thumbnails/qPBtTPJHS0Q.jpg\n",
      "/kaggle/input/mr-beast-youtube-video-statistics/thumbnails/b91vrgVY-ZQ.jpg\n",
      "/kaggle/input/mr-beast-youtube-video-statistics/thumbnails/vJH28ICkCdU.jpg\n",
      "/kaggle/input/mr-beast-youtube-video-statistics/thumbnails/f0c7pSCoZqE.jpg\n",
      "/kaggle/input/mr-beast-youtube-video-statistics/thumbnails/YyhKdOCwD7s.jpg\n",
      "/kaggle/input/mr-beast-youtube-video-statistics/thumbnails/ZJwX2jTXWwQ.jpg\n",
      "/kaggle/input/mr-beast-youtube-video-statistics/thumbnails/BqS4iVHa-LU.jpg\n",
      "/kaggle/input/mr-beast-youtube-video-statistics/thumbnails/H1WBdh56Vq4.jpg\n",
      "/kaggle/input/mr-beast-youtube-video-statistics/thumbnails/UE5AHE2Ypr8.jpg\n",
      "/kaggle/input/mr-beast-youtube-video-statistics/thumbnails/6wsFjjhZPJI.jpg\n",
      "/kaggle/input/mr-beast-youtube-video-statistics/thumbnails/3LLnjRLrvLU.jpg\n",
      "/kaggle/input/mr-beast-youtube-video-statistics/thumbnails/LU_xVr4b2qM.jpg\n",
      "/kaggle/input/mr-beast-youtube-video-statistics/thumbnails/X1jMMFOqxEw.jpg\n",
      "/kaggle/input/mr-beast-youtube-video-statistics/thumbnails/AS5CxLCWq-Q.jpg\n",
      "/kaggle/input/mr-beast-youtube-video-statistics/thumbnails/lBYC4_Lccjw.jpg\n",
      "/kaggle/input/mr-beast-youtube-video-statistics/thumbnails/RywkkwO78m8.jpg\n",
      "/kaggle/input/mr-beast-youtube-video-statistics/thumbnails/uotb9ZHnI2g.jpg\n",
      "/kaggle/input/mr-beast-youtube-video-statistics/thumbnails/AA-VpIj8F5Y.jpg\n",
      "/kaggle/input/mr-beast-youtube-video-statistics/thumbnails/PKtnafFtfEo.jpg\n",
      "/kaggle/input/mr-beast-youtube-video-statistics/thumbnails/uocETPj4Jx4.jpg\n",
      "/kaggle/input/mr-beast-youtube-video-statistics/thumbnails/5Fg9oZk-5uA.jpg\n",
      "/kaggle/input/mr-beast-youtube-video-statistics/thumbnails/e5DqdX-7_g4.jpg\n",
      "/kaggle/input/mr-beast-youtube-video-statistics/thumbnails/bIZ5_L1ru2w.jpg\n",
      "/kaggle/input/mr-beast-youtube-video-statistics/thumbnails/gsWPpE4Rid0.jpg\n",
      "/kaggle/input/mr-beast-youtube-video-statistics/thumbnails/Vl3swga-Xrk.jpg\n",
      "/kaggle/input/mr-beast-youtube-video-statistics/thumbnails/GxTVDClFXuc.jpg\n",
      "/kaggle/input/mr-beast-youtube-video-statistics/thumbnails/P4qWhSZ7_WA.jpg\n",
      "/kaggle/input/mr-beast-youtube-video-statistics/thumbnails/5Hg_QSIJm8I.jpg\n",
      "/kaggle/input/mr-beast-youtube-video-statistics/thumbnails/xRwy_rKc7gI.jpg\n",
      "/kaggle/input/mr-beast-youtube-video-statistics/thumbnails/C680oxL__ck.jpg\n",
      "/kaggle/input/mr-beast-youtube-video-statistics/thumbnails/GUWGsIVEMSQ.jpg\n",
      "/kaggle/input/mr-beast-youtube-video-statistics/thumbnails/vZrL_FFITgs.jpg\n",
      "/kaggle/input/mr-beast-youtube-video-statistics/thumbnails/mGIpOtncmSM.jpg\n",
      "/kaggle/input/mr-beast-youtube-video-statistics/thumbnails/erQ_9yEz0ls.jpg\n",
      "/kaggle/input/mr-beast-youtube-video-statistics/thumbnails/d7QmQtNwhcU.jpg\n",
      "/kaggle/input/mr-beast-youtube-video-statistics/thumbnails/sg_XFT4K3N4.jpg\n",
      "/kaggle/input/mr-beast-youtube-video-statistics/thumbnails/56OkH6ocYZU.jpg\n",
      "/kaggle/input/mr-beast-youtube-video-statistics/thumbnails/ktyJIj6i4Qw.jpg\n",
      "/kaggle/input/mr-beast-youtube-video-statistics/thumbnails/dPxAFqs2eYE.jpg\n",
      "/kaggle/input/mr-beast-youtube-video-statistics/thumbnails/bEIK5ni_Pzs.jpg\n",
      "/kaggle/input/mr-beast-youtube-video-statistics/thumbnails/bFZdU9dr4OM.jpg\n",
      "/kaggle/input/mr-beast-youtube-video-statistics/thumbnails/TQHEJj68Jew.jpg\n",
      "/kaggle/input/mr-beast-youtube-video-statistics/thumbnails/x9TQ6culXIA.jpg\n",
      "/kaggle/input/mr-beast-youtube-video-statistics/thumbnails/Su34c5Z8DW4.jpg\n",
      "/kaggle/input/mr-beast-youtube-video-statistics/thumbnails/anFxsa5jXrE.jpg\n",
      "/kaggle/input/mr-beast-youtube-video-statistics/thumbnails/Kgu2ApayYvI.jpg\n",
      "/kaggle/input/mr-beast-youtube-video-statistics/thumbnails/8TFq_vvO_Wg.jpg\n",
      "/kaggle/input/mr-beast-youtube-video-statistics/thumbnails/5V2B28OqfqM.jpg\n",
      "/kaggle/input/mr-beast-youtube-video-statistics/thumbnails/v3tbnlc5cfo.jpg\n",
      "/kaggle/input/mr-beast-youtube-video-statistics/thumbnails/iUzi5JmJNWc.jpg\n",
      "/kaggle/input/mr-beast-youtube-video-statistics/thumbnails/QapO3maXd9k.jpg\n",
      "/kaggle/input/mr-beast-youtube-video-statistics/thumbnails/NZR4WEjpOQg.jpg\n",
      "/kaggle/input/mr-beast-youtube-video-statistics/thumbnails/nd-bwvNB7YA.jpg\n",
      "/kaggle/input/mr-beast-youtube-video-statistics/thumbnails/QxGVgXf_LNk.jpg\n",
      "/kaggle/input/mr-beast-youtube-video-statistics/thumbnails/tBEBc4KQVsU.jpg\n",
      "/kaggle/input/mr-beast-youtube-video-statistics/thumbnails/NZlClr_ivb4.jpg\n",
      "/kaggle/input/mr-beast-youtube-video-statistics/thumbnails/cRPldarzw-M.jpg\n",
      "/kaggle/input/mr-beast-youtube-video-statistics/thumbnails/FbM1yi4mMMc.jpg\n",
      "/kaggle/input/mr-beast-youtube-video-statistics/thumbnails/9GD6hbqu2oM.jpg\n",
      "/kaggle/input/mr-beast-youtube-video-statistics/thumbnails/E6E22XQPhhg.jpg\n",
      "/kaggle/input/mr-beast-youtube-video-statistics/thumbnails/HPJKxAhLw5I.jpg\n",
      "/kaggle/input/mr-beast-youtube-video-statistics/thumbnails/cV2gBU6hKfY.jpg\n",
      "/kaggle/input/mr-beast-youtube-video-statistics/thumbnails/ZV7rU6lnAKQ.jpg\n",
      "/kaggle/input/mr-beast-youtube-video-statistics/thumbnails/UlUcwJc5nBs.jpg\n",
      "/kaggle/input/mr-beast-youtube-video-statistics/thumbnails/97Gh93Daio0.jpg\n",
      "/kaggle/input/mr-beast-youtube-video-statistics/thumbnails/qIsgdOVGA04.jpg\n",
      "/kaggle/input/mr-beast-youtube-video-statistics/thumbnails/NiqkH7qVW0U.jpg\n",
      "/kaggle/input/mr-beast-youtube-video-statistics/thumbnails/QbJJwaVdgIs.jpg\n",
      "/kaggle/input/mr-beast-youtube-video-statistics/thumbnails/KSKJKLmAqpI.jpg\n",
      "/kaggle/input/mr-beast-youtube-video-statistics/thumbnails/nywT2SenPIo.jpg\n",
      "/kaggle/input/mr-beast-youtube-video-statistics/thumbnails/KzwTYZ2W3ZA.jpg\n",
      "/kaggle/input/mr-beast-youtube-video-statistics/thumbnails/9CVwXBYVqVk.jpg\n",
      "/kaggle/input/mr-beast-youtube-video-statistics/thumbnails/xpNeg0hPZIs.jpg\n",
      "/kaggle/input/mr-beast-youtube-video-statistics/thumbnails/HfJMs4mrSJM.jpg\n",
      "/kaggle/input/mr-beast-youtube-video-statistics/thumbnails/nan.jpg\n",
      "/kaggle/input/mr-beast-youtube-video-statistics/thumbnails/dg2Ag3e8W-Q.jpg\n",
      "/kaggle/input/mr-beast-youtube-video-statistics/thumbnails/L8nh1wuXTbI.jpg\n",
      "/kaggle/input/mr-beast-youtube-video-statistics/thumbnails/UQtltNZ_pjs.jpg\n",
      "/kaggle/input/mr-beast-youtube-video-statistics/thumbnails/G7Y9ban7b0U.jpg\n",
      "/kaggle/input/mr-beast-youtube-video-statistics/thumbnails/Rj_vssRaZlQ.jpg\n",
      "/kaggle/input/mr-beast-youtube-video-statistics/thumbnails/uE6gud1voDs.jpg\n",
      "/kaggle/input/mr-beast-youtube-video-statistics/thumbnails/zi7tZ-2PhLk.jpg\n",
      "/kaggle/input/mr-beast-youtube-video-statistics/thumbnails/IYVjOfoU3uI.jpg\n",
      "/kaggle/input/mr-beast-youtube-video-statistics/thumbnails/9Ax56oRhcZc.jpg\n",
      "/kaggle/input/mr-beast-youtube-video-statistics/thumbnails/yyJ7xEcENNI.jpg\n",
      "/kaggle/input/mr-beast-youtube-video-statistics/thumbnails/UtnsWzaoRtg.jpg\n",
      "/kaggle/input/mr-beast-youtube-video-statistics/thumbnails/AS6WMS_Bemg.jpg\n",
      "/kaggle/input/mr-beast-youtube-video-statistics/thumbnails/mpZWt5pGKZ8.jpg\n",
      "/kaggle/input/mr-beast-youtube-video-statistics/thumbnails/2O8wta4FsD4.jpg\n",
      "/kaggle/input/mr-beast-youtube-video-statistics/thumbnails/pzlPJmNyepA.jpg\n",
      "/kaggle/input/mr-beast-youtube-video-statistics/thumbnails/AiGKBNGlzHo.jpg\n",
      "/kaggle/input/mr-beast-youtube-video-statistics/thumbnails/x4IXCimma-s.jpg\n",
      "/kaggle/input/mr-beast-youtube-video-statistics/thumbnails/uBC7805Smsg.jpg\n",
      "/kaggle/input/mr-beast-youtube-video-statistics/thumbnails/ayXxwJJId_c.jpg\n",
      "/kaggle/input/mr-beast-youtube-video-statistics/thumbnails/Ooke4YZv8Ts.jpg\n",
      "/kaggle/input/mr-beast-youtube-video-statistics/thumbnails/bs0SWXbty18.jpg\n",
      "/kaggle/input/mr-beast-youtube-video-statistics/thumbnails/F4Y3Pkn95GI.jpg\n",
      "/kaggle/input/mr-beast-youtube-video-statistics/thumbnails/HuLAAXZXIy0.jpg\n",
      "/kaggle/input/mr-beast-youtube-video-statistics/thumbnails/q6Qw8mUVTrE.jpg\n",
      "/kaggle/input/mr-beast-youtube-video-statistics/thumbnails/LdMx2U5tby0.jpg\n",
      "/kaggle/input/mr-beast-youtube-video-statistics/thumbnails/MC5h-ShR-S8.jpg\n",
      "/kaggle/input/mr-beast-youtube-video-statistics/thumbnails/2IGxSOfsBok.jpg\n",
      "/kaggle/input/mr-beast-youtube-video-statistics/thumbnails/AIytwdufwW8.jpg\n",
      "/kaggle/input/mr-beast-youtube-video-statistics/thumbnails/1UygJmcHUdQ.jpg\n",
      "/kaggle/input/mr-beast-youtube-video-statistics/thumbnails/gYaxI_allkQ.jpg\n",
      "/kaggle/input/mr-beast-youtube-video-statistics/thumbnails/XKFKPQHdWRI.jpg\n"
     ]
    }
   ],
   "source": [
    "# This Python 3 environment comes with many helpful analytics libraries installed\n",
    "# It is defined by the kaggle/python Docker image: https://github.com/kaggle/docker-python\n",
    "# For example, here's several helpful packages to load\n",
    "\n",
    "import numpy as np # linear algebra\n",
    "import pandas as pd # data processing, CSV file I/O (e.g. pd.read_csv)\n",
    "            \n",
    "# Input data files are available in the read-only \"../input/\" directory\n",
    "# For example, running this (by clicking run or pressing Shift+Enter) will list all files under the input directory\n",
    "\n",
    "import os\n",
    "for dirname, _, filenames in os.walk('/kaggle/input'):\n",
    "    for filename in filenames:\n",
    "        print(os.path.join(dirname, filename))\n",
    "\n",
    "# You can write up to 20GB to the current directory (/kaggle/working/) that gets preserved as output when you create a version using \"Save & Run All\" \n",
    "# You can also write temporary files to /kaggle/temp/, but they won't be saved outside of the current session"
   ]
  },
  {
   "cell_type": "markdown",
   "id": "9977a70d",
   "metadata": {
    "papermill": {
     "duration": 0.018959,
     "end_time": "2022-05-25T11:46:02.732409",
     "exception": false,
     "start_time": "2022-05-25T11:46:02.713450",
     "status": "completed"
    },
    "tags": []
   },
   "source": [
    "# **Simple Intro to Pandas by Medallion Data Science on Youtube**\n"
   ]
  },
  {
   "cell_type": "markdown",
   "id": "5180e3bb",
   "metadata": {
    "papermill": {
     "duration": 0.01934,
     "end_time": "2022-05-25T11:46:02.772547",
     "exception": false,
     "start_time": "2022-05-25T11:46:02.753207",
     "status": "completed"
    },
    "tags": []
   },
   "source": []
  },
  {
   "cell_type": "markdown",
   "id": "52a36e57",
   "metadata": {
    "papermill": {
     "duration": 0.019176,
     "end_time": "2022-05-25T11:46:02.811542",
     "exception": false,
     "start_time": "2022-05-25T11:46:02.792366",
     "status": "completed"
    },
    "tags": []
   },
   "source": [
    "My first ever notebook done by following a YouTube tutorial. \n",
    "Aims to:\n",
    "* Familiarize on Kaggle notebook environment\n",
    "* Learn basics of Pandas\n",
    "* Build foundation for Data Science\n",
    "* Learn Markdown \n"
   ]
  },
  {
   "cell_type": "markdown",
   "id": "d970a126",
   "metadata": {
    "papermill": {
     "duration": 0.019413,
     "end_time": "2022-05-25T11:46:02.850396",
     "exception": false,
     "start_time": "2022-05-25T11:46:02.830983",
     "status": "completed"
    },
    "tags": []
   },
   "source": [
    "## Series"
   ]
  },
  {
   "cell_type": "markdown",
   "id": "57df8058",
   "metadata": {
    "papermill": {
     "duration": 0.019048,
     "end_time": "2022-05-25T11:46:02.888912",
     "exception": false,
     "start_time": "2022-05-25T11:46:02.869864",
     "status": "completed"
    },
    "tags": []
   },
   "source": [
    "A series is basically a list of data with index, and type.\n",
    "Like an array."
   ]
  },
  {
   "cell_type": "code",
   "execution_count": 2,
   "id": "796747d8",
   "metadata": {
    "execution": {
     "iopub.execute_input": "2022-05-25T11:46:02.929977Z",
     "iopub.status.busy": "2022-05-25T11:46:02.929318Z",
     "iopub.status.idle": "2022-05-25T11:46:02.937559Z",
     "shell.execute_reply": "2022-05-25T11:46:02.936857Z"
    },
    "papermill": {
     "duration": 0.031576,
     "end_time": "2022-05-25T11:46:02.939775",
     "exception": false,
     "start_time": "2022-05-25T11:46:02.908199",
     "status": "completed"
    },
    "tags": []
   },
   "outputs": [],
   "source": [
    "my_data = ['Boat', 'Car', 'Truck', 'Plane']\n",
    "\n",
    "my_series1 = pd.Series(my_data)"
   ]
  },
  {
   "cell_type": "code",
   "execution_count": 3,
   "id": "00925389",
   "metadata": {
    "execution": {
     "iopub.execute_input": "2022-05-25T11:46:02.981141Z",
     "iopub.status.busy": "2022-05-25T11:46:02.980545Z",
     "iopub.status.idle": "2022-05-25T11:46:02.986793Z",
     "shell.execute_reply": "2022-05-25T11:46:02.985813Z"
    },
    "papermill": {
     "duration": 0.028787,
     "end_time": "2022-05-25T11:46:02.988683",
     "exception": false,
     "start_time": "2022-05-25T11:46:02.959896",
     "status": "completed"
    },
    "tags": []
   },
   "outputs": [
    {
     "name": "stdout",
     "output_type": "stream",
     "text": [
      "0     Boat\n",
      "1      Car\n",
      "2    Truck\n",
      "3    Plane\n",
      "dtype: object\n"
     ]
    }
   ],
   "source": [
    "print(my_series1)"
   ]
  },
  {
   "cell_type": "code",
   "execution_count": 4,
   "id": "3b7a76be",
   "metadata": {
    "execution": {
     "iopub.execute_input": "2022-05-25T11:46:03.031584Z",
     "iopub.status.busy": "2022-05-25T11:46:03.030995Z",
     "iopub.status.idle": "2022-05-25T11:46:03.036639Z",
     "shell.execute_reply": "2022-05-25T11:46:03.035750Z"
    },
    "papermill": {
     "duration": 0.031321,
     "end_time": "2022-05-25T11:46:03.039819",
     "exception": false,
     "start_time": "2022-05-25T11:46:03.008498",
     "status": "completed"
    },
    "tags": []
   },
   "outputs": [
    {
     "name": "stdout",
     "output_type": "stream",
     "text": [
      "0     3\n",
      "1     7\n",
      "2    13\n",
      "3    27\n",
      "4    16\n",
      "dtype: int64\n"
     ]
    }
   ],
   "source": [
    "my_data = [3, 7, 13, 27, 16]\n",
    "my_series2 = pd.Series(my_data)\n",
    "print(my_series2)"
   ]
  },
  {
   "cell_type": "code",
   "execution_count": 5,
   "id": "ab026053",
   "metadata": {
    "execution": {
     "iopub.execute_input": "2022-05-25T11:46:03.083361Z",
     "iopub.status.busy": "2022-05-25T11:46:03.082727Z",
     "iopub.status.idle": "2022-05-25T11:46:03.088011Z",
     "shell.execute_reply": "2022-05-25T11:46:03.087135Z"
    },
    "papermill": {
     "duration": 0.028611,
     "end_time": "2022-05-25T11:46:03.089985",
     "exception": false,
     "start_time": "2022-05-25T11:46:03.061374",
     "status": "completed"
    },
    "tags": []
   },
   "outputs": [
    {
     "name": "stdout",
     "output_type": "stream",
     "text": [
      "[3, 7, 13, 27, 16]\n"
     ]
    }
   ],
   "source": [
    "print(my_data)"
   ]
  },
  {
   "cell_type": "markdown",
   "id": "65f3c52e",
   "metadata": {
    "papermill": {
     "duration": 0.020564,
     "end_time": "2022-05-25T11:46:03.132856",
     "exception": false,
     "start_time": "2022-05-25T11:46:03.112292",
     "status": "completed"
    },
    "tags": []
   },
   "source": [
    "## DataFrame"
   ]
  },
  {
   "cell_type": "markdown",
   "id": "8244132b",
   "metadata": {
    "papermill": {
     "duration": 0.020067,
     "end_time": "2022-05-25T11:46:03.173243",
     "exception": false,
     "start_time": "2022-05-25T11:46:03.153176",
     "status": "completed"
    },
    "tags": []
   },
   "source": [
    "DataFrame is a grouping of multiple series, all linked by the same index. \n",
    "Basically something like a spreadsheet."
   ]
  },
  {
   "cell_type": "code",
   "execution_count": 6,
   "id": "42d74b7b",
   "metadata": {
    "execution": {
     "iopub.execute_input": "2022-05-25T11:46:03.216680Z",
     "iopub.status.busy": "2022-05-25T11:46:03.216120Z",
     "iopub.status.idle": "2022-05-25T11:46:03.234006Z",
     "shell.execute_reply": "2022-05-25T11:46:03.233261Z"
    },
    "papermill": {
     "duration": 0.042142,
     "end_time": "2022-05-25T11:46:03.236035",
     "exception": false,
     "start_time": "2022-05-25T11:46:03.193893",
     "status": "completed"
    },
    "tags": []
   },
   "outputs": [
    {
     "data": {
      "text/html": [
       "<div>\n",
       "<style scoped>\n",
       "    .dataframe tbody tr th:only-of-type {\n",
       "        vertical-align: middle;\n",
       "    }\n",
       "\n",
       "    .dataframe tbody tr th {\n",
       "        vertical-align: top;\n",
       "    }\n",
       "\n",
       "    .dataframe thead th {\n",
       "        text-align: right;\n",
       "    }\n",
       "</style>\n",
       "<table border=\"1\" class=\"dataframe\">\n",
       "  <thead>\n",
       "    <tr style=\"text-align: right;\">\n",
       "      <th></th>\n",
       "      <th>0</th>\n",
       "      <th>1</th>\n",
       "    </tr>\n",
       "  </thead>\n",
       "  <tbody>\n",
       "    <tr>\n",
       "      <th>0</th>\n",
       "      <td>Boat</td>\n",
       "      <td>3</td>\n",
       "    </tr>\n",
       "    <tr>\n",
       "      <th>1</th>\n",
       "      <td>Car</td>\n",
       "      <td>7</td>\n",
       "    </tr>\n",
       "    <tr>\n",
       "      <th>2</th>\n",
       "      <td>Truck</td>\n",
       "      <td>16</td>\n",
       "    </tr>\n",
       "    <tr>\n",
       "      <th>3</th>\n",
       "      <td>Plane</td>\n",
       "      <td>27</td>\n",
       "    </tr>\n",
       "  </tbody>\n",
       "</table>\n",
       "</div>"
      ],
      "text/plain": [
       "       0   1\n",
       "0   Boat   3\n",
       "1    Car   7\n",
       "2  Truck  16\n",
       "3  Plane  27"
      ]
     },
     "execution_count": 6,
     "metadata": {},
     "output_type": "execute_result"
    }
   ],
   "source": [
    "mydfdata = [('Boat', 3), ('Car', 7),  ('Truck', 16), ('Plane', 27)]\n",
    "\n",
    "# dataframe with dummy column, 0, 1\n",
    "mydf0 = pd.DataFrame(mydfdata)\n",
    "\n",
    "mydf0"
   ]
  },
  {
   "cell_type": "code",
   "execution_count": 7,
   "id": "3b5398f1",
   "metadata": {
    "execution": {
     "iopub.execute_input": "2022-05-25T11:46:03.281488Z",
     "iopub.status.busy": "2022-05-25T11:46:03.280868Z",
     "iopub.status.idle": "2022-05-25T11:46:03.292721Z",
     "shell.execute_reply": "2022-05-25T11:46:03.291890Z"
    },
    "papermill": {
     "duration": 0.03652,
     "end_time": "2022-05-25T11:46:03.294925",
     "exception": false,
     "start_time": "2022-05-25T11:46:03.258405",
     "status": "completed"
    },
    "tags": []
   },
   "outputs": [
    {
     "data": {
      "text/html": [
       "<div>\n",
       "<style scoped>\n",
       "    .dataframe tbody tr th:only-of-type {\n",
       "        vertical-align: middle;\n",
       "    }\n",
       "\n",
       "    .dataframe tbody tr th {\n",
       "        vertical-align: top;\n",
       "    }\n",
       "\n",
       "    .dataframe thead th {\n",
       "        text-align: right;\n",
       "    }\n",
       "</style>\n",
       "<table border=\"1\" class=\"dataframe\">\n",
       "  <thead>\n",
       "    <tr style=\"text-align: right;\">\n",
       "      <th></th>\n",
       "      <th>thing</th>\n",
       "      <th>count</th>\n",
       "    </tr>\n",
       "  </thead>\n",
       "  <tbody>\n",
       "    <tr>\n",
       "      <th>0</th>\n",
       "      <td>Boat</td>\n",
       "      <td>3</td>\n",
       "    </tr>\n",
       "    <tr>\n",
       "      <th>1</th>\n",
       "      <td>Car</td>\n",
       "      <td>7</td>\n",
       "    </tr>\n",
       "    <tr>\n",
       "      <th>2</th>\n",
       "      <td>Truck</td>\n",
       "      <td>16</td>\n",
       "    </tr>\n",
       "    <tr>\n",
       "      <th>3</th>\n",
       "      <td>Plane</td>\n",
       "      <td>27</td>\n",
       "    </tr>\n",
       "  </tbody>\n",
       "</table>\n",
       "</div>"
      ],
      "text/plain": [
       "   thing  count\n",
       "0   Boat      3\n",
       "1    Car      7\n",
       "2  Truck     16\n",
       "3  Plane     27"
      ]
     },
     "execution_count": 7,
     "metadata": {},
     "output_type": "execute_result"
    }
   ],
   "source": [
    "#dataframe with specified column\n",
    "mydf1 = pd.DataFrame(mydfdata, columns=['thing', 'count'])\n",
    "mydf1"
   ]
  },
  {
   "cell_type": "code",
   "execution_count": 8,
   "id": "8c7880bd",
   "metadata": {
    "execution": {
     "iopub.execute_input": "2022-05-25T11:46:03.340394Z",
     "iopub.status.busy": "2022-05-25T11:46:03.339516Z",
     "iopub.status.idle": "2022-05-25T11:46:03.350893Z",
     "shell.execute_reply": "2022-05-25T11:46:03.349944Z"
    },
    "papermill": {
     "duration": 0.036453,
     "end_time": "2022-05-25T11:46:03.353066",
     "exception": false,
     "start_time": "2022-05-25T11:46:03.316613",
     "status": "completed"
    },
    "tags": []
   },
   "outputs": [
    {
     "data": {
      "text/plain": [
       "0     Boat\n",
       "1      Car\n",
       "2    Truck\n",
       "3    Plane\n",
       "Name: thing, dtype: object"
      ]
     },
     "execution_count": 8,
     "metadata": {},
     "output_type": "execute_result"
    }
   ],
   "source": [
    "mydf1['thing']"
   ]
  },
  {
   "cell_type": "code",
   "execution_count": 9,
   "id": "a958ab76",
   "metadata": {
    "execution": {
     "iopub.execute_input": "2022-05-25T11:46:03.398970Z",
     "iopub.status.busy": "2022-05-25T11:46:03.398387Z",
     "iopub.status.idle": "2022-05-25T11:46:03.404655Z",
     "shell.execute_reply": "2022-05-25T11:46:03.404108Z"
    },
    "papermill": {
     "duration": 0.031209,
     "end_time": "2022-05-25T11:46:03.406494",
     "exception": false,
     "start_time": "2022-05-25T11:46:03.375285",
     "status": "completed"
    },
    "tags": []
   },
   "outputs": [
    {
     "data": {
      "text/plain": [
       "0     3\n",
       "1     7\n",
       "2    16\n",
       "3    27\n",
       "Name: count, dtype: int64"
      ]
     },
     "execution_count": 9,
     "metadata": {},
     "output_type": "execute_result"
    }
   ],
   "source": [
    "mydf1['count']"
   ]
  },
  {
   "cell_type": "code",
   "execution_count": 10,
   "id": "841479fb",
   "metadata": {
    "execution": {
     "iopub.execute_input": "2022-05-25T11:46:03.453285Z",
     "iopub.status.busy": "2022-05-25T11:46:03.452731Z",
     "iopub.status.idle": "2022-05-25T11:46:03.457504Z",
     "shell.execute_reply": "2022-05-25T11:46:03.456786Z"
    },
    "papermill": {
     "duration": 0.030294,
     "end_time": "2022-05-25T11:46:03.459366",
     "exception": false,
     "start_time": "2022-05-25T11:46:03.429072",
     "status": "completed"
    },
    "tags": []
   },
   "outputs": [
    {
     "data": {
      "text/plain": [
       "pandas.core.frame.DataFrame"
      ]
     },
     "execution_count": 10,
     "metadata": {},
     "output_type": "execute_result"
    }
   ],
   "source": [
    "type(mydf1)"
   ]
  },
  {
   "cell_type": "code",
   "execution_count": 11,
   "id": "d86b0b80",
   "metadata": {
    "execution": {
     "iopub.execute_input": "2022-05-25T11:46:03.507095Z",
     "iopub.status.busy": "2022-05-25T11:46:03.506464Z",
     "iopub.status.idle": "2022-05-25T11:46:03.513281Z",
     "shell.execute_reply": "2022-05-25T11:46:03.512572Z"
    },
    "papermill": {
     "duration": 0.033046,
     "end_time": "2022-05-25T11:46:03.515262",
     "exception": false,
     "start_time": "2022-05-25T11:46:03.482216",
     "status": "completed"
    },
    "tags": []
   },
   "outputs": [
    {
     "data": {
      "text/plain": [
       "thing    object\n",
       "count     int64\n",
       "dtype: object"
      ]
     },
     "execution_count": 11,
     "metadata": {},
     "output_type": "execute_result"
    }
   ],
   "source": [
    "#data type of series\n",
    "mydf1.dtypes"
   ]
  },
  {
   "cell_type": "markdown",
   "id": "573f9a3d",
   "metadata": {
    "papermill": {
     "duration": 0.022994,
     "end_time": "2022-05-25T11:46:03.561629",
     "exception": false,
     "start_time": "2022-05-25T11:46:03.538635",
     "status": "completed"
    },
    "tags": []
   },
   "source": [
    "# Reading in Data"
   ]
  },
  {
   "cell_type": "code",
   "execution_count": 12,
   "id": "52bc267c",
   "metadata": {
    "execution": {
     "iopub.execute_input": "2022-05-25T11:46:03.610395Z",
     "iopub.status.busy": "2022-05-25T11:46:03.609357Z",
     "iopub.status.idle": "2022-05-25T11:46:03.629138Z",
     "shell.execute_reply": "2022-05-25T11:46:03.628476Z"
    },
    "papermill": {
     "duration": 0.046445,
     "end_time": "2022-05-25T11:46:03.631369",
     "exception": false,
     "start_time": "2022-05-25T11:46:03.584924",
     "status": "completed"
    },
    "tags": []
   },
   "outputs": [],
   "source": [
    "df = pd.read_csv('../input/mr-beast-youtube-video-statistics/MrBeast_youtube_stats.csv')"
   ]
  },
  {
   "cell_type": "code",
   "execution_count": null,
   "id": "dd2fb716",
   "metadata": {
    "papermill": {
     "duration": 0.023125,
     "end_time": "2022-05-25T11:46:03.678090",
     "exception": false,
     "start_time": "2022-05-25T11:46:03.654965",
     "status": "completed"
    },
    "tags": []
   },
   "outputs": [],
   "source": []
  }
 ],
 "metadata": {
  "kernelspec": {
   "display_name": "Python 3",
   "language": "python",
   "name": "python3"
  },
  "language_info": {
   "codemirror_mode": {
    "name": "ipython",
    "version": 3
   },
   "file_extension": ".py",
   "mimetype": "text/x-python",
   "name": "python",
   "nbconvert_exporter": "python",
   "pygments_lexer": "ipython3",
   "version": "3.7.12"
  },
  "papermill": {
   "default_parameters": {},
   "duration": 12.36477,
   "end_time": "2022-05-25T11:46:04.326483",
   "environment_variables": {},
   "exception": null,
   "input_path": "__notebook__.ipynb",
   "output_path": "__notebook__.ipynb",
   "parameters": {},
   "start_time": "2022-05-25T11:45:51.961713",
   "version": "2.3.4"
  }
 },
 "nbformat": 4,
 "nbformat_minor": 5
}
