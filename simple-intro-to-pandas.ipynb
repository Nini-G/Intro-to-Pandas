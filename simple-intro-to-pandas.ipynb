{
 "cells": [
  {
   "cell_type": "code",
   "execution_count": 1,
   "id": "d484eb08",
   "metadata": {
    "_cell_guid": "b1076dfc-b9ad-4769-8c92-a6c4dae69d19",
    "_uuid": "8f2839f25d086af736a60e9eeb907d3b93b6e0e5",
    "execution": {
     "iopub.execute_input": "2022-05-25T08:30:00.215906Z",
     "iopub.status.busy": "2022-05-25T08:30:00.215317Z",
     "iopub.status.idle": "2022-05-25T08:30:00.226149Z",
     "shell.execute_reply": "2022-05-25T08:30:00.225522Z"
    },
    "papermill": {
     "duration": 0.033551,
     "end_time": "2022-05-25T08:30:00.228467",
     "exception": false,
     "start_time": "2022-05-25T08:30:00.194916",
     "status": "completed"
    },
    "tags": []
   },
   "outputs": [],
   "source": [
    "# This Python 3 environment comes with many helpful analytics libraries installed\n",
    "# It is defined by the kaggle/python Docker image: https://github.com/kaggle/docker-python\n",
    "# For example, here's several helpful packages to load\n",
    "\n",
    "import numpy as np # linear algebra\n",
    "import pandas as pd # data processing, CSV file I/O (e.g. pd.read_csv)\n",
    "            \n",
    "# Input data files are available in the read-only \"../input/\" directory\n",
    "# For example, running this (by clicking run or pressing Shift+Enter) will list all files under the input directory\n",
    "\n",
    "import os\n",
    "for dirname, _, filenames in os.walk('/kaggle/input'):\n",
    "    for filename in filenames:\n",
    "        print(os.path.join(dirname, filename))\n",
    "\n",
    "# You can write up to 20GB to the current directory (/kaggle/working/) that gets preserved as output when you create a version using \"Save & Run All\" \n",
    "# You can also write temporary files to /kaggle/temp/, but they won't be saved outside of the current session"
   ]
  },
  {
   "cell_type": "markdown",
   "id": "3eb5f8ee",
   "metadata": {
    "papermill": {
     "duration": 0.016918,
     "end_time": "2022-05-25T08:30:00.263060",
     "exception": false,
     "start_time": "2022-05-25T08:30:00.246142",
     "status": "completed"
    },
    "tags": []
   },
   "source": [
    "# **Simple Intro to Pandas by Medallion Data Science on Youtube**\n"
   ]
  },
  {
   "cell_type": "markdown",
   "id": "5bf2d1c7",
   "metadata": {
    "papermill": {
     "duration": 0.017009,
     "end_time": "2022-05-25T08:30:00.297771",
     "exception": false,
     "start_time": "2022-05-25T08:30:00.280762",
     "status": "completed"
    },
    "tags": []
   },
   "source": []
  },
  {
   "cell_type": "markdown",
   "id": "74796251",
   "metadata": {
    "papermill": {
     "duration": 0.016846,
     "end_time": "2022-05-25T08:30:00.332037",
     "exception": false,
     "start_time": "2022-05-25T08:30:00.315191",
     "status": "completed"
    },
    "tags": []
   },
   "source": [
    "My first ever notebook done by following a YouTube tutorial. \n",
    "Aims to:\n",
    "* Familiarize on Kaggle notebook environment\n",
    "* Learn basics of Pandas\n",
    "* Build foundation for Data Science\n",
    "* Learn Markdown \n"
   ]
  },
  {
   "cell_type": "markdown",
   "id": "b48781b2",
   "metadata": {
    "papermill": {
     "duration": 0.016883,
     "end_time": "2022-05-25T08:30:00.366117",
     "exception": false,
     "start_time": "2022-05-25T08:30:00.349234",
     "status": "completed"
    },
    "tags": []
   },
   "source": [
    "## Series"
   ]
  },
  {
   "cell_type": "markdown",
   "id": "ade1b643",
   "metadata": {
    "papermill": {
     "duration": 0.017257,
     "end_time": "2022-05-25T08:30:00.400593",
     "exception": false,
     "start_time": "2022-05-25T08:30:00.383336",
     "status": "completed"
    },
    "tags": []
   },
   "source": [
    "A series is basically a list of data with index, and type.\n",
    "Like an array."
   ]
  },
  {
   "cell_type": "code",
   "execution_count": 2,
   "id": "e2320402",
   "metadata": {
    "execution": {
     "iopub.execute_input": "2022-05-25T08:30:00.436736Z",
     "iopub.status.busy": "2022-05-25T08:30:00.436443Z",
     "iopub.status.idle": "2022-05-25T08:30:00.444082Z",
     "shell.execute_reply": "2022-05-25T08:30:00.443347Z"
    },
    "papermill": {
     "duration": 0.02779,
     "end_time": "2022-05-25T08:30:00.445886",
     "exception": false,
     "start_time": "2022-05-25T08:30:00.418096",
     "status": "completed"
    },
    "tags": []
   },
   "outputs": [],
   "source": [
    "my_data = ['Boat', 'Car', 'Truck', 'Plane']\n",
    "\n",
    "my_series1 = pd.Series(my_data)"
   ]
  },
  {
   "cell_type": "code",
   "execution_count": 3,
   "id": "289d2df9",
   "metadata": {
    "execution": {
     "iopub.execute_input": "2022-05-25T08:30:00.482164Z",
     "iopub.status.busy": "2022-05-25T08:30:00.481523Z",
     "iopub.status.idle": "2022-05-25T08:30:00.487355Z",
     "shell.execute_reply": "2022-05-25T08:30:00.486441Z"
    },
    "papermill": {
     "duration": 0.026168,
     "end_time": "2022-05-25T08:30:00.489212",
     "exception": false,
     "start_time": "2022-05-25T08:30:00.463044",
     "status": "completed"
    },
    "tags": []
   },
   "outputs": [
    {
     "name": "stdout",
     "output_type": "stream",
     "text": [
      "0     Boat\n",
      "1      Car\n",
      "2    Truck\n",
      "3    Plane\n",
      "dtype: object\n"
     ]
    }
   ],
   "source": [
    "print(my_series1)"
   ]
  },
  {
   "cell_type": "code",
   "execution_count": 4,
   "id": "f19848f9",
   "metadata": {
    "execution": {
     "iopub.execute_input": "2022-05-25T08:30:00.527573Z",
     "iopub.status.busy": "2022-05-25T08:30:00.526853Z",
     "iopub.status.idle": "2022-05-25T08:30:00.533623Z",
     "shell.execute_reply": "2022-05-25T08:30:00.533024Z"
    },
    "papermill": {
     "duration": 0.028706,
     "end_time": "2022-05-25T08:30:00.535939",
     "exception": false,
     "start_time": "2022-05-25T08:30:00.507233",
     "status": "completed"
    },
    "tags": []
   },
   "outputs": [
    {
     "name": "stdout",
     "output_type": "stream",
     "text": [
      "0     3\n",
      "1     7\n",
      "2    13\n",
      "3    27\n",
      "4    16\n",
      "dtype: int64\n"
     ]
    }
   ],
   "source": [
    "my_data = [3, 7, 13, 27, 16]\n",
    "my_series2 = pd.Series(my_data)\n",
    "print(my_series2)"
   ]
  },
  {
   "cell_type": "code",
   "execution_count": 5,
   "id": "ebb81439",
   "metadata": {
    "execution": {
     "iopub.execute_input": "2022-05-25T08:30:00.576901Z",
     "iopub.status.busy": "2022-05-25T08:30:00.576390Z",
     "iopub.status.idle": "2022-05-25T08:30:00.581103Z",
     "shell.execute_reply": "2022-05-25T08:30:00.579835Z"
    },
    "papermill": {
     "duration": 0.025926,
     "end_time": "2022-05-25T08:30:00.583060",
     "exception": false,
     "start_time": "2022-05-25T08:30:00.557134",
     "status": "completed"
    },
    "tags": []
   },
   "outputs": [
    {
     "name": "stdout",
     "output_type": "stream",
     "text": [
      "[3, 7, 13, 27, 16]\n"
     ]
    }
   ],
   "source": [
    "print(my_data)"
   ]
  },
  {
   "cell_type": "markdown",
   "id": "2b30d048",
   "metadata": {
    "papermill": {
     "duration": 0.01823,
     "end_time": "2022-05-25T08:30:00.619617",
     "exception": false,
     "start_time": "2022-05-25T08:30:00.601387",
     "status": "completed"
    },
    "tags": []
   },
   "source": [
    "## DataFrame"
   ]
  },
  {
   "cell_type": "markdown",
   "id": "6c8aa849",
   "metadata": {
    "papermill": {
     "duration": 0.017983,
     "end_time": "2022-05-25T08:30:00.656226",
     "exception": false,
     "start_time": "2022-05-25T08:30:00.638243",
     "status": "completed"
    },
    "tags": []
   },
   "source": [
    "DataFrame is a grouping of multiple series, all linked by the same index. \n",
    "Basically something like a spreadsheet."
   ]
  },
  {
   "cell_type": "code",
   "execution_count": 6,
   "id": "e217354d",
   "metadata": {
    "execution": {
     "iopub.execute_input": "2022-05-25T08:30:00.696045Z",
     "iopub.status.busy": "2022-05-25T08:30:00.695785Z",
     "iopub.status.idle": "2022-05-25T08:30:00.712259Z",
     "shell.execute_reply": "2022-05-25T08:30:00.711690Z"
    },
    "papermill": {
     "duration": 0.039453,
     "end_time": "2022-05-25T08:30:00.714008",
     "exception": false,
     "start_time": "2022-05-25T08:30:00.674555",
     "status": "completed"
    },
    "tags": []
   },
   "outputs": [
    {
     "data": {
      "text/html": [
       "<div>\n",
       "<style scoped>\n",
       "    .dataframe tbody tr th:only-of-type {\n",
       "        vertical-align: middle;\n",
       "    }\n",
       "\n",
       "    .dataframe tbody tr th {\n",
       "        vertical-align: top;\n",
       "    }\n",
       "\n",
       "    .dataframe thead th {\n",
       "        text-align: right;\n",
       "    }\n",
       "</style>\n",
       "<table border=\"1\" class=\"dataframe\">\n",
       "  <thead>\n",
       "    <tr style=\"text-align: right;\">\n",
       "      <th></th>\n",
       "      <th>0</th>\n",
       "      <th>1</th>\n",
       "    </tr>\n",
       "  </thead>\n",
       "  <tbody>\n",
       "    <tr>\n",
       "      <th>0</th>\n",
       "      <td>Boat</td>\n",
       "      <td>3</td>\n",
       "    </tr>\n",
       "    <tr>\n",
       "      <th>1</th>\n",
       "      <td>Car</td>\n",
       "      <td>7</td>\n",
       "    </tr>\n",
       "    <tr>\n",
       "      <th>2</th>\n",
       "      <td>Truck</td>\n",
       "      <td>16</td>\n",
       "    </tr>\n",
       "    <tr>\n",
       "      <th>3</th>\n",
       "      <td>Plane</td>\n",
       "      <td>27</td>\n",
       "    </tr>\n",
       "  </tbody>\n",
       "</table>\n",
       "</div>"
      ],
      "text/plain": [
       "       0   1\n",
       "0   Boat   3\n",
       "1    Car   7\n",
       "2  Truck  16\n",
       "3  Plane  27"
      ]
     },
     "execution_count": 6,
     "metadata": {},
     "output_type": "execute_result"
    }
   ],
   "source": [
    "mydfdata = [('Boat', 3), ('Car', 7),  ('Truck', 16), ('Plane', 27)]\n",
    "\n",
    "# dataframe with dummy column, 0, 1\n",
    "mydf0 = pd.DataFrame(mydfdata)\n",
    "\n",
    "mydf0"
   ]
  },
  {
   "cell_type": "code",
   "execution_count": 7,
   "id": "06c8c594",
   "metadata": {
    "execution": {
     "iopub.execute_input": "2022-05-25T08:30:00.755040Z",
     "iopub.status.busy": "2022-05-25T08:30:00.754331Z",
     "iopub.status.idle": "2022-05-25T08:30:00.765262Z",
     "shell.execute_reply": "2022-05-25T08:30:00.764643Z"
    },
    "papermill": {
     "duration": 0.033155,
     "end_time": "2022-05-25T08:30:00.767376",
     "exception": false,
     "start_time": "2022-05-25T08:30:00.734221",
     "status": "completed"
    },
    "tags": []
   },
   "outputs": [
    {
     "data": {
      "text/html": [
       "<div>\n",
       "<style scoped>\n",
       "    .dataframe tbody tr th:only-of-type {\n",
       "        vertical-align: middle;\n",
       "    }\n",
       "\n",
       "    .dataframe tbody tr th {\n",
       "        vertical-align: top;\n",
       "    }\n",
       "\n",
       "    .dataframe thead th {\n",
       "        text-align: right;\n",
       "    }\n",
       "</style>\n",
       "<table border=\"1\" class=\"dataframe\">\n",
       "  <thead>\n",
       "    <tr style=\"text-align: right;\">\n",
       "      <th></th>\n",
       "      <th>thing</th>\n",
       "      <th>count</th>\n",
       "    </tr>\n",
       "  </thead>\n",
       "  <tbody>\n",
       "    <tr>\n",
       "      <th>0</th>\n",
       "      <td>Boat</td>\n",
       "      <td>3</td>\n",
       "    </tr>\n",
       "    <tr>\n",
       "      <th>1</th>\n",
       "      <td>Car</td>\n",
       "      <td>7</td>\n",
       "    </tr>\n",
       "    <tr>\n",
       "      <th>2</th>\n",
       "      <td>Truck</td>\n",
       "      <td>16</td>\n",
       "    </tr>\n",
       "    <tr>\n",
       "      <th>3</th>\n",
       "      <td>Plane</td>\n",
       "      <td>27</td>\n",
       "    </tr>\n",
       "  </tbody>\n",
       "</table>\n",
       "</div>"
      ],
      "text/plain": [
       "   thing  count\n",
       "0   Boat      3\n",
       "1    Car      7\n",
       "2  Truck     16\n",
       "3  Plane     27"
      ]
     },
     "execution_count": 7,
     "metadata": {},
     "output_type": "execute_result"
    }
   ],
   "source": [
    "#dataframe with specified column\n",
    "mydf1 = pd.DataFrame(mydfdata, columns=['thing', 'count'])\n",
    "mydf1"
   ]
  },
  {
   "cell_type": "code",
   "execution_count": 8,
   "id": "4dcbfa78",
   "metadata": {
    "execution": {
     "iopub.execute_input": "2022-05-25T08:30:00.808050Z",
     "iopub.status.busy": "2022-05-25T08:30:00.807359Z",
     "iopub.status.idle": "2022-05-25T08:30:00.818316Z",
     "shell.execute_reply": "2022-05-25T08:30:00.817476Z"
    },
    "papermill": {
     "duration": 0.033682,
     "end_time": "2022-05-25T08:30:00.820429",
     "exception": false,
     "start_time": "2022-05-25T08:30:00.786747",
     "status": "completed"
    },
    "tags": []
   },
   "outputs": [
    {
     "data": {
      "text/plain": [
       "0     Boat\n",
       "1      Car\n",
       "2    Truck\n",
       "3    Plane\n",
       "Name: thing, dtype: object"
      ]
     },
     "execution_count": 8,
     "metadata": {},
     "output_type": "execute_result"
    }
   ],
   "source": [
    "mydf1['thing']"
   ]
  },
  {
   "cell_type": "code",
   "execution_count": 9,
   "id": "36c45fc1",
   "metadata": {
    "execution": {
     "iopub.execute_input": "2022-05-25T08:30:00.863116Z",
     "iopub.status.busy": "2022-05-25T08:30:00.862542Z",
     "iopub.status.idle": "2022-05-25T08:30:00.868981Z",
     "shell.execute_reply": "2022-05-25T08:30:00.868422Z"
    },
    "papermill": {
     "duration": 0.030077,
     "end_time": "2022-05-25T08:30:00.870671",
     "exception": false,
     "start_time": "2022-05-25T08:30:00.840594",
     "status": "completed"
    },
    "tags": []
   },
   "outputs": [
    {
     "data": {
      "text/plain": [
       "0     3\n",
       "1     7\n",
       "2    16\n",
       "3    27\n",
       "Name: count, dtype: int64"
      ]
     },
     "execution_count": 9,
     "metadata": {},
     "output_type": "execute_result"
    }
   ],
   "source": [
    "mydf1['count']"
   ]
  },
  {
   "cell_type": "code",
   "execution_count": 10,
   "id": "a24acaee",
   "metadata": {
    "execution": {
     "iopub.execute_input": "2022-05-25T08:30:00.913097Z",
     "iopub.status.busy": "2022-05-25T08:30:00.912335Z",
     "iopub.status.idle": "2022-05-25T08:30:00.917864Z",
     "shell.execute_reply": "2022-05-25T08:30:00.917082Z"
    },
    "papermill": {
     "duration": 0.028696,
     "end_time": "2022-05-25T08:30:00.919871",
     "exception": false,
     "start_time": "2022-05-25T08:30:00.891175",
     "status": "completed"
    },
    "tags": []
   },
   "outputs": [
    {
     "data": {
      "text/plain": [
       "pandas.core.frame.DataFrame"
      ]
     },
     "execution_count": 10,
     "metadata": {},
     "output_type": "execute_result"
    }
   ],
   "source": [
    "type(mydf1)"
   ]
  },
  {
   "cell_type": "code",
   "execution_count": 11,
   "id": "94233085",
   "metadata": {
    "execution": {
     "iopub.execute_input": "2022-05-25T08:30:00.962843Z",
     "iopub.status.busy": "2022-05-25T08:30:00.962218Z",
     "iopub.status.idle": "2022-05-25T08:30:00.969467Z",
     "shell.execute_reply": "2022-05-25T08:30:00.968636Z"
    },
    "papermill": {
     "duration": 0.030943,
     "end_time": "2022-05-25T08:30:00.971435",
     "exception": false,
     "start_time": "2022-05-25T08:30:00.940492",
     "status": "completed"
    },
    "tags": []
   },
   "outputs": [
    {
     "data": {
      "text/plain": [
       "thing    object\n",
       "count     int64\n",
       "dtype: object"
      ]
     },
     "execution_count": 11,
     "metadata": {},
     "output_type": "execute_result"
    }
   ],
   "source": [
    "#data type of series\n",
    "mydf1.dtypes"
   ]
  },
  {
   "cell_type": "markdown",
   "id": "9dbd8c0e",
   "metadata": {
    "papermill": {
     "duration": 0.022134,
     "end_time": "2022-05-25T08:30:01.014759",
     "exception": false,
     "start_time": "2022-05-25T08:30:00.992625",
     "status": "completed"
    },
    "tags": []
   },
   "source": [
    "# Reading in Data"
   ]
  },
  {
   "cell_type": "code",
   "execution_count": null,
   "id": "ea40dcc2",
   "metadata": {
    "papermill": {
     "duration": 0.02113,
     "end_time": "2022-05-25T08:30:01.058022",
     "exception": false,
     "start_time": "2022-05-25T08:30:01.036892",
     "status": "completed"
    },
    "tags": []
   },
   "outputs": [],
   "source": []
  }
 ],
 "metadata": {
  "kernelspec": {
   "display_name": "Python 3",
   "language": "python",
   "name": "python3"
  },
  "language_info": {
   "codemirror_mode": {
    "name": "ipython",
    "version": 3
   },
   "file_extension": ".py",
   "mimetype": "text/x-python",
   "name": "python",
   "nbconvert_exporter": "python",
   "pygments_lexer": "ipython3",
   "version": "3.7.12"
  },
  "papermill": {
   "default_parameters": {},
   "duration": 11.369524,
   "end_time": "2022-05-25T08:30:01.699311",
   "environment_variables": {},
   "exception": null,
   "input_path": "__notebook__.ipynb",
   "output_path": "__notebook__.ipynb",
   "parameters": {},
   "start_time": "2022-05-25T08:29:50.329787",
   "version": "2.3.4"
  }
 },
 "nbformat": 4,
 "nbformat_minor": 5
}
