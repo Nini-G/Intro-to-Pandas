{
 "cells": [
  {
   "cell_type": "code",
   "execution_count": 1,
   "id": "d4c35e9b",
   "metadata": {
    "_cell_guid": "b1076dfc-b9ad-4769-8c92-a6c4dae69d19",
    "_uuid": "8f2839f25d086af736a60e9eeb907d3b93b6e0e5",
    "execution": {
     "iopub.execute_input": "2022-05-27T10:49:05.045250Z",
     "iopub.status.busy": "2022-05-27T10:49:05.044458Z",
     "iopub.status.idle": "2022-05-27T10:49:05.201710Z",
     "shell.execute_reply": "2022-05-27T10:49:05.200011Z"
    },
    "papermill": {
     "duration": 0.18738,
     "end_time": "2022-05-27T10:49:05.204694",
     "exception": false,
     "start_time": "2022-05-27T10:49:05.017314",
     "status": "completed"
    },
    "tags": []
   },
   "outputs": [
    {
     "name": "stdout",
     "output_type": "stream",
     "text": [
      "/kaggle/input/mr-beast-youtube-video-statistics/MrBeast_youtube_stats.csv\n",
      "/kaggle/input/mr-beast-youtube-video-statistics/thumbnails/HBMmK1c44sE.jpg\n",
      "/kaggle/input/mr-beast-youtube-video-statistics/thumbnails/Ims5p6wjW9s.jpg\n",
      "/kaggle/input/mr-beast-youtube-video-statistics/thumbnails/vp5sSqyZ5Go.jpg\n",
      "/kaggle/input/mr-beast-youtube-video-statistics/thumbnails/Pe3pGsCeYXg.jpg\n",
      "/kaggle/input/mr-beast-youtube-video-statistics/thumbnails/3ix_gbcubTo.jpg\n",
      "/kaggle/input/mr-beast-youtube-video-statistics/thumbnails/nM89Wl03Q4g.jpg\n",
      "/kaggle/input/mr-beast-youtube-video-statistics/thumbnails/0e3GPea1Tyg.jpg\n",
      "/kaggle/input/mr-beast-youtube-video-statistics/thumbnails/wDqJZ_2ZA3A.jpg\n",
      "/kaggle/input/mr-beast-youtube-video-statistics/thumbnails/t8aM4HuVLrQ.jpg\n",
      "/kaggle/input/mr-beast-youtube-video-statistics/thumbnails/oI6aXhowFDY.jpg\n",
      "/kaggle/input/mr-beast-youtube-video-statistics/thumbnails/Lx9fRu5ehFo.jpg\n",
      "/kaggle/input/mr-beast-youtube-video-statistics/thumbnails/RCvnytndd9c.jpg\n",
      "/kaggle/input/mr-beast-youtube-video-statistics/thumbnails/TDiXxsQ0w2Q.jpg\n",
      "/kaggle/input/mr-beast-youtube-video-statistics/thumbnails/D9lVNzyhYnc.jpg\n",
      "/kaggle/input/mr-beast-youtube-video-statistics/thumbnails/A-vX1AGBGsc.jpg\n",
      "/kaggle/input/mr-beast-youtube-video-statistics/thumbnails/ha4tRQwKIUg.jpg\n",
      "/kaggle/input/mr-beast-youtube-video-statistics/thumbnails/yeqARWqjkps.jpg\n",
      "/kaggle/input/mr-beast-youtube-video-statistics/thumbnails/0hVZOJCYBBM.jpg\n",
      "/kaggle/input/mr-beast-youtube-video-statistics/thumbnails/3TflpIllQHY.jpg\n",
      "/kaggle/input/mr-beast-youtube-video-statistics/thumbnails/yUXIx2l8kko.jpg\n",
      "/kaggle/input/mr-beast-youtube-video-statistics/thumbnails/9-HphHIJS9c.jpg\n",
      "/kaggle/input/mr-beast-youtube-video-statistics/thumbnails/LeYsRMZFUq0.jpg\n",
      "/kaggle/input/mr-beast-youtube-video-statistics/thumbnails/ORUX1lHbOa8.jpg\n",
      "/kaggle/input/mr-beast-youtube-video-statistics/thumbnails/d1010B3sKNQ.jpg\n",
      "/kaggle/input/mr-beast-youtube-video-statistics/thumbnails/r7zJ8srwwjk.jpg\n",
      "/kaggle/input/mr-beast-youtube-video-statistics/thumbnails/YQDDm9HLkV4.jpg\n",
      "/kaggle/input/mr-beast-youtube-video-statistics/thumbnails/XE9pUM9MEFA.jpg\n",
      "/kaggle/input/mr-beast-youtube-video-statistics/thumbnails/9zFfp3gzZ88.jpg\n",
      "/kaggle/input/mr-beast-youtube-video-statistics/thumbnails/anZbhN0Wh_4.jpg\n",
      "/kaggle/input/mr-beast-youtube-video-statistics/thumbnails/moMJjt5KECc.jpg\n",
      "/kaggle/input/mr-beast-youtube-video-statistics/thumbnails/tYHTVjfShOA.jpg\n",
      "/kaggle/input/mr-beast-youtube-video-statistics/thumbnails/DoIQMkoYSzw.jpg\n",
      "/kaggle/input/mr-beast-youtube-video-statistics/thumbnails/cExLQ1o2pDw.jpg\n",
      "/kaggle/input/mr-beast-youtube-video-statistics/thumbnails/urtFrxDUV6c.jpg\n",
      "/kaggle/input/mr-beast-youtube-video-statistics/thumbnails/IoZri9hq7z4.jpg\n",
      "/kaggle/input/mr-beast-youtube-video-statistics/thumbnails/PJyWmlWNor8.jpg\n",
      "/kaggle/input/mr-beast-youtube-video-statistics/thumbnails/9yrdFAJUSaU.jpg\n",
      "/kaggle/input/mr-beast-youtube-video-statistics/thumbnails/gKVZz4kcuns.jpg\n",
      "/kaggle/input/mr-beast-youtube-video-statistics/thumbnails/qZNxvnQv0h4.jpg\n",
      "/kaggle/input/mr-beast-youtube-video-statistics/thumbnails/dBxOYE2j55U.jpg\n",
      "/kaggle/input/mr-beast-youtube-video-statistics/thumbnails/AKJfakEsgy0.jpg\n",
      "/kaggle/input/mr-beast-youtube-video-statistics/thumbnails/NkE0AMGzpJY.jpg\n",
      "/kaggle/input/mr-beast-youtube-video-statistics/thumbnails/zxYjTTXc-J8.jpg\n",
      "/kaggle/input/mr-beast-youtube-video-statistics/thumbnails/Y74b7WlcEpk.jpg\n",
      "/kaggle/input/mr-beast-youtube-video-statistics/thumbnails/i2O6GMpNWGo.jpg\n",
      "/kaggle/input/mr-beast-youtube-video-statistics/thumbnails/8D3vI1615K4.jpg\n",
      "/kaggle/input/mr-beast-youtube-video-statistics/thumbnails/6_im_hGxGRk.jpg\n",
      "/kaggle/input/mr-beast-youtube-video-statistics/thumbnails/59AYXzCa-Cs.jpg\n",
      "/kaggle/input/mr-beast-youtube-video-statistics/thumbnails/_uwNDiU04zE.jpg\n",
      "/kaggle/input/mr-beast-youtube-video-statistics/thumbnails/yeHjsYQ076A.jpg\n",
      "/kaggle/input/mr-beast-youtube-video-statistics/thumbnails/q0OK-zHnvnA.jpg\n",
      "/kaggle/input/mr-beast-youtube-video-statistics/thumbnails/WcwGleN38zE.jpg\n",
      "/kaggle/input/mr-beast-youtube-video-statistics/thumbnails/DuQbOQwVaNE.jpg\n",
      "/kaggle/input/mr-beast-youtube-video-statistics/thumbnails/5PCxQSMOl3o.jpg\n",
      "/kaggle/input/mr-beast-youtube-video-statistics/thumbnails/BMZP4CtphaU.jpg\n",
      "/kaggle/input/mr-beast-youtube-video-statistics/thumbnails/dFr5YQaQQdo.jpg\n",
      "/kaggle/input/mr-beast-youtube-video-statistics/thumbnails/TZPlDuYrcDQ.jpg\n",
      "/kaggle/input/mr-beast-youtube-video-statistics/thumbnails/TOcGSwJBPMQ.jpg\n",
      "/kaggle/input/mr-beast-youtube-video-statistics/thumbnails/rqUvnLPvbrM.jpg\n",
      "/kaggle/input/mr-beast-youtube-video-statistics/thumbnails/tQ4m4zD7BBA.jpg\n",
      "/kaggle/input/mr-beast-youtube-video-statistics/thumbnails/rPXmbM2UEbU.jpg\n",
      "/kaggle/input/mr-beast-youtube-video-statistics/thumbnails/IAbX0FwX-GY.jpg\n",
      "/kaggle/input/mr-beast-youtube-video-statistics/thumbnails/vETSAZgfDP4.jpg\n",
      "/kaggle/input/mr-beast-youtube-video-statistics/thumbnails/uUIlb2rpIuY.jpg\n",
      "/kaggle/input/mr-beast-youtube-video-statistics/thumbnails/GLoeAJUcz38.jpg\n",
      "/kaggle/input/mr-beast-youtube-video-statistics/thumbnails/fMfipiV_17o.jpg\n",
      "/kaggle/input/mr-beast-youtube-video-statistics/thumbnails/nuM0Z4a7kMs.jpg\n",
      "/kaggle/input/mr-beast-youtube-video-statistics/thumbnails/X7doE4h6W64.jpg\n",
      "/kaggle/input/mr-beast-youtube-video-statistics/thumbnails/w40Z8aT5fpQ.jpg\n",
      "/kaggle/input/mr-beast-youtube-video-statistics/thumbnails/OAbP-V6fEVc.jpg\n",
      "/kaggle/input/mr-beast-youtube-video-statistics/thumbnails/XKSJRulqDNA.jpg\n",
      "/kaggle/input/mr-beast-youtube-video-statistics/thumbnails/-0zoWMSEOGg.jpg\n",
      "/kaggle/input/mr-beast-youtube-video-statistics/thumbnails/52ubXjlVzUY.jpg\n",
      "/kaggle/input/mr-beast-youtube-video-statistics/thumbnails/_mdKvblL_8s.jpg\n",
      "/kaggle/input/mr-beast-youtube-video-statistics/thumbnails/hxwpkM5w3Cc.jpg\n",
      "/kaggle/input/mr-beast-youtube-video-statistics/thumbnails/ep7S1XnuQLU.jpg\n",
      "/kaggle/input/mr-beast-youtube-video-statistics/thumbnails/lfD7kMZKuNg.jpg\n",
      "/kaggle/input/mr-beast-youtube-video-statistics/thumbnails/Ih2WTyY62J4.jpg\n",
      "/kaggle/input/mr-beast-youtube-video-statistics/thumbnails/Izmibu7dxcs.jpg\n",
      "/kaggle/input/mr-beast-youtube-video-statistics/thumbnails/gL6iSCSHjco.jpg\n",
      "/kaggle/input/mr-beast-youtube-video-statistics/thumbnails/op0N7axawJA.jpg\n",
      "/kaggle/input/mr-beast-youtube-video-statistics/thumbnails/wMuYiLby3-s.jpg\n",
      "/kaggle/input/mr-beast-youtube-video-statistics/thumbnails/9cCpZl8euLI.jpg\n",
      "/kaggle/input/mr-beast-youtube-video-statistics/thumbnails/ZQZzR0DUujc.jpg\n",
      "/kaggle/input/mr-beast-youtube-video-statistics/thumbnails/9vB-48kHbBU.jpg\n",
      "/kaggle/input/mr-beast-youtube-video-statistics/thumbnails/9bqk6ZUsKyA.jpg\n",
      "/kaggle/input/mr-beast-youtube-video-statistics/thumbnails/RwnN2FVaHmw.jpg\n",
      "/kaggle/input/mr-beast-youtube-video-statistics/thumbnails/sfv1QaRzJg8.jpg\n",
      "/kaggle/input/mr-beast-youtube-video-statistics/thumbnails/00NgUctWoLQ.jpg\n",
      "/kaggle/input/mr-beast-youtube-video-statistics/thumbnails/p6bzNpgbX8Y.jpg\n",
      "/kaggle/input/mr-beast-youtube-video-statistics/thumbnails/Dc2ZRmuH5OM.jpg\n",
      "/kaggle/input/mr-beast-youtube-video-statistics/thumbnails/SZQhgExjBvQ.jpg\n",
      "/kaggle/input/mr-beast-youtube-video-statistics/thumbnails/XaxhLbxZ13k.jpg\n",
      "/kaggle/input/mr-beast-youtube-video-statistics/thumbnails/t4OumncEiKo.jpg\n",
      "/kaggle/input/mr-beast-youtube-video-statistics/thumbnails/NbaWrbJDr48.jpg\n",
      "/kaggle/input/mr-beast-youtube-video-statistics/thumbnails/NS3hse9ezik.jpg\n",
      "/kaggle/input/mr-beast-youtube-video-statistics/thumbnails/rH1D_3G56DY.jpg\n",
      "/kaggle/input/mr-beast-youtube-video-statistics/thumbnails/foLlul8Tl3E.jpg\n",
      "/kaggle/input/mr-beast-youtube-video-statistics/thumbnails/sirrTXiPFmw.jpg\n",
      "/kaggle/input/mr-beast-youtube-video-statistics/thumbnails/fG1N5kzeAhM.jpg\n",
      "/kaggle/input/mr-beast-youtube-video-statistics/thumbnails/koRKIlRQj4g.jpg\n",
      "/kaggle/input/mr-beast-youtube-video-statistics/thumbnails/xWcldHxHFpo.jpg\n",
      "/kaggle/input/mr-beast-youtube-video-statistics/thumbnails/fWcSBWadolA.jpg\n",
      "/kaggle/input/mr-beast-youtube-video-statistics/thumbnails/g2rbhIB-ITM.jpg\n",
      "/kaggle/input/mr-beast-youtube-video-statistics/thumbnails/0DaMUhgcAqo.jpg\n",
      "/kaggle/input/mr-beast-youtube-video-statistics/thumbnails/2eFSU7TFOnk.jpg\n",
      "/kaggle/input/mr-beast-youtube-video-statistics/thumbnails/qPBtTPJHS0Q.jpg\n",
      "/kaggle/input/mr-beast-youtube-video-statistics/thumbnails/b91vrgVY-ZQ.jpg\n",
      "/kaggle/input/mr-beast-youtube-video-statistics/thumbnails/vJH28ICkCdU.jpg\n",
      "/kaggle/input/mr-beast-youtube-video-statistics/thumbnails/f0c7pSCoZqE.jpg\n",
      "/kaggle/input/mr-beast-youtube-video-statistics/thumbnails/YyhKdOCwD7s.jpg\n",
      "/kaggle/input/mr-beast-youtube-video-statistics/thumbnails/ZJwX2jTXWwQ.jpg\n",
      "/kaggle/input/mr-beast-youtube-video-statistics/thumbnails/BqS4iVHa-LU.jpg\n",
      "/kaggle/input/mr-beast-youtube-video-statistics/thumbnails/H1WBdh56Vq4.jpg\n",
      "/kaggle/input/mr-beast-youtube-video-statistics/thumbnails/UE5AHE2Ypr8.jpg\n",
      "/kaggle/input/mr-beast-youtube-video-statistics/thumbnails/6wsFjjhZPJI.jpg\n",
      "/kaggle/input/mr-beast-youtube-video-statistics/thumbnails/3LLnjRLrvLU.jpg\n",
      "/kaggle/input/mr-beast-youtube-video-statistics/thumbnails/LU_xVr4b2qM.jpg\n",
      "/kaggle/input/mr-beast-youtube-video-statistics/thumbnails/X1jMMFOqxEw.jpg\n",
      "/kaggle/input/mr-beast-youtube-video-statistics/thumbnails/AS5CxLCWq-Q.jpg\n",
      "/kaggle/input/mr-beast-youtube-video-statistics/thumbnails/lBYC4_Lccjw.jpg\n",
      "/kaggle/input/mr-beast-youtube-video-statistics/thumbnails/RywkkwO78m8.jpg\n",
      "/kaggle/input/mr-beast-youtube-video-statistics/thumbnails/uotb9ZHnI2g.jpg\n",
      "/kaggle/input/mr-beast-youtube-video-statistics/thumbnails/AA-VpIj8F5Y.jpg\n",
      "/kaggle/input/mr-beast-youtube-video-statistics/thumbnails/PKtnafFtfEo.jpg\n",
      "/kaggle/input/mr-beast-youtube-video-statistics/thumbnails/uocETPj4Jx4.jpg\n",
      "/kaggle/input/mr-beast-youtube-video-statistics/thumbnails/5Fg9oZk-5uA.jpg\n",
      "/kaggle/input/mr-beast-youtube-video-statistics/thumbnails/e5DqdX-7_g4.jpg\n",
      "/kaggle/input/mr-beast-youtube-video-statistics/thumbnails/bIZ5_L1ru2w.jpg\n",
      "/kaggle/input/mr-beast-youtube-video-statistics/thumbnails/gsWPpE4Rid0.jpg\n",
      "/kaggle/input/mr-beast-youtube-video-statistics/thumbnails/Vl3swga-Xrk.jpg\n",
      "/kaggle/input/mr-beast-youtube-video-statistics/thumbnails/GxTVDClFXuc.jpg\n",
      "/kaggle/input/mr-beast-youtube-video-statistics/thumbnails/P4qWhSZ7_WA.jpg\n",
      "/kaggle/input/mr-beast-youtube-video-statistics/thumbnails/5Hg_QSIJm8I.jpg\n",
      "/kaggle/input/mr-beast-youtube-video-statistics/thumbnails/xRwy_rKc7gI.jpg\n",
      "/kaggle/input/mr-beast-youtube-video-statistics/thumbnails/C680oxL__ck.jpg\n",
      "/kaggle/input/mr-beast-youtube-video-statistics/thumbnails/GUWGsIVEMSQ.jpg\n",
      "/kaggle/input/mr-beast-youtube-video-statistics/thumbnails/vZrL_FFITgs.jpg\n",
      "/kaggle/input/mr-beast-youtube-video-statistics/thumbnails/mGIpOtncmSM.jpg\n",
      "/kaggle/input/mr-beast-youtube-video-statistics/thumbnails/erQ_9yEz0ls.jpg\n",
      "/kaggle/input/mr-beast-youtube-video-statistics/thumbnails/d7QmQtNwhcU.jpg\n",
      "/kaggle/input/mr-beast-youtube-video-statistics/thumbnails/sg_XFT4K3N4.jpg\n",
      "/kaggle/input/mr-beast-youtube-video-statistics/thumbnails/56OkH6ocYZU.jpg\n",
      "/kaggle/input/mr-beast-youtube-video-statistics/thumbnails/ktyJIj6i4Qw.jpg\n",
      "/kaggle/input/mr-beast-youtube-video-statistics/thumbnails/dPxAFqs2eYE.jpg\n",
      "/kaggle/input/mr-beast-youtube-video-statistics/thumbnails/bEIK5ni_Pzs.jpg\n",
      "/kaggle/input/mr-beast-youtube-video-statistics/thumbnails/bFZdU9dr4OM.jpg\n",
      "/kaggle/input/mr-beast-youtube-video-statistics/thumbnails/TQHEJj68Jew.jpg\n",
      "/kaggle/input/mr-beast-youtube-video-statistics/thumbnails/x9TQ6culXIA.jpg\n",
      "/kaggle/input/mr-beast-youtube-video-statistics/thumbnails/Su34c5Z8DW4.jpg\n",
      "/kaggle/input/mr-beast-youtube-video-statistics/thumbnails/anFxsa5jXrE.jpg\n",
      "/kaggle/input/mr-beast-youtube-video-statistics/thumbnails/Kgu2ApayYvI.jpg\n",
      "/kaggle/input/mr-beast-youtube-video-statistics/thumbnails/8TFq_vvO_Wg.jpg\n",
      "/kaggle/input/mr-beast-youtube-video-statistics/thumbnails/5V2B28OqfqM.jpg\n",
      "/kaggle/input/mr-beast-youtube-video-statistics/thumbnails/v3tbnlc5cfo.jpg\n",
      "/kaggle/input/mr-beast-youtube-video-statistics/thumbnails/iUzi5JmJNWc.jpg\n",
      "/kaggle/input/mr-beast-youtube-video-statistics/thumbnails/QapO3maXd9k.jpg\n",
      "/kaggle/input/mr-beast-youtube-video-statistics/thumbnails/NZR4WEjpOQg.jpg\n",
      "/kaggle/input/mr-beast-youtube-video-statistics/thumbnails/nd-bwvNB7YA.jpg\n",
      "/kaggle/input/mr-beast-youtube-video-statistics/thumbnails/QxGVgXf_LNk.jpg\n",
      "/kaggle/input/mr-beast-youtube-video-statistics/thumbnails/tBEBc4KQVsU.jpg\n",
      "/kaggle/input/mr-beast-youtube-video-statistics/thumbnails/NZlClr_ivb4.jpg\n",
      "/kaggle/input/mr-beast-youtube-video-statistics/thumbnails/cRPldarzw-M.jpg\n",
      "/kaggle/input/mr-beast-youtube-video-statistics/thumbnails/FbM1yi4mMMc.jpg\n",
      "/kaggle/input/mr-beast-youtube-video-statistics/thumbnails/9GD6hbqu2oM.jpg\n",
      "/kaggle/input/mr-beast-youtube-video-statistics/thumbnails/E6E22XQPhhg.jpg\n",
      "/kaggle/input/mr-beast-youtube-video-statistics/thumbnails/HPJKxAhLw5I.jpg\n",
      "/kaggle/input/mr-beast-youtube-video-statistics/thumbnails/cV2gBU6hKfY.jpg\n",
      "/kaggle/input/mr-beast-youtube-video-statistics/thumbnails/ZV7rU6lnAKQ.jpg\n",
      "/kaggle/input/mr-beast-youtube-video-statistics/thumbnails/UlUcwJc5nBs.jpg\n",
      "/kaggle/input/mr-beast-youtube-video-statistics/thumbnails/97Gh93Daio0.jpg\n",
      "/kaggle/input/mr-beast-youtube-video-statistics/thumbnails/qIsgdOVGA04.jpg\n",
      "/kaggle/input/mr-beast-youtube-video-statistics/thumbnails/NiqkH7qVW0U.jpg\n",
      "/kaggle/input/mr-beast-youtube-video-statistics/thumbnails/QbJJwaVdgIs.jpg\n",
      "/kaggle/input/mr-beast-youtube-video-statistics/thumbnails/KSKJKLmAqpI.jpg\n",
      "/kaggle/input/mr-beast-youtube-video-statistics/thumbnails/nywT2SenPIo.jpg\n",
      "/kaggle/input/mr-beast-youtube-video-statistics/thumbnails/KzwTYZ2W3ZA.jpg\n",
      "/kaggle/input/mr-beast-youtube-video-statistics/thumbnails/9CVwXBYVqVk.jpg\n",
      "/kaggle/input/mr-beast-youtube-video-statistics/thumbnails/xpNeg0hPZIs.jpg\n",
      "/kaggle/input/mr-beast-youtube-video-statistics/thumbnails/HfJMs4mrSJM.jpg\n",
      "/kaggle/input/mr-beast-youtube-video-statistics/thumbnails/nan.jpg\n",
      "/kaggle/input/mr-beast-youtube-video-statistics/thumbnails/dg2Ag3e8W-Q.jpg\n",
      "/kaggle/input/mr-beast-youtube-video-statistics/thumbnails/L8nh1wuXTbI.jpg\n",
      "/kaggle/input/mr-beast-youtube-video-statistics/thumbnails/UQtltNZ_pjs.jpg\n",
      "/kaggle/input/mr-beast-youtube-video-statistics/thumbnails/G7Y9ban7b0U.jpg\n",
      "/kaggle/input/mr-beast-youtube-video-statistics/thumbnails/Rj_vssRaZlQ.jpg\n",
      "/kaggle/input/mr-beast-youtube-video-statistics/thumbnails/uE6gud1voDs.jpg\n",
      "/kaggle/input/mr-beast-youtube-video-statistics/thumbnails/zi7tZ-2PhLk.jpg\n",
      "/kaggle/input/mr-beast-youtube-video-statistics/thumbnails/IYVjOfoU3uI.jpg\n",
      "/kaggle/input/mr-beast-youtube-video-statistics/thumbnails/9Ax56oRhcZc.jpg\n",
      "/kaggle/input/mr-beast-youtube-video-statistics/thumbnails/yyJ7xEcENNI.jpg\n",
      "/kaggle/input/mr-beast-youtube-video-statistics/thumbnails/UtnsWzaoRtg.jpg\n",
      "/kaggle/input/mr-beast-youtube-video-statistics/thumbnails/AS6WMS_Bemg.jpg\n",
      "/kaggle/input/mr-beast-youtube-video-statistics/thumbnails/mpZWt5pGKZ8.jpg\n",
      "/kaggle/input/mr-beast-youtube-video-statistics/thumbnails/2O8wta4FsD4.jpg\n",
      "/kaggle/input/mr-beast-youtube-video-statistics/thumbnails/pzlPJmNyepA.jpg\n",
      "/kaggle/input/mr-beast-youtube-video-statistics/thumbnails/AiGKBNGlzHo.jpg\n",
      "/kaggle/input/mr-beast-youtube-video-statistics/thumbnails/x4IXCimma-s.jpg\n",
      "/kaggle/input/mr-beast-youtube-video-statistics/thumbnails/uBC7805Smsg.jpg\n",
      "/kaggle/input/mr-beast-youtube-video-statistics/thumbnails/ayXxwJJId_c.jpg\n",
      "/kaggle/input/mr-beast-youtube-video-statistics/thumbnails/Ooke4YZv8Ts.jpg\n",
      "/kaggle/input/mr-beast-youtube-video-statistics/thumbnails/bs0SWXbty18.jpg\n",
      "/kaggle/input/mr-beast-youtube-video-statistics/thumbnails/F4Y3Pkn95GI.jpg\n",
      "/kaggle/input/mr-beast-youtube-video-statistics/thumbnails/HuLAAXZXIy0.jpg\n",
      "/kaggle/input/mr-beast-youtube-video-statistics/thumbnails/q6Qw8mUVTrE.jpg\n",
      "/kaggle/input/mr-beast-youtube-video-statistics/thumbnails/LdMx2U5tby0.jpg\n",
      "/kaggle/input/mr-beast-youtube-video-statistics/thumbnails/MC5h-ShR-S8.jpg\n",
      "/kaggle/input/mr-beast-youtube-video-statistics/thumbnails/2IGxSOfsBok.jpg\n",
      "/kaggle/input/mr-beast-youtube-video-statistics/thumbnails/AIytwdufwW8.jpg\n",
      "/kaggle/input/mr-beast-youtube-video-statistics/thumbnails/1UygJmcHUdQ.jpg\n",
      "/kaggle/input/mr-beast-youtube-video-statistics/thumbnails/gYaxI_allkQ.jpg\n",
      "/kaggle/input/mr-beast-youtube-video-statistics/thumbnails/XKFKPQHdWRI.jpg\n"
     ]
    }
   ],
   "source": [
    "# This Python 3 environment comes with many helpful analytics libraries installed\n",
    "# It is defined by the kaggle/python Docker image: https://github.com/kaggle/docker-python\n",
    "# For example, here's several helpful packages to load\n",
    "\n",
    "import numpy as np # linear algebra\n",
    "import pandas as pd # data processing, CSV file I/O (e.g. pd.read_csv)\n",
    "            \n",
    "# Input data files are available in the read-only \"../input/\" directory\n",
    "# For example, running this (by clicking run or pressing Shift+Enter) will list all files under the input directory\n",
    "\n",
    "import os\n",
    "for dirname, _, filenames in os.walk('/kaggle/input'):\n",
    "    for filename in filenames:\n",
    "        print(os.path.join(dirname, filename))\n",
    "\n",
    "# You can write up to 20GB to the current directory (/kaggle/working/) that gets preserved as output when you create a version using \"Save & Run All\" \n",
    "# You can also write temporary files to /kaggle/temp/, but they won't be saved outside of the current session"
   ]
  },
  {
   "cell_type": "markdown",
   "id": "07d22ffd",
   "metadata": {
    "papermill": {
     "duration": 0.024384,
     "end_time": "2022-05-27T10:49:05.254693",
     "exception": false,
     "start_time": "2022-05-27T10:49:05.230309",
     "status": "completed"
    },
    "tags": []
   },
   "source": [
    "# **Simple Intro to Pandas by Medallion Data Science on Youtube**\n"
   ]
  },
  {
   "cell_type": "markdown",
   "id": "cff101d7",
   "metadata": {
    "papermill": {
     "duration": 0.024236,
     "end_time": "2022-05-27T10:49:05.303720",
     "exception": false,
     "start_time": "2022-05-27T10:49:05.279484",
     "status": "completed"
    },
    "tags": []
   },
   "source": []
  },
  {
   "cell_type": "markdown",
   "id": "e27806c7",
   "metadata": {
    "papermill": {
     "duration": 0.024427,
     "end_time": "2022-05-27T10:49:05.352791",
     "exception": false,
     "start_time": "2022-05-27T10:49:05.328364",
     "status": "completed"
    },
    "tags": []
   },
   "source": [
    "My first ever notebook done by following a YouTube tutorial. \n",
    "Aims to:\n",
    "* Familiarize on Kaggle notebook environment\n",
    "* Learn basics of Pandas\n",
    "* Build foundation for Data Science\n",
    "* Learn Markdown \n"
   ]
  },
  {
   "cell_type": "markdown",
   "id": "20ac8df5",
   "metadata": {
    "papermill": {
     "duration": 0.024272,
     "end_time": "2022-05-27T10:49:05.401776",
     "exception": false,
     "start_time": "2022-05-27T10:49:05.377504",
     "status": "completed"
    },
    "tags": []
   },
   "source": [
    "## Series"
   ]
  },
  {
   "cell_type": "markdown",
   "id": "845c122d",
   "metadata": {
    "papermill": {
     "duration": 0.024249,
     "end_time": "2022-05-27T10:49:05.450690",
     "exception": false,
     "start_time": "2022-05-27T10:49:05.426441",
     "status": "completed"
    },
    "tags": []
   },
   "source": [
    "A series is basically a list of data with index, and type.\n",
    "Like an array."
   ]
  },
  {
   "cell_type": "code",
   "execution_count": 2,
   "id": "598dad07",
   "metadata": {
    "execution": {
     "iopub.execute_input": "2022-05-27T10:49:05.501476Z",
     "iopub.status.busy": "2022-05-27T10:49:05.501205Z",
     "iopub.status.idle": "2022-05-27T10:49:05.509103Z",
     "shell.execute_reply": "2022-05-27T10:49:05.508169Z"
    },
    "papermill": {
     "duration": 0.035779,
     "end_time": "2022-05-27T10:49:05.511216",
     "exception": false,
     "start_time": "2022-05-27T10:49:05.475437",
     "status": "completed"
    },
    "tags": []
   },
   "outputs": [],
   "source": [
    "my_data = ['Boat', 'Car', 'Truck', 'Plane']\n",
    "\n",
    "my_series1 = pd.Series(my_data)"
   ]
  },
  {
   "cell_type": "code",
   "execution_count": 3,
   "id": "75408296",
   "metadata": {
    "execution": {
     "iopub.execute_input": "2022-05-27T10:49:05.562003Z",
     "iopub.status.busy": "2022-05-27T10:49:05.561734Z",
     "iopub.status.idle": "2022-05-27T10:49:05.566722Z",
     "shell.execute_reply": "2022-05-27T10:49:05.566134Z"
    },
    "papermill": {
     "duration": 0.03315,
     "end_time": "2022-05-27T10:49:05.569130",
     "exception": false,
     "start_time": "2022-05-27T10:49:05.535980",
     "status": "completed"
    },
    "tags": []
   },
   "outputs": [
    {
     "name": "stdout",
     "output_type": "stream",
     "text": [
      "0     Boat\n",
      "1      Car\n",
      "2    Truck\n",
      "3    Plane\n",
      "dtype: object\n"
     ]
    }
   ],
   "source": [
    "print(my_series1)"
   ]
  },
  {
   "cell_type": "code",
   "execution_count": 4,
   "id": "f8043c47",
   "metadata": {
    "execution": {
     "iopub.execute_input": "2022-05-27T10:49:05.623512Z",
     "iopub.status.busy": "2022-05-27T10:49:05.623258Z",
     "iopub.status.idle": "2022-05-27T10:49:05.629088Z",
     "shell.execute_reply": "2022-05-27T10:49:05.628144Z"
    },
    "papermill": {
     "duration": 0.03526,
     "end_time": "2022-05-27T10:49:05.631409",
     "exception": false,
     "start_time": "2022-05-27T10:49:05.596149",
     "status": "completed"
    },
    "tags": []
   },
   "outputs": [
    {
     "name": "stdout",
     "output_type": "stream",
     "text": [
      "0     3\n",
      "1     7\n",
      "2    13\n",
      "3    27\n",
      "4    16\n",
      "dtype: int64\n"
     ]
    }
   ],
   "source": [
    "my_data = [3, 7, 13, 27, 16]\n",
    "my_series2 = pd.Series(my_data)\n",
    "print(my_series2)"
   ]
  },
  {
   "cell_type": "code",
   "execution_count": 5,
   "id": "da27a060",
   "metadata": {
    "execution": {
     "iopub.execute_input": "2022-05-27T10:49:05.684595Z",
     "iopub.status.busy": "2022-05-27T10:49:05.684314Z",
     "iopub.status.idle": "2022-05-27T10:49:05.688825Z",
     "shell.execute_reply": "2022-05-27T10:49:05.687930Z"
    },
    "papermill": {
     "duration": 0.0339,
     "end_time": "2022-05-27T10:49:05.691308",
     "exception": false,
     "start_time": "2022-05-27T10:49:05.657408",
     "status": "completed"
    },
    "tags": []
   },
   "outputs": [
    {
     "name": "stdout",
     "output_type": "stream",
     "text": [
      "[3, 7, 13, 27, 16]\n"
     ]
    }
   ],
   "source": [
    "print(my_data)"
   ]
  },
  {
   "cell_type": "markdown",
   "id": "c9818a76",
   "metadata": {
    "papermill": {
     "duration": 0.025339,
     "end_time": "2022-05-27T10:49:05.744747",
     "exception": false,
     "start_time": "2022-05-27T10:49:05.719408",
     "status": "completed"
    },
    "tags": []
   },
   "source": [
    "## DataFrame"
   ]
  },
  {
   "cell_type": "markdown",
   "id": "884acb7c",
   "metadata": {
    "papermill": {
     "duration": 0.025478,
     "end_time": "2022-05-27T10:49:05.796594",
     "exception": false,
     "start_time": "2022-05-27T10:49:05.771116",
     "status": "completed"
    },
    "tags": []
   },
   "source": [
    "DataFrame is a grouping of multiple series, all linked by the same index. \n",
    "Basically something like a spreadsheet."
   ]
  },
  {
   "cell_type": "code",
   "execution_count": 6,
   "id": "15b8ee76",
   "metadata": {
    "execution": {
     "iopub.execute_input": "2022-05-27T10:49:05.850717Z",
     "iopub.status.busy": "2022-05-27T10:49:05.850438Z",
     "iopub.status.idle": "2022-05-27T10:49:05.867736Z",
     "shell.execute_reply": "2022-05-27T10:49:05.866926Z"
    },
    "papermill": {
     "duration": 0.046787,
     "end_time": "2022-05-27T10:49:05.870045",
     "exception": false,
     "start_time": "2022-05-27T10:49:05.823258",
     "status": "completed"
    },
    "tags": []
   },
   "outputs": [
    {
     "data": {
      "text/html": [
       "<div>\n",
       "<style scoped>\n",
       "    .dataframe tbody tr th:only-of-type {\n",
       "        vertical-align: middle;\n",
       "    }\n",
       "\n",
       "    .dataframe tbody tr th {\n",
       "        vertical-align: top;\n",
       "    }\n",
       "\n",
       "    .dataframe thead th {\n",
       "        text-align: right;\n",
       "    }\n",
       "</style>\n",
       "<table border=\"1\" class=\"dataframe\">\n",
       "  <thead>\n",
       "    <tr style=\"text-align: right;\">\n",
       "      <th></th>\n",
       "      <th>0</th>\n",
       "      <th>1</th>\n",
       "    </tr>\n",
       "  </thead>\n",
       "  <tbody>\n",
       "    <tr>\n",
       "      <th>0</th>\n",
       "      <td>Boat</td>\n",
       "      <td>3</td>\n",
       "    </tr>\n",
       "    <tr>\n",
       "      <th>1</th>\n",
       "      <td>Car</td>\n",
       "      <td>7</td>\n",
       "    </tr>\n",
       "    <tr>\n",
       "      <th>2</th>\n",
       "      <td>Truck</td>\n",
       "      <td>16</td>\n",
       "    </tr>\n",
       "    <tr>\n",
       "      <th>3</th>\n",
       "      <td>Plane</td>\n",
       "      <td>27</td>\n",
       "    </tr>\n",
       "  </tbody>\n",
       "</table>\n",
       "</div>"
      ],
      "text/plain": [
       "       0   1\n",
       "0   Boat   3\n",
       "1    Car   7\n",
       "2  Truck  16\n",
       "3  Plane  27"
      ]
     },
     "execution_count": 6,
     "metadata": {},
     "output_type": "execute_result"
    }
   ],
   "source": [
    "mydfdata = [('Boat', 3), ('Car', 7),  ('Truck', 16), ('Plane', 27)]\n",
    "\n",
    "# dataframe with dummy column, 0, 1\n",
    "mydf0 = pd.DataFrame(mydfdata)\n",
    "\n",
    "mydf0"
   ]
  },
  {
   "cell_type": "code",
   "execution_count": 7,
   "id": "ae9e0b89",
   "metadata": {
    "execution": {
     "iopub.execute_input": "2022-05-27T10:49:05.924608Z",
     "iopub.status.busy": "2022-05-27T10:49:05.924338Z",
     "iopub.status.idle": "2022-05-27T10:49:05.935470Z",
     "shell.execute_reply": "2022-05-27T10:49:05.934688Z"
    },
    "papermill": {
     "duration": 0.04093,
     "end_time": "2022-05-27T10:49:05.937454",
     "exception": false,
     "start_time": "2022-05-27T10:49:05.896524",
     "status": "completed"
    },
    "tags": []
   },
   "outputs": [
    {
     "data": {
      "text/html": [
       "<div>\n",
       "<style scoped>\n",
       "    .dataframe tbody tr th:only-of-type {\n",
       "        vertical-align: middle;\n",
       "    }\n",
       "\n",
       "    .dataframe tbody tr th {\n",
       "        vertical-align: top;\n",
       "    }\n",
       "\n",
       "    .dataframe thead th {\n",
       "        text-align: right;\n",
       "    }\n",
       "</style>\n",
       "<table border=\"1\" class=\"dataframe\">\n",
       "  <thead>\n",
       "    <tr style=\"text-align: right;\">\n",
       "      <th></th>\n",
       "      <th>thing</th>\n",
       "      <th>count</th>\n",
       "    </tr>\n",
       "  </thead>\n",
       "  <tbody>\n",
       "    <tr>\n",
       "      <th>0</th>\n",
       "      <td>Boat</td>\n",
       "      <td>3</td>\n",
       "    </tr>\n",
       "    <tr>\n",
       "      <th>1</th>\n",
       "      <td>Car</td>\n",
       "      <td>7</td>\n",
       "    </tr>\n",
       "    <tr>\n",
       "      <th>2</th>\n",
       "      <td>Truck</td>\n",
       "      <td>16</td>\n",
       "    </tr>\n",
       "    <tr>\n",
       "      <th>3</th>\n",
       "      <td>Plane</td>\n",
       "      <td>27</td>\n",
       "    </tr>\n",
       "  </tbody>\n",
       "</table>\n",
       "</div>"
      ],
      "text/plain": [
       "   thing  count\n",
       "0   Boat      3\n",
       "1    Car      7\n",
       "2  Truck     16\n",
       "3  Plane     27"
      ]
     },
     "execution_count": 7,
     "metadata": {},
     "output_type": "execute_result"
    }
   ],
   "source": [
    "#dataframe with specified column\n",
    "mydf1 = pd.DataFrame(mydfdata, columns=['thing', 'count'])\n",
    "mydf1"
   ]
  },
  {
   "cell_type": "code",
   "execution_count": 8,
   "id": "3c1be80f",
   "metadata": {
    "execution": {
     "iopub.execute_input": "2022-05-27T10:49:05.993785Z",
     "iopub.status.busy": "2022-05-27T10:49:05.992889Z",
     "iopub.status.idle": "2022-05-27T10:49:06.002562Z",
     "shell.execute_reply": "2022-05-27T10:49:06.001798Z"
    },
    "papermill": {
     "duration": 0.041028,
     "end_time": "2022-05-27T10:49:06.005840",
     "exception": false,
     "start_time": "2022-05-27T10:49:05.964812",
     "status": "completed"
    },
    "tags": []
   },
   "outputs": [
    {
     "data": {
      "text/plain": [
       "0     Boat\n",
       "1      Car\n",
       "2    Truck\n",
       "3    Plane\n",
       "Name: thing, dtype: object"
      ]
     },
     "execution_count": 8,
     "metadata": {},
     "output_type": "execute_result"
    }
   ],
   "source": [
    "mydf1['thing']"
   ]
  },
  {
   "cell_type": "code",
   "execution_count": 9,
   "id": "c95d6efe",
   "metadata": {
    "execution": {
     "iopub.execute_input": "2022-05-27T10:49:06.062492Z",
     "iopub.status.busy": "2022-05-27T10:49:06.061944Z",
     "iopub.status.idle": "2022-05-27T10:49:06.068623Z",
     "shell.execute_reply": "2022-05-27T10:49:06.067675Z"
    },
    "papermill": {
     "duration": 0.037254,
     "end_time": "2022-05-27T10:49:06.070683",
     "exception": false,
     "start_time": "2022-05-27T10:49:06.033429",
     "status": "completed"
    },
    "tags": []
   },
   "outputs": [
    {
     "data": {
      "text/plain": [
       "0     3\n",
       "1     7\n",
       "2    16\n",
       "3    27\n",
       "Name: count, dtype: int64"
      ]
     },
     "execution_count": 9,
     "metadata": {},
     "output_type": "execute_result"
    }
   ],
   "source": [
    "mydf1['count']"
   ]
  },
  {
   "cell_type": "code",
   "execution_count": 10,
   "id": "e79332b3",
   "metadata": {
    "execution": {
     "iopub.execute_input": "2022-05-27T10:49:06.127704Z",
     "iopub.status.busy": "2022-05-27T10:49:06.127431Z",
     "iopub.status.idle": "2022-05-27T10:49:06.132677Z",
     "shell.execute_reply": "2022-05-27T10:49:06.132116Z"
    },
    "papermill": {
     "duration": 0.035897,
     "end_time": "2022-05-27T10:49:06.134373",
     "exception": false,
     "start_time": "2022-05-27T10:49:06.098476",
     "status": "completed"
    },
    "tags": []
   },
   "outputs": [
    {
     "data": {
      "text/plain": [
       "pandas.core.frame.DataFrame"
      ]
     },
     "execution_count": 10,
     "metadata": {},
     "output_type": "execute_result"
    }
   ],
   "source": [
    "type(mydf1)"
   ]
  },
  {
   "cell_type": "code",
   "execution_count": 11,
   "id": "5ed1dfc4",
   "metadata": {
    "execution": {
     "iopub.execute_input": "2022-05-27T10:49:06.192643Z",
     "iopub.status.busy": "2022-05-27T10:49:06.192234Z",
     "iopub.status.idle": "2022-05-27T10:49:06.197780Z",
     "shell.execute_reply": "2022-05-27T10:49:06.197265Z"
    },
    "papermill": {
     "duration": 0.036969,
     "end_time": "2022-05-27T10:49:06.199468",
     "exception": false,
     "start_time": "2022-05-27T10:49:06.162499",
     "status": "completed"
    },
    "tags": []
   },
   "outputs": [
    {
     "data": {
      "text/plain": [
       "thing    object\n",
       "count     int64\n",
       "dtype: object"
      ]
     },
     "execution_count": 11,
     "metadata": {},
     "output_type": "execute_result"
    }
   ],
   "source": [
    "#data type of series\n",
    "mydf1.dtypes"
   ]
  },
  {
   "cell_type": "markdown",
   "id": "aae66000",
   "metadata": {
    "papermill": {
     "duration": 0.028184,
     "end_time": "2022-05-27T10:49:06.256015",
     "exception": false,
     "start_time": "2022-05-27T10:49:06.227831",
     "status": "completed"
    },
    "tags": []
   },
   "source": [
    "# Reading in Data"
   ]
  },
  {
   "cell_type": "code",
   "execution_count": 12,
   "id": "9059f0f6",
   "metadata": {
    "execution": {
     "iopub.execute_input": "2022-05-27T10:49:06.314506Z",
     "iopub.status.busy": "2022-05-27T10:49:06.314114Z",
     "iopub.status.idle": "2022-05-27T10:49:06.333606Z",
     "shell.execute_reply": "2022-05-27T10:49:06.332847Z"
    },
    "papermill": {
     "duration": 0.05132,
     "end_time": "2022-05-27T10:49:06.335768",
     "exception": false,
     "start_time": "2022-05-27T10:49:06.284448",
     "status": "completed"
    },
    "tags": []
   },
   "outputs": [],
   "source": [
    "df = pd.read_csv('../input/mr-beast-youtube-video-statistics/MrBeast_youtube_stats.csv')"
   ]
  },
  {
   "cell_type": "markdown",
   "id": "4727a01a",
   "metadata": {
    "papermill": {
     "duration": 0.028024,
     "end_time": "2022-05-27T10:49:06.392280",
     "exception": false,
     "start_time": "2022-05-27T10:49:06.364256",
     "status": "completed"
    },
    "tags": []
   },
   "source": [
    "# Inspect The Data"
   ]
  },
  {
   "cell_type": "code",
   "execution_count": 13,
   "id": "55176082",
   "metadata": {
    "execution": {
     "iopub.execute_input": "2022-05-27T10:49:06.450643Z",
     "iopub.status.busy": "2022-05-27T10:49:06.449872Z",
     "iopub.status.idle": "2022-05-27T10:49:06.480074Z",
     "shell.execute_reply": "2022-05-27T10:49:06.479274Z"
    },
    "papermill": {
     "duration": 0.061647,
     "end_time": "2022-05-27T10:49:06.482172",
     "exception": false,
     "start_time": "2022-05-27T10:49:06.420525",
     "status": "completed"
    },
    "tags": []
   },
   "outputs": [
    {
     "data": {
      "text/html": [
       "<div>\n",
       "<style scoped>\n",
       "    .dataframe tbody tr th:only-of-type {\n",
       "        vertical-align: middle;\n",
       "    }\n",
       "\n",
       "    .dataframe tbody tr th {\n",
       "        vertical-align: top;\n",
       "    }\n",
       "\n",
       "    .dataframe thead th {\n",
       "        text-align: right;\n",
       "    }\n",
       "</style>\n",
       "<table border=\"1\" class=\"dataframe\">\n",
       "  <thead>\n",
       "    <tr style=\"text-align: right;\">\n",
       "      <th></th>\n",
       "      <th>id</th>\n",
       "      <th>title</th>\n",
       "      <th>description</th>\n",
       "      <th>publishTime</th>\n",
       "      <th>kind_stats</th>\n",
       "      <th>duration_seconds</th>\n",
       "      <th>viewCount</th>\n",
       "      <th>likeCount</th>\n",
       "      <th>commentCount</th>\n",
       "      <th>thumbnails.default.url</th>\n",
       "      <th>...</th>\n",
       "      <th>thumbnails.high.width</th>\n",
       "      <th>thumbnails.high.height</th>\n",
       "      <th>contentDetails.duration</th>\n",
       "      <th>contentDetails.dimension</th>\n",
       "      <th>topicDetails.topicCategories</th>\n",
       "      <th>snippet.defaultLanguage</th>\n",
       "      <th>localizations.en.title</th>\n",
       "      <th>localizations.en.description</th>\n",
       "      <th>snippet.tags</th>\n",
       "      <th>contentDetails.contentRating.ytRating</th>\n",
       "    </tr>\n",
       "  </thead>\n",
       "  <tbody>\n",
       "    <tr>\n",
       "      <th>0</th>\n",
       "      <td>TQHEJj68Jew</td>\n",
       "      <td>I Got Hunted By A Real Bounty Hunter</td>\n",
       "      <td>Sign up for Current w/ my Creator Code \"BEAST\"...</td>\n",
       "      <td>2021-04-24 20:00:00+00:00</td>\n",
       "      <td>youtube#video</td>\n",
       "      <td>861</td>\n",
       "      <td>84717282.0</td>\n",
       "      <td>2876493.0</td>\n",
       "      <td>128922.0</td>\n",
       "      <td>https://i.ytimg.com/vi/TQHEJj68Jew/default.jpg</td>\n",
       "      <td>...</td>\n",
       "      <td>480.0</td>\n",
       "      <td>360.0</td>\n",
       "      <td>PT14M21S</td>\n",
       "      <td>2d</td>\n",
       "      <td>['https://en.wikipedia.org/wiki/Lifestyle_(soc...</td>\n",
       "      <td>NaN</td>\n",
       "      <td>NaN</td>\n",
       "      <td>NaN</td>\n",
       "      <td>NaN</td>\n",
       "      <td>NaN</td>\n",
       "    </tr>\n",
       "    <tr>\n",
       "      <th>1</th>\n",
       "      <td>00NgUctWoLQ</td>\n",
       "      <td>Extreme $1,000,000 Hide And Seek</td>\n",
       "      <td>I didn't expect that to happen at the end I wa...</td>\n",
       "      <td>2021-12-18 21:00:00+00:00</td>\n",
       "      <td>youtube#video</td>\n",
       "      <td>729</td>\n",
       "      <td>32090178.0</td>\n",
       "      <td>2125183.0</td>\n",
       "      <td>73593.0</td>\n",
       "      <td>https://i.ytimg.com/vi/00NgUctWoLQ/default.jpg</td>\n",
       "      <td>...</td>\n",
       "      <td>480.0</td>\n",
       "      <td>360.0</td>\n",
       "      <td>PT12M9S</td>\n",
       "      <td>2d</td>\n",
       "      <td>['https://en.wikipedia.org/wiki/Lifestyle_(soc...</td>\n",
       "      <td>en</td>\n",
       "      <td>Extreme $1,000,000 Hide And Seek</td>\n",
       "      <td>I didn't expect that to happen at the end I wa...</td>\n",
       "      <td>NaN</td>\n",
       "      <td>NaN</td>\n",
       "    </tr>\n",
       "    <tr>\n",
       "      <th>2</th>\n",
       "      <td>NaN</td>\n",
       "      <td>MrBeast</td>\n",
       "      <td>Accomplishments - Raised $20000000 To Plant 20...</td>\n",
       "      <td>2012-02-20 00:43:50+00:00</td>\n",
       "      <td>NaN</td>\n",
       "      <td>0</td>\n",
       "      <td>NaN</td>\n",
       "      <td>NaN</td>\n",
       "      <td>NaN</td>\n",
       "      <td>https://yt3.ggpht.com/ytc/AKedOLTctGKJ32CdDLiS...</td>\n",
       "      <td>...</td>\n",
       "      <td>NaN</td>\n",
       "      <td>NaN</td>\n",
       "      <td>NaN</td>\n",
       "      <td>NaN</td>\n",
       "      <td>NaN</td>\n",
       "      <td>NaN</td>\n",
       "      <td>NaN</td>\n",
       "      <td>NaN</td>\n",
       "      <td>NaN</td>\n",
       "      <td>NaN</td>\n",
       "    </tr>\n",
       "    <tr>\n",
       "      <th>3</th>\n",
       "      <td>ayXxwJJId_c</td>\n",
       "      <td>I Bought The World&amp;#39;s Largest Mystery Box! ...</td>\n",
       "      <td>I cant believe I spent over $500000 on mystery...</td>\n",
       "      <td>2021-04-03 20:00:01+00:00</td>\n",
       "      <td>youtube#video</td>\n",
       "      <td>709</td>\n",
       "      <td>101745632.0</td>\n",
       "      <td>3110824.0</td>\n",
       "      <td>162796.0</td>\n",
       "      <td>https://i.ytimg.com/vi/ayXxwJJId_c/default.jpg</td>\n",
       "      <td>...</td>\n",
       "      <td>480.0</td>\n",
       "      <td>360.0</td>\n",
       "      <td>PT11M49S</td>\n",
       "      <td>2d</td>\n",
       "      <td>['https://en.wikipedia.org/wiki/Lifestyle_(soc...</td>\n",
       "      <td>NaN</td>\n",
       "      <td>NaN</td>\n",
       "      <td>NaN</td>\n",
       "      <td>NaN</td>\n",
       "      <td>NaN</td>\n",
       "    </tr>\n",
       "    <tr>\n",
       "      <th>4</th>\n",
       "      <td>cExLQ1o2pDw</td>\n",
       "      <td>First To Rob Bank Wins $100,000</td>\n",
       "      <td>I didnt think he would actually rob the bank.....</td>\n",
       "      <td>2021-09-26 20:00:06+00:00</td>\n",
       "      <td>youtube#video</td>\n",
       "      <td>482</td>\n",
       "      <td>50008942.0</td>\n",
       "      <td>2359606.0</td>\n",
       "      <td>120621.0</td>\n",
       "      <td>https://i.ytimg.com/vi/cExLQ1o2pDw/default.jpg</td>\n",
       "      <td>...</td>\n",
       "      <td>480.0</td>\n",
       "      <td>360.0</td>\n",
       "      <td>PT8M2S</td>\n",
       "      <td>2d</td>\n",
       "      <td>['https://en.wikipedia.org/wiki/Lifestyle_(soc...</td>\n",
       "      <td>NaN</td>\n",
       "      <td>NaN</td>\n",
       "      <td>NaN</td>\n",
       "      <td>NaN</td>\n",
       "      <td>NaN</td>\n",
       "    </tr>\n",
       "  </tbody>\n",
       "</table>\n",
       "<p>5 rows × 26 columns</p>\n",
       "</div>"
      ],
      "text/plain": [
       "            id                                              title  \\\n",
       "0  TQHEJj68Jew               I Got Hunted By A Real Bounty Hunter   \n",
       "1  00NgUctWoLQ                   Extreme $1,000,000 Hide And Seek   \n",
       "2          NaN                                            MrBeast   \n",
       "3  ayXxwJJId_c  I Bought The World&#39;s Largest Mystery Box! ...   \n",
       "4  cExLQ1o2pDw                    First To Rob Bank Wins $100,000   \n",
       "\n",
       "                                         description  \\\n",
       "0  Sign up for Current w/ my Creator Code \"BEAST\"...   \n",
       "1  I didn't expect that to happen at the end I wa...   \n",
       "2  Accomplishments - Raised $20000000 To Plant 20...   \n",
       "3  I cant believe I spent over $500000 on mystery...   \n",
       "4  I didnt think he would actually rob the bank.....   \n",
       "\n",
       "                 publishTime     kind_stats  duration_seconds    viewCount  \\\n",
       "0  2021-04-24 20:00:00+00:00  youtube#video               861   84717282.0   \n",
       "1  2021-12-18 21:00:00+00:00  youtube#video               729   32090178.0   \n",
       "2  2012-02-20 00:43:50+00:00            NaN                 0          NaN   \n",
       "3  2021-04-03 20:00:01+00:00  youtube#video               709  101745632.0   \n",
       "4  2021-09-26 20:00:06+00:00  youtube#video               482   50008942.0   \n",
       "\n",
       "   likeCount  commentCount                             thumbnails.default.url  \\\n",
       "0  2876493.0      128922.0     https://i.ytimg.com/vi/TQHEJj68Jew/default.jpg   \n",
       "1  2125183.0       73593.0     https://i.ytimg.com/vi/00NgUctWoLQ/default.jpg   \n",
       "2        NaN           NaN  https://yt3.ggpht.com/ytc/AKedOLTctGKJ32CdDLiS...   \n",
       "3  3110824.0      162796.0     https://i.ytimg.com/vi/ayXxwJJId_c/default.jpg   \n",
       "4  2359606.0      120621.0     https://i.ytimg.com/vi/cExLQ1o2pDw/default.jpg   \n",
       "\n",
       "   ...  thumbnails.high.width  thumbnails.high.height contentDetails.duration  \\\n",
       "0  ...                  480.0                   360.0                PT14M21S   \n",
       "1  ...                  480.0                   360.0                 PT12M9S   \n",
       "2  ...                    NaN                     NaN                     NaN   \n",
       "3  ...                  480.0                   360.0                PT11M49S   \n",
       "4  ...                  480.0                   360.0                  PT8M2S   \n",
       "\n",
       "   contentDetails.dimension  \\\n",
       "0                        2d   \n",
       "1                        2d   \n",
       "2                       NaN   \n",
       "3                        2d   \n",
       "4                        2d   \n",
       "\n",
       "                        topicDetails.topicCategories snippet.defaultLanguage  \\\n",
       "0  ['https://en.wikipedia.org/wiki/Lifestyle_(soc...                     NaN   \n",
       "1  ['https://en.wikipedia.org/wiki/Lifestyle_(soc...                      en   \n",
       "2                                                NaN                     NaN   \n",
       "3  ['https://en.wikipedia.org/wiki/Lifestyle_(soc...                     NaN   \n",
       "4  ['https://en.wikipedia.org/wiki/Lifestyle_(soc...                     NaN   \n",
       "\n",
       "             localizations.en.title  \\\n",
       "0                               NaN   \n",
       "1  Extreme $1,000,000 Hide And Seek   \n",
       "2                               NaN   \n",
       "3                               NaN   \n",
       "4                               NaN   \n",
       "\n",
       "                        localizations.en.description snippet.tags  \\\n",
       "0                                                NaN          NaN   \n",
       "1  I didn't expect that to happen at the end I wa...          NaN   \n",
       "2                                                NaN          NaN   \n",
       "3                                                NaN          NaN   \n",
       "4                                                NaN          NaN   \n",
       "\n",
       "  contentDetails.contentRating.ytRating  \n",
       "0                                   NaN  \n",
       "1                                   NaN  \n",
       "2                                   NaN  \n",
       "3                                   NaN  \n",
       "4                                   NaN  \n",
       "\n",
       "[5 rows x 26 columns]"
      ]
     },
     "execution_count": 13,
     "metadata": {},
     "output_type": "execute_result"
    }
   ],
   "source": [
    "# Head is first five rows.\n",
    "# Tail is last 5 rows\n",
    "df.head()"
   ]
  },
  {
   "cell_type": "code",
   "execution_count": 14,
   "id": "c93a9b08",
   "metadata": {
    "execution": {
     "iopub.execute_input": "2022-05-27T10:49:06.542091Z",
     "iopub.status.busy": "2022-05-27T10:49:06.541546Z",
     "iopub.status.idle": "2022-05-27T10:49:06.567080Z",
     "shell.execute_reply": "2022-05-27T10:49:06.566296Z"
    },
    "papermill": {
     "duration": 0.057824,
     "end_time": "2022-05-27T10:49:06.569161",
     "exception": false,
     "start_time": "2022-05-27T10:49:06.511337",
     "status": "completed"
    },
    "tags": []
   },
   "outputs": [
    {
     "data": {
      "text/html": [
       "<div>\n",
       "<style scoped>\n",
       "    .dataframe tbody tr th:only-of-type {\n",
       "        vertical-align: middle;\n",
       "    }\n",
       "\n",
       "    .dataframe tbody tr th {\n",
       "        vertical-align: top;\n",
       "    }\n",
       "\n",
       "    .dataframe thead th {\n",
       "        text-align: right;\n",
       "    }\n",
       "</style>\n",
       "<table border=\"1\" class=\"dataframe\">\n",
       "  <thead>\n",
       "    <tr style=\"text-align: right;\">\n",
       "      <th></th>\n",
       "      <th>id</th>\n",
       "      <th>title</th>\n",
       "      <th>description</th>\n",
       "      <th>publishTime</th>\n",
       "      <th>kind_stats</th>\n",
       "      <th>duration_seconds</th>\n",
       "      <th>viewCount</th>\n",
       "      <th>likeCount</th>\n",
       "      <th>commentCount</th>\n",
       "      <th>thumbnails.default.url</th>\n",
       "      <th>...</th>\n",
       "      <th>thumbnails.high.width</th>\n",
       "      <th>thumbnails.high.height</th>\n",
       "      <th>contentDetails.duration</th>\n",
       "      <th>contentDetails.dimension</th>\n",
       "      <th>topicDetails.topicCategories</th>\n",
       "      <th>snippet.defaultLanguage</th>\n",
       "      <th>localizations.en.title</th>\n",
       "      <th>localizations.en.description</th>\n",
       "      <th>snippet.tags</th>\n",
       "      <th>contentDetails.contentRating.ytRating</th>\n",
       "    </tr>\n",
       "  </thead>\n",
       "  <tbody>\n",
       "    <tr>\n",
       "      <th>242</th>\n",
       "      <td>yeHjsYQ076A</td>\n",
       "      <td>Remember When COD Was Fun?</td>\n",
       "      <td>Yup, another very pointless video ▻ Subscribe?...</td>\n",
       "      <td>2015-04-26 21:26:36+00:00</td>\n",
       "      <td>youtube#video</td>\n",
       "      <td>216</td>\n",
       "      <td>16312.0</td>\n",
       "      <td>574.0</td>\n",
       "      <td>145.0</td>\n",
       "      <td>https://i.ytimg.com/vi/yeHjsYQ076A/default.jpg</td>\n",
       "      <td>...</td>\n",
       "      <td>480.0</td>\n",
       "      <td>360.0</td>\n",
       "      <td>PT3M36S</td>\n",
       "      <td>2d</td>\n",
       "      <td>['https://en.wikipedia.org/wiki/Action-adventu...</td>\n",
       "      <td>NaN</td>\n",
       "      <td>NaN</td>\n",
       "      <td>NaN</td>\n",
       "      <td>['How', 'much', 'money', 'does', 'make', 'blac...</td>\n",
       "      <td>NaN</td>\n",
       "    </tr>\n",
       "    <tr>\n",
       "      <th>243</th>\n",
       "      <td>X7doE4h6W64</td>\n",
       "      <td>Insane Gun Sync - 7 Hours To Make</td>\n",
       "      <td>Look at this - http://gyazo.com/8852509d2350db...</td>\n",
       "      <td>2015-06-21 12:22:34+00:00</td>\n",
       "      <td>youtube#video</td>\n",
       "      <td>134</td>\n",
       "      <td>15740.0</td>\n",
       "      <td>637.0</td>\n",
       "      <td>105.0</td>\n",
       "      <td>https://i.ytimg.com/vi/X7doE4h6W64/default.jpg</td>\n",
       "      <td>...</td>\n",
       "      <td>480.0</td>\n",
       "      <td>360.0</td>\n",
       "      <td>PT2M14S</td>\n",
       "      <td>2d</td>\n",
       "      <td>['https://en.wikipedia.org/wiki/Action-adventu...</td>\n",
       "      <td>NaN</td>\n",
       "      <td>NaN</td>\n",
       "      <td>NaN</td>\n",
       "      <td>['How', 'much', 'money', 'does', 'make', 'blac...</td>\n",
       "      <td>NaN</td>\n",
       "    </tr>\n",
       "    <tr>\n",
       "      <th>244</th>\n",
       "      <td>AIytwdufwW8</td>\n",
       "      <td>MY MESSAGE TO COD YOUTUBERS (Watch till end plz)</td>\n",
       "      <td>The beginning of the video is a little off top...</td>\n",
       "      <td>2015-05-29 20:07:48+00:00</td>\n",
       "      <td>youtube#video</td>\n",
       "      <td>292</td>\n",
       "      <td>18502.0</td>\n",
       "      <td>508.0</td>\n",
       "      <td>117.0</td>\n",
       "      <td>https://i.ytimg.com/vi/AIytwdufwW8/default.jpg</td>\n",
       "      <td>...</td>\n",
       "      <td>480.0</td>\n",
       "      <td>360.0</td>\n",
       "      <td>PT4M52S</td>\n",
       "      <td>2d</td>\n",
       "      <td>['https://en.wikipedia.org/wiki/Action-adventu...</td>\n",
       "      <td>NaN</td>\n",
       "      <td>NaN</td>\n",
       "      <td>NaN</td>\n",
       "      <td>['How', 'much', 'money', 'does', 'make', 'blac...</td>\n",
       "      <td>NaN</td>\n",
       "    </tr>\n",
       "    <tr>\n",
       "      <th>245</th>\n",
       "      <td>56OkH6ocYZU</td>\n",
       "      <td>L0114R - Biblical Creeper Post for Post @L0114R</td>\n",
       "      <td>His channel - https://www.youtube.com/user/the...</td>\n",
       "      <td>2015-05-15 16:48:54+00:00</td>\n",
       "      <td>youtube#video</td>\n",
       "      <td>109</td>\n",
       "      <td>16627.0</td>\n",
       "      <td>430.0</td>\n",
       "      <td>134.0</td>\n",
       "      <td>https://i.ytimg.com/vi/56OkH6ocYZU/default.jpg</td>\n",
       "      <td>...</td>\n",
       "      <td>480.0</td>\n",
       "      <td>360.0</td>\n",
       "      <td>PT1M49S</td>\n",
       "      <td>2d</td>\n",
       "      <td>['https://en.wikipedia.org/wiki/Action-adventu...</td>\n",
       "      <td>NaN</td>\n",
       "      <td>NaN</td>\n",
       "      <td>NaN</td>\n",
       "      <td>['How', 'much', 'money', 'does', 'make', 'blac...</td>\n",
       "      <td>NaN</td>\n",
       "    </tr>\n",
       "    <tr>\n",
       "      <th>246</th>\n",
       "      <td>zi7tZ-2PhLk</td>\n",
       "      <td>How Much Money Do You Make As An Uber Driver??...</td>\n",
       "      <td>In this video I talk about being an uber drive...</td>\n",
       "      <td>2015-05-31 18:31:25+00:00</td>\n",
       "      <td>youtube#video</td>\n",
       "      <td>304</td>\n",
       "      <td>18773.0</td>\n",
       "      <td>370.0</td>\n",
       "      <td>59.0</td>\n",
       "      <td>https://i.ytimg.com/vi/zi7tZ-2PhLk/default.jpg</td>\n",
       "      <td>...</td>\n",
       "      <td>480.0</td>\n",
       "      <td>360.0</td>\n",
       "      <td>PT5M4S</td>\n",
       "      <td>2d</td>\n",
       "      <td>['https://en.wikipedia.org/wiki/Action-adventu...</td>\n",
       "      <td>NaN</td>\n",
       "      <td>NaN</td>\n",
       "      <td>NaN</td>\n",
       "      <td>['How', 'much', 'money', 'does', 'make', 'blac...</td>\n",
       "      <td>NaN</td>\n",
       "    </tr>\n",
       "  </tbody>\n",
       "</table>\n",
       "<p>5 rows × 26 columns</p>\n",
       "</div>"
      ],
      "text/plain": [
       "              id                                              title  \\\n",
       "242  yeHjsYQ076A                         Remember When COD Was Fun?   \n",
       "243  X7doE4h6W64                  Insane Gun Sync - 7 Hours To Make   \n",
       "244  AIytwdufwW8   MY MESSAGE TO COD YOUTUBERS (Watch till end plz)   \n",
       "245  56OkH6ocYZU    L0114R - Biblical Creeper Post for Post @L0114R   \n",
       "246  zi7tZ-2PhLk  How Much Money Do You Make As An Uber Driver??...   \n",
       "\n",
       "                                           description  \\\n",
       "242  Yup, another very pointless video ▻ Subscribe?...   \n",
       "243  Look at this - http://gyazo.com/8852509d2350db...   \n",
       "244  The beginning of the video is a little off top...   \n",
       "245  His channel - https://www.youtube.com/user/the...   \n",
       "246  In this video I talk about being an uber drive...   \n",
       "\n",
       "                   publishTime     kind_stats  duration_seconds  viewCount  \\\n",
       "242  2015-04-26 21:26:36+00:00  youtube#video               216    16312.0   \n",
       "243  2015-06-21 12:22:34+00:00  youtube#video               134    15740.0   \n",
       "244  2015-05-29 20:07:48+00:00  youtube#video               292    18502.0   \n",
       "245  2015-05-15 16:48:54+00:00  youtube#video               109    16627.0   \n",
       "246  2015-05-31 18:31:25+00:00  youtube#video               304    18773.0   \n",
       "\n",
       "     likeCount  commentCount                          thumbnails.default.url  \\\n",
       "242      574.0         145.0  https://i.ytimg.com/vi/yeHjsYQ076A/default.jpg   \n",
       "243      637.0         105.0  https://i.ytimg.com/vi/X7doE4h6W64/default.jpg   \n",
       "244      508.0         117.0  https://i.ytimg.com/vi/AIytwdufwW8/default.jpg   \n",
       "245      430.0         134.0  https://i.ytimg.com/vi/56OkH6ocYZU/default.jpg   \n",
       "246      370.0          59.0  https://i.ytimg.com/vi/zi7tZ-2PhLk/default.jpg   \n",
       "\n",
       "     ...  thumbnails.high.width  thumbnails.high.height  \\\n",
       "242  ...                  480.0                   360.0   \n",
       "243  ...                  480.0                   360.0   \n",
       "244  ...                  480.0                   360.0   \n",
       "245  ...                  480.0                   360.0   \n",
       "246  ...                  480.0                   360.0   \n",
       "\n",
       "    contentDetails.duration  contentDetails.dimension  \\\n",
       "242                 PT3M36S                        2d   \n",
       "243                 PT2M14S                        2d   \n",
       "244                 PT4M52S                        2d   \n",
       "245                 PT1M49S                        2d   \n",
       "246                  PT5M4S                        2d   \n",
       "\n",
       "                          topicDetails.topicCategories  \\\n",
       "242  ['https://en.wikipedia.org/wiki/Action-adventu...   \n",
       "243  ['https://en.wikipedia.org/wiki/Action-adventu...   \n",
       "244  ['https://en.wikipedia.org/wiki/Action-adventu...   \n",
       "245  ['https://en.wikipedia.org/wiki/Action-adventu...   \n",
       "246  ['https://en.wikipedia.org/wiki/Action-adventu...   \n",
       "\n",
       "    snippet.defaultLanguage  localizations.en.title  \\\n",
       "242                     NaN                     NaN   \n",
       "243                     NaN                     NaN   \n",
       "244                     NaN                     NaN   \n",
       "245                     NaN                     NaN   \n",
       "246                     NaN                     NaN   \n",
       "\n",
       "     localizations.en.description  \\\n",
       "242                           NaN   \n",
       "243                           NaN   \n",
       "244                           NaN   \n",
       "245                           NaN   \n",
       "246                           NaN   \n",
       "\n",
       "                                          snippet.tags  \\\n",
       "242  ['How', 'much', 'money', 'does', 'make', 'blac...   \n",
       "243  ['How', 'much', 'money', 'does', 'make', 'blac...   \n",
       "244  ['How', 'much', 'money', 'does', 'make', 'blac...   \n",
       "245  ['How', 'much', 'money', 'does', 'make', 'blac...   \n",
       "246  ['How', 'much', 'money', 'does', 'make', 'blac...   \n",
       "\n",
       "    contentDetails.contentRating.ytRating  \n",
       "242                                   NaN  \n",
       "243                                   NaN  \n",
       "244                                   NaN  \n",
       "245                                   NaN  \n",
       "246                                   NaN  \n",
       "\n",
       "[5 rows x 26 columns]"
      ]
     },
     "execution_count": 14,
     "metadata": {},
     "output_type": "execute_result"
    }
   ],
   "source": [
    "df.tail()"
   ]
  },
  {
   "cell_type": "markdown",
   "id": "8719d584",
   "metadata": {
    "papermill": {
     "duration": 0.030218,
     "end_time": "2022-05-27T10:49:06.629334",
     "exception": false,
     "start_time": "2022-05-27T10:49:06.599116",
     "status": "completed"
    },
    "tags": []
   },
   "source": [
    "#### Know what type of data each series(column) is"
   ]
  },
  {
   "cell_type": "code",
   "execution_count": 15,
   "id": "c65544ea",
   "metadata": {
    "execution": {
     "iopub.execute_input": "2022-05-27T10:49:06.691775Z",
     "iopub.status.busy": "2022-05-27T10:49:06.691308Z",
     "iopub.status.idle": "2022-05-27T10:49:06.698844Z",
     "shell.execute_reply": "2022-05-27T10:49:06.697973Z"
    },
    "papermill": {
     "duration": 0.041027,
     "end_time": "2022-05-27T10:49:06.700744",
     "exception": false,
     "start_time": "2022-05-27T10:49:06.659717",
     "status": "completed"
    },
    "tags": []
   },
   "outputs": [
    {
     "data": {
      "text/plain": [
       "id                                        object\n",
       "title                                     object\n",
       "description                               object\n",
       "publishTime                               object\n",
       "kind_stats                                object\n",
       "duration_seconds                           int64\n",
       "viewCount                                float64\n",
       "likeCount                                float64\n",
       "commentCount                             float64\n",
       "thumbnails.default.url                    object\n",
       "thumbnails.default.width                 float64\n",
       "thumbnails.default.height                float64\n",
       "thumbnails.medium.url                     object\n",
       "thumbnails.medium.width                  float64\n",
       "thumbnails.medium.height                 float64\n",
       "thumbnails.high.url                       object\n",
       "thumbnails.high.width                    float64\n",
       "thumbnails.high.height                   float64\n",
       "contentDetails.duration                   object\n",
       "contentDetails.dimension                  object\n",
       "topicDetails.topicCategories              object\n",
       "snippet.defaultLanguage                   object\n",
       "localizations.en.title                    object\n",
       "localizations.en.description              object\n",
       "snippet.tags                              object\n",
       "contentDetails.contentRating.ytRating     object\n",
       "dtype: object"
      ]
     },
     "execution_count": 15,
     "metadata": {},
     "output_type": "execute_result"
    }
   ],
   "source": [
    "df.dtypes"
   ]
  },
  {
   "cell_type": "markdown",
   "id": "a1e6a4de",
   "metadata": {
    "papermill": {
     "duration": 0.030138,
     "end_time": "2022-05-27T10:49:06.761534",
     "exception": false,
     "start_time": "2022-05-27T10:49:06.731396",
     "status": "completed"
    },
    "tags": []
   },
   "source": []
  },
  {
   "cell_type": "code",
   "execution_count": 16,
   "id": "8f130eb7",
   "metadata": {
    "execution": {
     "iopub.execute_input": "2022-05-27T10:49:06.825567Z",
     "iopub.status.busy": "2022-05-27T10:49:06.825034Z",
     "iopub.status.idle": "2022-05-27T10:49:06.873835Z",
     "shell.execute_reply": "2022-05-27T10:49:06.872840Z"
    },
    "papermill": {
     "duration": 0.083942,
     "end_time": "2022-05-27T10:49:06.876188",
     "exception": false,
     "start_time": "2022-05-27T10:49:06.792246",
     "status": "completed"
    },
    "tags": []
   },
   "outputs": [
    {
     "data": {
      "text/html": [
       "<div>\n",
       "<style scoped>\n",
       "    .dataframe tbody tr th:only-of-type {\n",
       "        vertical-align: middle;\n",
       "    }\n",
       "\n",
       "    .dataframe tbody tr th {\n",
       "        vertical-align: top;\n",
       "    }\n",
       "\n",
       "    .dataframe thead th {\n",
       "        text-align: right;\n",
       "    }\n",
       "</style>\n",
       "<table border=\"1\" class=\"dataframe\">\n",
       "  <thead>\n",
       "    <tr style=\"text-align: right;\">\n",
       "      <th></th>\n",
       "      <th>duration_seconds</th>\n",
       "      <th>viewCount</th>\n",
       "      <th>likeCount</th>\n",
       "      <th>commentCount</th>\n",
       "      <th>thumbnails.default.width</th>\n",
       "      <th>thumbnails.default.height</th>\n",
       "      <th>thumbnails.medium.width</th>\n",
       "      <th>thumbnails.medium.height</th>\n",
       "      <th>thumbnails.high.width</th>\n",
       "      <th>thumbnails.high.height</th>\n",
       "    </tr>\n",
       "  </thead>\n",
       "  <tbody>\n",
       "    <tr>\n",
       "      <th>count</th>\n",
       "      <td>247.000000</td>\n",
       "      <td>2.460000e+02</td>\n",
       "      <td>2.440000e+02</td>\n",
       "      <td>245.000000</td>\n",
       "      <td>246.0</td>\n",
       "      <td>246.0</td>\n",
       "      <td>246.0</td>\n",
       "      <td>246.0</td>\n",
       "      <td>246.0</td>\n",
       "      <td>246.0</td>\n",
       "    </tr>\n",
       "    <tr>\n",
       "      <th>mean</th>\n",
       "      <td>1886.234818</td>\n",
       "      <td>5.084638e+07</td>\n",
       "      <td>1.610498e+06</td>\n",
       "      <td>75562.783673</td>\n",
       "      <td>120.0</td>\n",
       "      <td>90.0</td>\n",
       "      <td>320.0</td>\n",
       "      <td>180.0</td>\n",
       "      <td>480.0</td>\n",
       "      <td>360.0</td>\n",
       "    </tr>\n",
       "    <tr>\n",
       "      <th>std</th>\n",
       "      <td>8642.188728</td>\n",
       "      <td>4.062672e+07</td>\n",
       "      <td>1.879529e+06</td>\n",
       "      <td>85356.537127</td>\n",
       "      <td>0.0</td>\n",
       "      <td>0.0</td>\n",
       "      <td>0.0</td>\n",
       "      <td>0.0</td>\n",
       "      <td>0.0</td>\n",
       "      <td>0.0</td>\n",
       "    </tr>\n",
       "    <tr>\n",
       "      <th>min</th>\n",
       "      <td>0.000000</td>\n",
       "      <td>1.395400e+04</td>\n",
       "      <td>3.700000e+02</td>\n",
       "      <td>59.000000</td>\n",
       "      <td>120.0</td>\n",
       "      <td>90.0</td>\n",
       "      <td>320.0</td>\n",
       "      <td>180.0</td>\n",
       "      <td>480.0</td>\n",
       "      <td>360.0</td>\n",
       "    </tr>\n",
       "    <tr>\n",
       "      <th>25%</th>\n",
       "      <td>425.500000</td>\n",
       "      <td>1.406442e+07</td>\n",
       "      <td>4.348780e+05</td>\n",
       "      <td>21552.000000</td>\n",
       "      <td>120.0</td>\n",
       "      <td>90.0</td>\n",
       "      <td>320.0</td>\n",
       "      <td>180.0</td>\n",
       "      <td>480.0</td>\n",
       "      <td>360.0</td>\n",
       "    </tr>\n",
       "    <tr>\n",
       "      <th>50%</th>\n",
       "      <td>776.000000</td>\n",
       "      <td>4.904782e+07</td>\n",
       "      <td>1.358232e+06</td>\n",
       "      <td>60701.000000</td>\n",
       "      <td>120.0</td>\n",
       "      <td>90.0</td>\n",
       "      <td>320.0</td>\n",
       "      <td>180.0</td>\n",
       "      <td>480.0</td>\n",
       "      <td>360.0</td>\n",
       "    </tr>\n",
       "    <tr>\n",
       "      <th>75%</th>\n",
       "      <td>923.000000</td>\n",
       "      <td>8.125392e+07</td>\n",
       "      <td>2.294378e+06</td>\n",
       "      <td>99670.000000</td>\n",
       "      <td>120.0</td>\n",
       "      <td>90.0</td>\n",
       "      <td>320.0</td>\n",
       "      <td>180.0</td>\n",
       "      <td>480.0</td>\n",
       "      <td>360.0</td>\n",
       "    </tr>\n",
       "    <tr>\n",
       "      <th>max</th>\n",
       "      <td>85686.000000</td>\n",
       "      <td>1.787632e+08</td>\n",
       "      <td>1.904943e+07</td>\n",
       "      <td>726861.000000</td>\n",
       "      <td>120.0</td>\n",
       "      <td>90.0</td>\n",
       "      <td>320.0</td>\n",
       "      <td>180.0</td>\n",
       "      <td>480.0</td>\n",
       "      <td>360.0</td>\n",
       "    </tr>\n",
       "  </tbody>\n",
       "</table>\n",
       "</div>"
      ],
      "text/plain": [
       "       duration_seconds     viewCount     likeCount   commentCount  \\\n",
       "count        247.000000  2.460000e+02  2.440000e+02     245.000000   \n",
       "mean        1886.234818  5.084638e+07  1.610498e+06   75562.783673   \n",
       "std         8642.188728  4.062672e+07  1.879529e+06   85356.537127   \n",
       "min            0.000000  1.395400e+04  3.700000e+02      59.000000   \n",
       "25%          425.500000  1.406442e+07  4.348780e+05   21552.000000   \n",
       "50%          776.000000  4.904782e+07  1.358232e+06   60701.000000   \n",
       "75%          923.000000  8.125392e+07  2.294378e+06   99670.000000   \n",
       "max        85686.000000  1.787632e+08  1.904943e+07  726861.000000   \n",
       "\n",
       "       thumbnails.default.width  thumbnails.default.height  \\\n",
       "count                     246.0                      246.0   \n",
       "mean                      120.0                       90.0   \n",
       "std                         0.0                        0.0   \n",
       "min                       120.0                       90.0   \n",
       "25%                       120.0                       90.0   \n",
       "50%                       120.0                       90.0   \n",
       "75%                       120.0                       90.0   \n",
       "max                       120.0                       90.0   \n",
       "\n",
       "       thumbnails.medium.width  thumbnails.medium.height  \\\n",
       "count                    246.0                     246.0   \n",
       "mean                     320.0                     180.0   \n",
       "std                        0.0                       0.0   \n",
       "min                      320.0                     180.0   \n",
       "25%                      320.0                     180.0   \n",
       "50%                      320.0                     180.0   \n",
       "75%                      320.0                     180.0   \n",
       "max                      320.0                     180.0   \n",
       "\n",
       "       thumbnails.high.width  thumbnails.high.height  \n",
       "count                  246.0                   246.0  \n",
       "mean                   480.0                   360.0  \n",
       "std                      0.0                     0.0  \n",
       "min                    480.0                   360.0  \n",
       "25%                    480.0                   360.0  \n",
       "50%                    480.0                   360.0  \n",
       "75%                    480.0                   360.0  \n",
       "max                    480.0                   360.0  "
      ]
     },
     "execution_count": 16,
     "metadata": {},
     "output_type": "execute_result"
    }
   ],
   "source": [
    "df.describe()"
   ]
  },
  {
   "cell_type": "code",
   "execution_count": null,
   "id": "0d4d9916",
   "metadata": {
    "papermill": {
     "duration": 0.031167,
     "end_time": "2022-05-27T10:49:06.939643",
     "exception": false,
     "start_time": "2022-05-27T10:49:06.908476",
     "status": "completed"
    },
    "tags": []
   },
   "outputs": [],
   "source": []
  }
 ],
 "metadata": {
  "kernelspec": {
   "display_name": "Python 3",
   "language": "python",
   "name": "python3"
  },
  "language_info": {
   "codemirror_mode": {
    "name": "ipython",
    "version": 3
   },
   "file_extension": ".py",
   "mimetype": "text/x-python",
   "name": "python",
   "nbconvert_exporter": "python",
   "pygments_lexer": "ipython3",
   "version": "3.7.12"
  },
  "papermill": {
   "default_parameters": {},
   "duration": 12.623402,
   "end_time": "2022-05-27T10:49:07.591982",
   "environment_variables": {},
   "exception": null,
   "input_path": "__notebook__.ipynb",
   "output_path": "__notebook__.ipynb",
   "parameters": {},
   "start_time": "2022-05-27T10:48:54.968580",
   "version": "2.3.4"
  }
 },
 "nbformat": 4,
 "nbformat_minor": 5
}
