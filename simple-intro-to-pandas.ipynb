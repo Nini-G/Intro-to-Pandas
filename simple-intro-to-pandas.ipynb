{
 "cells": [
  {
   "cell_type": "code",
   "execution_count": 1,
   "id": "0e868c70",
   "metadata": {
    "_cell_guid": "b1076dfc-b9ad-4769-8c92-a6c4dae69d19",
    "_uuid": "8f2839f25d086af736a60e9eeb907d3b93b6e0e5",
    "execution": {
     "iopub.execute_input": "2022-05-25T08:14:30.895587Z",
     "iopub.status.busy": "2022-05-25T08:14:30.895246Z",
     "iopub.status.idle": "2022-05-25T08:14:30.906479Z",
     "shell.execute_reply": "2022-05-25T08:14:30.905605Z"
    },
    "papermill": {
     "duration": 0.028159,
     "end_time": "2022-05-25T08:14:30.909043",
     "exception": false,
     "start_time": "2022-05-25T08:14:30.880884",
     "status": "completed"
    },
    "tags": []
   },
   "outputs": [],
   "source": [
    "# This Python 3 environment comes with many helpful analytics libraries installed\n",
    "# It is defined by the kaggle/python Docker image: https://github.com/kaggle/docker-python\n",
    "# For example, here's several helpful packages to load\n",
    "\n",
    "import numpy as np # linear algebra\n",
    "import pandas as pd # data processing, CSV file I/O (e.g. pd.read_csv)\n",
    "\n",
    "# Input data files are available in the read-only \"../input/\" directory\n",
    "# For example, running this (by clicking run or pressing Shift+Enter) will list all files under the input directory\n",
    "\n",
    "import os\n",
    "for dirname, _, filenames in os.walk('/kaggle/input'):\n",
    "    for filename in filenames:\n",
    "        print(os.path.join(dirname, filename))\n",
    "\n",
    "# You can write up to 20GB to the current directory (/kaggle/working/) that gets preserved as output when you create a version using \"Save & Run All\" \n",
    "# You can also write temporary files to /kaggle/temp/, but they won't be saved outside of the current session"
   ]
  },
  {
   "cell_type": "markdown",
   "id": "e2693a18",
   "metadata": {
    "papermill": {
     "duration": 0.010359,
     "end_time": "2022-05-25T08:14:30.930430",
     "exception": false,
     "start_time": "2022-05-25T08:14:30.920071",
     "status": "completed"
    },
    "tags": []
   },
   "source": [
    "# **Simple Intro to Pandas by Medallion Data Science on Youtube**\n"
   ]
  },
  {
   "cell_type": "markdown",
   "id": "f7523c56",
   "metadata": {
    "papermill": {
     "duration": 0.010292,
     "end_time": "2022-05-25T08:14:30.951812",
     "exception": false,
     "start_time": "2022-05-25T08:14:30.941520",
     "status": "completed"
    },
    "tags": []
   },
   "source": []
  },
  {
   "cell_type": "markdown",
   "id": "eae803dd",
   "metadata": {
    "papermill": {
     "duration": 0.010242,
     "end_time": "2022-05-25T08:14:30.972679",
     "exception": false,
     "start_time": "2022-05-25T08:14:30.962437",
     "status": "completed"
    },
    "tags": []
   },
   "source": [
    "My first ever notebook done by following a YouTube tutorial. \n",
    "Aims to:\n",
    "* Familiarize on Kaggle notebook environment\n",
    "* Learn basics of Pandas\n",
    "* Build foundation for Data Science\n",
    "* Learn Markdown \n"
   ]
  },
  {
   "cell_type": "markdown",
   "id": "cae53dd1",
   "metadata": {
    "papermill": {
     "duration": 0.010266,
     "end_time": "2022-05-25T08:14:30.993757",
     "exception": false,
     "start_time": "2022-05-25T08:14:30.983491",
     "status": "completed"
    },
    "tags": []
   },
   "source": [
    "## Series"
   ]
  },
  {
   "cell_type": "markdown",
   "id": "73332119",
   "metadata": {
    "papermill": {
     "duration": 0.010222,
     "end_time": "2022-05-25T08:14:31.014607",
     "exception": false,
     "start_time": "2022-05-25T08:14:31.004385",
     "status": "completed"
    },
    "tags": []
   },
   "source": [
    "A series is basically a list of data with index, and type."
   ]
  },
  {
   "cell_type": "code",
   "execution_count": 2,
   "id": "d13e955a",
   "metadata": {
    "execution": {
     "iopub.execute_input": "2022-05-25T08:14:31.037833Z",
     "iopub.status.busy": "2022-05-25T08:14:31.037519Z",
     "iopub.status.idle": "2022-05-25T08:14:31.045541Z",
     "shell.execute_reply": "2022-05-25T08:14:31.044537Z"
    },
    "papermill": {
     "duration": 0.022531,
     "end_time": "2022-05-25T08:14:31.047803",
     "exception": false,
     "start_time": "2022-05-25T08:14:31.025272",
     "status": "completed"
    },
    "tags": []
   },
   "outputs": [],
   "source": [
    "my_data = ['Boat', 'Car', 'Truck', 'Plane']\n",
    "\n",
    "my_series1 = pd.Series(my_data)"
   ]
  },
  {
   "cell_type": "code",
   "execution_count": 3,
   "id": "c9302bd7",
   "metadata": {
    "execution": {
     "iopub.execute_input": "2022-05-25T08:14:31.071595Z",
     "iopub.status.busy": "2022-05-25T08:14:31.070673Z",
     "iopub.status.idle": "2022-05-25T08:14:31.076188Z",
     "shell.execute_reply": "2022-05-25T08:14:31.075606Z"
    },
    "papermill": {
     "duration": 0.020772,
     "end_time": "2022-05-25T08:14:31.079528",
     "exception": false,
     "start_time": "2022-05-25T08:14:31.058756",
     "status": "completed"
    },
    "tags": []
   },
   "outputs": [
    {
     "name": "stdout",
     "output_type": "stream",
     "text": [
      "0     Boat\n",
      "1      Car\n",
      "2    Truck\n",
      "3    Plane\n",
      "dtype: object\n"
     ]
    }
   ],
   "source": [
    "print(my_series1)"
   ]
  },
  {
   "cell_type": "code",
   "execution_count": 4,
   "id": "48d9e474",
   "metadata": {
    "execution": {
     "iopub.execute_input": "2022-05-25T08:14:31.105954Z",
     "iopub.status.busy": "2022-05-25T08:14:31.105377Z",
     "iopub.status.idle": "2022-05-25T08:14:31.111672Z",
     "shell.execute_reply": "2022-05-25T08:14:31.110530Z"
    },
    "papermill": {
     "duration": 0.021161,
     "end_time": "2022-05-25T08:14:31.113969",
     "exception": false,
     "start_time": "2022-05-25T08:14:31.092808",
     "status": "completed"
    },
    "tags": []
   },
   "outputs": [
    {
     "name": "stdout",
     "output_type": "stream",
     "text": [
      "0     3\n",
      "1     7\n",
      "2    13\n",
      "3    27\n",
      "4    16\n",
      "dtype: int64\n"
     ]
    }
   ],
   "source": [
    "my_data = [3, 7, 13, 27, 16]\n",
    "my_series2 = pd.Series(my_data)\n",
    "print(my_series2)"
   ]
  },
  {
   "cell_type": "code",
   "execution_count": 5,
   "id": "c19041b9",
   "metadata": {
    "execution": {
     "iopub.execute_input": "2022-05-25T08:14:31.138837Z",
     "iopub.status.busy": "2022-05-25T08:14:31.138542Z",
     "iopub.status.idle": "2022-05-25T08:14:31.143389Z",
     "shell.execute_reply": "2022-05-25T08:14:31.142390Z"
    },
    "papermill": {
     "duration": 0.020461,
     "end_time": "2022-05-25T08:14:31.146142",
     "exception": false,
     "start_time": "2022-05-25T08:14:31.125681",
     "status": "completed"
    },
    "tags": []
   },
   "outputs": [
    {
     "name": "stdout",
     "output_type": "stream",
     "text": [
      "[3, 7, 13, 27, 16]\n"
     ]
    }
   ],
   "source": [
    "print(my_data)"
   ]
  },
  {
   "cell_type": "markdown",
   "id": "eaf077a2",
   "metadata": {
    "papermill": {
     "duration": 0.011724,
     "end_time": "2022-05-25T08:14:31.169962",
     "exception": false,
     "start_time": "2022-05-25T08:14:31.158238",
     "status": "completed"
    },
    "tags": []
   },
   "source": [
    "## DataFrame"
   ]
  },
  {
   "cell_type": "code",
   "execution_count": null,
   "id": "60031f51",
   "metadata": {
    "papermill": {
     "duration": 0.011784,
     "end_time": "2022-05-25T08:14:31.193804",
     "exception": false,
     "start_time": "2022-05-25T08:14:31.182020",
     "status": "completed"
    },
    "tags": []
   },
   "outputs": [],
   "source": []
  }
 ],
 "metadata": {
  "kernelspec": {
   "display_name": "Python 3",
   "language": "python",
   "name": "python3"
  },
  "language_info": {
   "codemirror_mode": {
    "name": "ipython",
    "version": 3
   },
   "file_extension": ".py",
   "mimetype": "text/x-python",
   "name": "python",
   "nbconvert_exporter": "python",
   "pygments_lexer": "ipython3",
   "version": "3.7.12"
  },
  "papermill": {
   "default_parameters": {},
   "duration": 11.020156,
   "end_time": "2022-05-25T08:14:31.826600",
   "environment_variables": {},
   "exception": null,
   "input_path": "__notebook__.ipynb",
   "output_path": "__notebook__.ipynb",
   "parameters": {},
   "start_time": "2022-05-25T08:14:20.806444",
   "version": "2.3.4"
  }
 },
 "nbformat": 4,
 "nbformat_minor": 5
}
