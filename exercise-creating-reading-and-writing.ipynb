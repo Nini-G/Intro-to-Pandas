{
 "cells": [
  {
   "cell_type": "markdown",
   "id": "a9d99f9c",
   "metadata": {
    "papermill": {
     "duration": 0.011366,
     "end_time": "2022-06-09T04:19:16.006281",
     "exception": false,
     "start_time": "2022-06-09T04:19:15.994915",
     "status": "completed"
    },
    "tags": []
   },
   "source": [
    "**This notebook is an exercise in the [Pandas](https://www.kaggle.com/learn/pandas) course.  You can reference the tutorial at [this link](https://www.kaggle.com/residentmario/creating-reading-and-writing).**\n",
    "\n",
    "---\n"
   ]
  },
  {
   "cell_type": "markdown",
   "id": "758b0e90",
   "metadata": {
    "papermill": {
     "duration": 0.00608,
     "end_time": "2022-06-09T04:19:16.018987",
     "exception": false,
     "start_time": "2022-06-09T04:19:16.012907",
     "status": "completed"
    },
    "tags": []
   },
   "source": [
    "# Introduction\n",
    "\n",
    "The first step in most data analytics projects is reading the data file. In this exercise, you'll create Series and DataFrame objects, both by hand and by reading data files.\n",
    "\n",
    "Run the code cell below to load libraries you will need (including code to check your answers)."
   ]
  },
  {
   "cell_type": "code",
   "execution_count": 1,
   "id": "dffa1ec1",
   "metadata": {
    "execution": {
     "iopub.execute_input": "2022-06-09T04:19:16.033790Z",
     "iopub.status.busy": "2022-06-09T04:19:16.033192Z",
     "iopub.status.idle": "2022-06-09T04:19:17.729889Z",
     "shell.execute_reply": "2022-06-09T04:19:17.728978Z"
    },
    "papermill": {
     "duration": 1.706431,
     "end_time": "2022-06-09T04:19:17.731935",
     "exception": false,
     "start_time": "2022-06-09T04:19:16.025504",
     "status": "completed"
    },
    "tags": []
   },
   "outputs": [
    {
     "name": "stdout",
     "output_type": "stream",
     "text": [
      "Setup complete.\n"
     ]
    }
   ],
   "source": [
    "import pandas as pd\n",
    "pd.set_option('max_rows', 5)\n",
    "from learntools.core import binder; binder.bind(globals())\n",
    "from learntools.pandas.creating_reading_and_writing import *\n",
    "print(\"Setup complete.\")"
   ]
  },
  {
   "cell_type": "markdown",
   "id": "fa747800",
   "metadata": {
    "papermill": {
     "duration": 0.003919,
     "end_time": "2022-06-09T04:19:17.740202",
     "exception": false,
     "start_time": "2022-06-09T04:19:17.736283",
     "status": "completed"
    },
    "tags": []
   },
   "source": [
    "# Exercises"
   ]
  },
  {
   "cell_type": "markdown",
   "id": "f4444be5",
   "metadata": {
    "papermill": {
     "duration": 0.003757,
     "end_time": "2022-06-09T04:19:17.747938",
     "exception": false,
     "start_time": "2022-06-09T04:19:17.744181",
     "status": "completed"
    },
    "tags": []
   },
   "source": [
    "## 1.\n",
    "\n",
    "In the cell below, create a DataFrame `fruits` that looks like this:\n",
    "\n",
    "![](https://i.imgur.com/Ax3pp2A.png)"
   ]
  },
  {
   "cell_type": "code",
   "execution_count": 2,
   "id": "c36242c8",
   "metadata": {
    "execution": {
     "iopub.execute_input": "2022-06-09T04:19:17.757987Z",
     "iopub.status.busy": "2022-06-09T04:19:17.757366Z",
     "iopub.status.idle": "2022-06-09T04:19:17.781715Z",
     "shell.execute_reply": "2022-06-09T04:19:17.780837Z"
    },
    "papermill": {
     "duration": 0.031579,
     "end_time": "2022-06-09T04:19:17.783486",
     "exception": false,
     "start_time": "2022-06-09T04:19:17.751907",
     "status": "completed"
    },
    "tags": []
   },
   "outputs": [
    {
     "data": {
      "application/javascript": [
       "parent.postMessage({\"jupyterEvent\": \"custom.exercise_interaction\", \"data\": {\"outcomeType\": 1, \"valueTowardsCompletion\": 0.16666666666666666, \"interactionType\": 1, \"questionType\": 1, \"questionId\": \"1_FruitDfCreation\", \"learnToolsVersion\": \"0.3.4\", \"failureMessage\": \"\", \"exceptionClass\": \"\", \"trace\": \"\"}}, \"*\")"
      ],
      "text/plain": [
       "<IPython.core.display.Javascript object>"
      ]
     },
     "metadata": {},
     "output_type": "display_data"
    },
    {
     "data": {
      "text/markdown": [
       "<span style=\"color:#33cc33\">Correct</span>"
      ],
      "text/plain": [
       "Correct"
      ]
     },
     "metadata": {},
     "output_type": "display_data"
    },
    {
     "data": {
      "text/html": [
       "<div>\n",
       "<style scoped>\n",
       "    .dataframe tbody tr th:only-of-type {\n",
       "        vertical-align: middle;\n",
       "    }\n",
       "\n",
       "    .dataframe tbody tr th {\n",
       "        vertical-align: top;\n",
       "    }\n",
       "\n",
       "    .dataframe thead th {\n",
       "        text-align: right;\n",
       "    }\n",
       "</style>\n",
       "<table border=\"1\" class=\"dataframe\">\n",
       "  <thead>\n",
       "    <tr style=\"text-align: right;\">\n",
       "      <th></th>\n",
       "      <th>Apples</th>\n",
       "      <th>Bananas</th>\n",
       "    </tr>\n",
       "  </thead>\n",
       "  <tbody>\n",
       "    <tr>\n",
       "      <th>0</th>\n",
       "      <td>30</td>\n",
       "      <td>21</td>\n",
       "    </tr>\n",
       "  </tbody>\n",
       "</table>\n",
       "</div>"
      ],
      "text/plain": [
       "   Apples  Bananas\n",
       "0      30       21"
      ]
     },
     "execution_count": 2,
     "metadata": {},
     "output_type": "execute_result"
    }
   ],
   "source": [
    "# Your code goes here. Create a dataframe matching the above diagram and assign it to the variable fruits.\n",
    "fruits = pd.DataFrame([[30, 21]], columns=['Apples', 'Bananas'],)\n",
    "\n",
    "\n",
    "# Check your answer\n",
    "q1.check()\n",
    "fruits"
   ]
  },
  {
   "cell_type": "code",
   "execution_count": 3,
   "id": "74792f48",
   "metadata": {
    "execution": {
     "iopub.execute_input": "2022-06-09T04:19:17.795046Z",
     "iopub.status.busy": "2022-06-09T04:19:17.794309Z",
     "iopub.status.idle": "2022-06-09T04:19:17.805706Z",
     "shell.execute_reply": "2022-06-09T04:19:17.805054Z"
    },
    "papermill": {
     "duration": 0.019079,
     "end_time": "2022-06-09T04:19:17.807312",
     "exception": false,
     "start_time": "2022-06-09T04:19:17.788233",
     "status": "completed"
    },
    "tags": []
   },
   "outputs": [
    {
     "data": {
      "application/javascript": [
       "parent.postMessage({\"jupyterEvent\": \"custom.exercise_interaction\", \"data\": {\"interactionType\": 2, \"questionType\": 1, \"questionId\": \"1_FruitDfCreation\", \"learnToolsVersion\": \"0.3.4\", \"valueTowardsCompletion\": 0.0, \"failureMessage\": \"\", \"exceptionClass\": \"\", \"trace\": \"\", \"outcomeType\": 4}}, \"*\")"
      ],
      "text/plain": [
       "<IPython.core.display.Javascript object>"
      ]
     },
     "metadata": {},
     "output_type": "display_data"
    },
    {
     "data": {
      "text/markdown": [
       "<span style=\"color:#3366cc\">Hint:</span> Use the `pd.DataFrame` constructor to create the DataFrame."
      ],
      "text/plain": [
       "Hint: Use the `pd.DataFrame` constructor to create the DataFrame."
      ]
     },
     "metadata": {},
     "output_type": "display_data"
    },
    {
     "data": {
      "application/javascript": [
       "parent.postMessage({\"jupyterEvent\": \"custom.exercise_interaction\", \"data\": {\"interactionType\": 3, \"questionType\": 1, \"questionId\": \"1_FruitDfCreation\", \"learnToolsVersion\": \"0.3.4\", \"valueTowardsCompletion\": 0.0, \"failureMessage\": \"\", \"exceptionClass\": \"\", \"trace\": \"\", \"outcomeType\": 4}}, \"*\")"
      ],
      "text/plain": [
       "<IPython.core.display.Javascript object>"
      ]
     },
     "metadata": {},
     "output_type": "display_data"
    },
    {
     "data": {
      "text/markdown": [
       "<span style=\"color:#33cc99\">Solution:</span> \n",
       "```python\n",
       "fruits = pd.DataFrame([[30, 21]], columns=['Apples', 'Bananas'])\n",
       "```"
      ],
      "text/plain": [
       "Solution: \n",
       "```python\n",
       "fruits = pd.DataFrame([[30, 21]], columns=['Apples', 'Bananas'])\n",
       "```"
      ]
     },
     "metadata": {},
     "output_type": "display_data"
    }
   ],
   "source": [
    "q1.hint()\n",
    "q1.solution()"
   ]
  },
  {
   "cell_type": "markdown",
   "id": "a31eb014",
   "metadata": {
    "papermill": {
     "duration": 0.004775,
     "end_time": "2022-06-09T04:19:17.817236",
     "exception": false,
     "start_time": "2022-06-09T04:19:17.812461",
     "status": "completed"
    },
    "tags": []
   },
   "source": [
    "## 2.\n",
    "\n",
    "Create a dataframe `fruit_sales` that matches the diagram below:\n",
    "\n",
    "![](https://i.imgur.com/CHPn7ZF.png)"
   ]
  },
  {
   "cell_type": "code",
   "execution_count": 4,
   "id": "0a10c57f",
   "metadata": {
    "execution": {
     "iopub.execute_input": "2022-06-09T04:19:17.828644Z",
     "iopub.status.busy": "2022-06-09T04:19:17.828319Z",
     "iopub.status.idle": "2022-06-09T04:19:17.836164Z",
     "shell.execute_reply": "2022-06-09T04:19:17.835475Z"
    },
    "papermill": {
     "duration": 0.016016,
     "end_time": "2022-06-09T04:19:17.838165",
     "exception": false,
     "start_time": "2022-06-09T04:19:17.822149",
     "status": "completed"
    },
    "tags": []
   },
   "outputs": [
    {
     "data": {
      "application/javascript": [
       "parent.postMessage({\"jupyterEvent\": \"custom.exercise_interaction\", \"data\": {\"outcomeType\": 4, \"interactionType\": 1, \"questionType\": 1, \"questionId\": \"2_FruitSalesDfCreation\", \"learnToolsVersion\": \"0.3.4\", \"valueTowardsCompletion\": 0.0, \"failureMessage\": \"\", \"exceptionClass\": \"\", \"trace\": \"\"}}, \"*\")"
      ],
      "text/plain": [
       "<IPython.core.display.Javascript object>"
      ]
     },
     "metadata": {},
     "output_type": "display_data"
    },
    {
     "data": {
      "text/markdown": [
       "<span style=\"color:#ccaa33\">Check:</span> When you've updated the starter code, `check()` will tell you whether your code is correct. You need to update the code that creates variable `fruit_sales`"
      ],
      "text/plain": [
       "Check: When you've updated the starter code, `check()` will tell you whether your code is correct. You need to update the code that creates variable `fruit_sales`"
      ]
     },
     "metadata": {},
     "output_type": "display_data"
    },
    {
     "data": {
      "text/markdown": [],
      "text/plain": [
       "<learntools.core.constants.PlaceholderValue at 0x7ff0ac580850>"
      ]
     },
     "execution_count": 4,
     "metadata": {},
     "output_type": "execute_result"
    }
   ],
   "source": [
    "# Your code goes here. Create a dataframe matching the above diagram and assign it to the variable fruit_sales.\n",
    "fruit_sales = ____\n",
    "\n",
    "# Check your answer\n",
    "q2.check()\n",
    "fruit_sales"
   ]
  },
  {
   "cell_type": "code",
   "execution_count": 5,
   "id": "fd54e303",
   "metadata": {
    "execution": {
     "iopub.execute_input": "2022-06-09T04:19:17.856723Z",
     "iopub.status.busy": "2022-06-09T04:19:17.856182Z",
     "iopub.status.idle": "2022-06-09T04:19:17.859280Z",
     "shell.execute_reply": "2022-06-09T04:19:17.858770Z"
    },
    "papermill": {
     "duration": 0.014372,
     "end_time": "2022-06-09T04:19:17.861086",
     "exception": false,
     "start_time": "2022-06-09T04:19:17.846714",
     "status": "completed"
    },
    "tags": []
   },
   "outputs": [],
   "source": [
    "#q2.hint()\n",
    "#q2.solution()"
   ]
  },
  {
   "cell_type": "markdown",
   "id": "5779de1a",
   "metadata": {
    "papermill": {
     "duration": 0.008256,
     "end_time": "2022-06-09T04:19:17.878089",
     "exception": false,
     "start_time": "2022-06-09T04:19:17.869833",
     "status": "completed"
    },
    "tags": []
   },
   "source": [
    "## 3.\n",
    "\n",
    "Create a variable `ingredients` with a Series that looks like:\n",
    "\n",
    "```\n",
    "Flour     4 cups\n",
    "Milk       1 cup\n",
    "Eggs     2 large\n",
    "Spam       1 can\n",
    "Name: Dinner, dtype: object\n",
    "```"
   ]
  },
  {
   "cell_type": "code",
   "execution_count": 6,
   "id": "5035a5e7",
   "metadata": {
    "execution": {
     "iopub.execute_input": "2022-06-09T04:19:17.897073Z",
     "iopub.status.busy": "2022-06-09T04:19:17.896509Z",
     "iopub.status.idle": "2022-06-09T04:19:17.904305Z",
     "shell.execute_reply": "2022-06-09T04:19:17.903598Z"
    },
    "papermill": {
     "duration": 0.019952,
     "end_time": "2022-06-09T04:19:17.906626",
     "exception": false,
     "start_time": "2022-06-09T04:19:17.886674",
     "status": "completed"
    },
    "tags": []
   },
   "outputs": [
    {
     "data": {
      "application/javascript": [
       "parent.postMessage({\"jupyterEvent\": \"custom.exercise_interaction\", \"data\": {\"outcomeType\": 4, \"interactionType\": 1, \"questionType\": 2, \"questionId\": \"3_RecipeSeriesCreation\", \"learnToolsVersion\": \"0.3.4\", \"valueTowardsCompletion\": 0.0, \"failureMessage\": \"\", \"exceptionClass\": \"\", \"trace\": \"\"}}, \"*\")"
      ],
      "text/plain": [
       "<IPython.core.display.Javascript object>"
      ]
     },
     "metadata": {},
     "output_type": "display_data"
    },
    {
     "data": {
      "text/markdown": [
       "<span style=\"color:#ccaa33\">Check:</span> When you've updated the starter code, `check()` will tell you whether your code is correct. You need to update the code that creates variable `ingredients`"
      ],
      "text/plain": [
       "Check: When you've updated the starter code, `check()` will tell you whether your code is correct. You need to update the code that creates variable `ingredients`"
      ]
     },
     "metadata": {},
     "output_type": "display_data"
    },
    {
     "data": {
      "text/markdown": [],
      "text/plain": [
       "<learntools.core.constants.PlaceholderValue at 0x7ff0ac580850>"
      ]
     },
     "execution_count": 6,
     "metadata": {},
     "output_type": "execute_result"
    }
   ],
   "source": [
    "ingredients = ____\n",
    "\n",
    "# Check your answer\n",
    "q3.check()\n",
    "ingredients"
   ]
  },
  {
   "cell_type": "code",
   "execution_count": 7,
   "id": "281c45b4",
   "metadata": {
    "execution": {
     "iopub.execute_input": "2022-06-09T04:19:17.926574Z",
     "iopub.status.busy": "2022-06-09T04:19:17.926021Z",
     "iopub.status.idle": "2022-06-09T04:19:17.929177Z",
     "shell.execute_reply": "2022-06-09T04:19:17.928669Z"
    },
    "papermill": {
     "duration": 0.015206,
     "end_time": "2022-06-09T04:19:17.931005",
     "exception": false,
     "start_time": "2022-06-09T04:19:17.915799",
     "status": "completed"
    },
    "tags": []
   },
   "outputs": [],
   "source": [
    "#q3.hint()\n",
    "#q3.solution()"
   ]
  },
  {
   "cell_type": "markdown",
   "id": "d8308603",
   "metadata": {
    "papermill": {
     "duration": 0.008976,
     "end_time": "2022-06-09T04:19:17.949281",
     "exception": false,
     "start_time": "2022-06-09T04:19:17.940305",
     "status": "completed"
    },
    "tags": []
   },
   "source": [
    "## 4.\n",
    "\n",
    "Read the following csv dataset of wine reviews into a DataFrame called `reviews`:\n",
    "\n",
    "![](https://i.imgur.com/74RCZtU.png)\n",
    "\n",
    "The filepath to the csv file is `../input/wine-reviews/winemag-data_first150k.csv`. The first few lines look like:\n",
    "\n",
    "```\n",
    ",country,description,designation,points,price,province,region_1,region_2,variety,winery\n",
    "0,US,\"This tremendous 100% varietal wine[...]\",Martha's Vineyard,96,235.0,California,Napa Valley,Napa,Cabernet Sauvignon,Heitz\n",
    "1,Spain,\"Ripe aromas of fig, blackberry and[...]\",Carodorum Selección Especial Reserva,96,110.0,Northern Spain,Toro,,Tinta de Toro,Bodega Carmen Rodríguez\n",
    "```"
   ]
  },
  {
   "cell_type": "code",
   "execution_count": 8,
   "id": "71901979",
   "metadata": {
    "execution": {
     "iopub.execute_input": "2022-06-09T04:19:17.969427Z",
     "iopub.status.busy": "2022-06-09T04:19:17.968888Z",
     "iopub.status.idle": "2022-06-09T04:19:17.976782Z",
     "shell.execute_reply": "2022-06-09T04:19:17.976106Z"
    },
    "papermill": {
     "duration": 0.020131,
     "end_time": "2022-06-09T04:19:17.978643",
     "exception": false,
     "start_time": "2022-06-09T04:19:17.958512",
     "status": "completed"
    },
    "tags": []
   },
   "outputs": [
    {
     "data": {
      "application/javascript": [
       "parent.postMessage({\"jupyterEvent\": \"custom.exercise_interaction\", \"data\": {\"outcomeType\": 4, \"interactionType\": 1, \"questionType\": 1, \"questionId\": \"4_ReadWineCsv\", \"learnToolsVersion\": \"0.3.4\", \"valueTowardsCompletion\": 0.0, \"failureMessage\": \"\", \"exceptionClass\": \"\", \"trace\": \"\"}}, \"*\")"
      ],
      "text/plain": [
       "<IPython.core.display.Javascript object>"
      ]
     },
     "metadata": {},
     "output_type": "display_data"
    },
    {
     "data": {
      "text/markdown": [
       "<span style=\"color:#ccaa33\">Check:</span> When you've updated the starter code, `check()` will tell you whether your code is correct. You need to update the code that creates variable `reviews`"
      ],
      "text/plain": [
       "Check: When you've updated the starter code, `check()` will tell you whether your code is correct. You need to update the code that creates variable `reviews`"
      ]
     },
     "metadata": {},
     "output_type": "display_data"
    },
    {
     "data": {
      "text/markdown": [],
      "text/plain": [
       "<learntools.core.constants.PlaceholderValue at 0x7ff0ac580850>"
      ]
     },
     "execution_count": 8,
     "metadata": {},
     "output_type": "execute_result"
    }
   ],
   "source": [
    "reviews = ____\n",
    "\n",
    "# Check your answer\n",
    "q4.check()\n",
    "reviews"
   ]
  },
  {
   "cell_type": "code",
   "execution_count": 9,
   "id": "a7a1ff26",
   "metadata": {
    "execution": {
     "iopub.execute_input": "2022-06-09T04:19:18.000100Z",
     "iopub.status.busy": "2022-06-09T04:19:17.999534Z",
     "iopub.status.idle": "2022-06-09T04:19:18.002877Z",
     "shell.execute_reply": "2022-06-09T04:19:18.002255Z"
    },
    "papermill": {
     "duration": 0.016501,
     "end_time": "2022-06-09T04:19:18.004859",
     "exception": false,
     "start_time": "2022-06-09T04:19:17.988358",
     "status": "completed"
    },
    "tags": []
   },
   "outputs": [],
   "source": [
    "#q4.hint()\n",
    "#q4.solution()"
   ]
  },
  {
   "cell_type": "markdown",
   "id": "5280e6f2",
   "metadata": {
    "papermill": {
     "duration": 0.01032,
     "end_time": "2022-06-09T04:19:18.025257",
     "exception": false,
     "start_time": "2022-06-09T04:19:18.014937",
     "status": "completed"
    },
    "tags": []
   },
   "source": [
    "## 5.\n",
    "\n",
    "Run the cell below to create and display a DataFrame called `animals`:"
   ]
  },
  {
   "cell_type": "code",
   "execution_count": 10,
   "id": "0cd8e5e2",
   "metadata": {
    "execution": {
     "iopub.execute_input": "2022-06-09T04:19:18.046537Z",
     "iopub.status.busy": "2022-06-09T04:19:18.046004Z",
     "iopub.status.idle": "2022-06-09T04:19:18.054343Z",
     "shell.execute_reply": "2022-06-09T04:19:18.053737Z"
    },
    "papermill": {
     "duration": 0.021012,
     "end_time": "2022-06-09T04:19:18.056180",
     "exception": false,
     "start_time": "2022-06-09T04:19:18.035168",
     "status": "completed"
    },
    "tags": []
   },
   "outputs": [
    {
     "data": {
      "text/html": [
       "<div>\n",
       "<style scoped>\n",
       "    .dataframe tbody tr th:only-of-type {\n",
       "        vertical-align: middle;\n",
       "    }\n",
       "\n",
       "    .dataframe tbody tr th {\n",
       "        vertical-align: top;\n",
       "    }\n",
       "\n",
       "    .dataframe thead th {\n",
       "        text-align: right;\n",
       "    }\n",
       "</style>\n",
       "<table border=\"1\" class=\"dataframe\">\n",
       "  <thead>\n",
       "    <tr style=\"text-align: right;\">\n",
       "      <th></th>\n",
       "      <th>Cows</th>\n",
       "      <th>Goats</th>\n",
       "    </tr>\n",
       "  </thead>\n",
       "  <tbody>\n",
       "    <tr>\n",
       "      <th>Year 1</th>\n",
       "      <td>12</td>\n",
       "      <td>22</td>\n",
       "    </tr>\n",
       "    <tr>\n",
       "      <th>Year 2</th>\n",
       "      <td>20</td>\n",
       "      <td>19</td>\n",
       "    </tr>\n",
       "  </tbody>\n",
       "</table>\n",
       "</div>"
      ],
      "text/plain": [
       "        Cows  Goats\n",
       "Year 1    12     22\n",
       "Year 2    20     19"
      ]
     },
     "execution_count": 10,
     "metadata": {},
     "output_type": "execute_result"
    }
   ],
   "source": [
    "animals = pd.DataFrame({'Cows': [12, 20], 'Goats': [22, 19]}, index=['Year 1', 'Year 2'])\n",
    "animals"
   ]
  },
  {
   "cell_type": "markdown",
   "id": "b1b9a6b9",
   "metadata": {
    "papermill": {
     "duration": 0.009488,
     "end_time": "2022-06-09T04:19:18.075569",
     "exception": false,
     "start_time": "2022-06-09T04:19:18.066081",
     "status": "completed"
    },
    "tags": []
   },
   "source": [
    "In the cell below, write code to save this DataFrame to disk as a csv file with the name `cows_and_goats.csv`."
   ]
  },
  {
   "cell_type": "code",
   "execution_count": 11,
   "id": "9eb6676c",
   "metadata": {
    "execution": {
     "iopub.execute_input": "2022-06-09T04:19:18.097427Z",
     "iopub.status.busy": "2022-06-09T04:19:18.097006Z",
     "iopub.status.idle": "2022-06-09T04:19:18.103708Z",
     "shell.execute_reply": "2022-06-09T04:19:18.103218Z"
    },
    "papermill": {
     "duration": 0.019976,
     "end_time": "2022-06-09T04:19:18.105462",
     "exception": false,
     "start_time": "2022-06-09T04:19:18.085486",
     "status": "completed"
    },
    "tags": []
   },
   "outputs": [
    {
     "data": {
      "application/javascript": [
       "parent.postMessage({\"jupyterEvent\": \"custom.exercise_interaction\", \"data\": {\"outcomeType\": 2, \"failureMessage\": \"Expected file to exist with name `cows_and_goats.csv`\", \"interactionType\": 1, \"questionType\": 2, \"questionId\": \"5_SaveAnimalsCsv\", \"learnToolsVersion\": \"0.3.4\", \"valueTowardsCompletion\": 0.0, \"exceptionClass\": \"\", \"trace\": \"\"}}, \"*\")"
      ],
      "text/plain": [
       "<IPython.core.display.Javascript object>"
      ]
     },
     "metadata": {},
     "output_type": "display_data"
    },
    {
     "data": {
      "text/markdown": [
       "<span style=\"color:#cc3333\">Incorrect:</span> Expected file to exist with name `cows_and_goats.csv`"
      ],
      "text/plain": [
       "Incorrect: Expected file to exist with name `cows_and_goats.csv`"
      ]
     },
     "metadata": {},
     "output_type": "display_data"
    }
   ],
   "source": [
    "# Your code goes here\n",
    "\n",
    "# Check your answer\n",
    "q5.check()"
   ]
  },
  {
   "cell_type": "code",
   "execution_count": 12,
   "id": "bc7eb8b4",
   "metadata": {
    "execution": {
     "iopub.execute_input": "2022-06-09T04:19:18.127365Z",
     "iopub.status.busy": "2022-06-09T04:19:18.126749Z",
     "iopub.status.idle": "2022-06-09T04:19:18.129649Z",
     "shell.execute_reply": "2022-06-09T04:19:18.129206Z"
    },
    "papermill": {
     "duration": 0.015707,
     "end_time": "2022-06-09T04:19:18.131346",
     "exception": false,
     "start_time": "2022-06-09T04:19:18.115639",
     "status": "completed"
    },
    "tags": []
   },
   "outputs": [],
   "source": [
    "#q5.hint()\n",
    "#q5.solution()"
   ]
  },
  {
   "cell_type": "markdown",
   "id": "653792dd",
   "metadata": {
    "papermill": {
     "duration": 0.010765,
     "end_time": "2022-06-09T04:19:18.152611",
     "exception": false,
     "start_time": "2022-06-09T04:19:18.141846",
     "status": "completed"
    },
    "tags": []
   },
   "source": [
    "# Keep going\n",
    "\n",
    "Move on to learn about **[indexing, selecting and assigning](https://www.kaggle.com/residentmario/indexing-selecting-assigning)**."
   ]
  },
  {
   "cell_type": "markdown",
   "id": "022d0c3f",
   "metadata": {
    "papermill": {
     "duration": 0.010168,
     "end_time": "2022-06-09T04:19:18.173312",
     "exception": false,
     "start_time": "2022-06-09T04:19:18.163144",
     "status": "completed"
    },
    "tags": []
   },
   "source": [
    "---\n",
    "\n",
    "\n",
    "\n",
    "\n",
    "*Have questions or comments? Visit the [course discussion forum](https://www.kaggle.com/learn/pandas/discussion) to chat with other learners.*"
   ]
  }
 ],
 "metadata": {
  "kernelspec": {
   "display_name": "Python 3",
   "language": "python",
   "name": "python3"
  },
  "language_info": {
   "codemirror_mode": {
    "name": "ipython",
    "version": 3
   },
   "file_extension": ".py",
   "mimetype": "text/x-python",
   "name": "python",
   "nbconvert_exporter": "python",
   "pygments_lexer": "ipython3",
   "version": "3.7.12"
  },
  "papermill": {
   "default_parameters": {},
   "duration": 10.953564,
   "end_time": "2022-06-09T04:19:19.003384",
   "environment_variables": {},
   "exception": null,
   "input_path": "__notebook__.ipynb",
   "output_path": "__notebook__.ipynb",
   "parameters": {},
   "start_time": "2022-06-09T04:19:08.049820",
   "version": "2.3.4"
  }
 },
 "nbformat": 4,
 "nbformat_minor": 5
}
